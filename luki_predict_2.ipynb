{
 "cells": [
  {
   "cell_type": "code",
   "execution_count": 1,
   "metadata": {
    "collapsed": false
   },
   "outputs": [],
   "source": [
    "%matplotlib inline\n",
    "import numpy as np\n",
    "import pandas as pd\n",
    "import matplotlib.pyplot as plt\n",
    "import math"
   ]
  },
  {
   "cell_type": "code",
   "execution_count": 2,
   "metadata": {
    "collapsed": false
   },
   "outputs": [],
   "source": [
    "# Read training and user data\n",
    "trainFrame = pd.read_csv('train.csv')\n",
    "userFrame = pd.read_csv('users.csv')\n",
    "wordsFrame = pd.read_csv('words.csv')"
   ]
  },
  {
   "cell_type": "markdown",
   "metadata": {},
   "source": [
    "__ Analyse der Konsistenz in den CSV Dateien __\n",
    "\n",
    "Wie zu sehen ist gibt es inkonsistenzen bei den User-Daten. In allen csv Dateien gibt es eine unterscheidliche Zahl von eineindeutigen Users. Wir werden beim zusammenführen dieser Datein einen inner join verwenden damit nur noch Datensätze verwendet werden wo die User überall vorkommen. Leider können wir User nicht über einen Mittelwert auffüllen."
   ]
  },
  {
   "cell_type": "code",
   "execution_count": 3,
   "metadata": {
    "collapsed": false
   },
   "outputs": [
    {
     "name": "stdout",
     "output_type": "stream",
     "text": [
      "Unique Artists in train Frame 50\n",
      "Unique Artists in words Frame 50\n",
      "Unique Users in train Frame 49479\n",
      "Unique Users in words Frame 50928\n",
      "Unique Users in user Frame 48645\n"
     ]
    }
   ],
   "source": [
    "print \"Unique Artists in train Frame %i\" % trainFrame.Artist.unique().size\n",
    "print \"Unique Artists in words Frame %i\" % wordsFrame.Artist.unique().size\n",
    "print \"Unique Users in train Frame %i\" % trainFrame.User.unique().size\n",
    "print \"Unique Users in words Frame %i\" % wordsFrame.User.unique().size\n",
    "print \"Unique Users in user Frame %i\" % userFrame.RESPID.unique().size"
   ]
  },
  {
   "cell_type": "markdown",
   "metadata": {},
   "source": [
    "__ Markiere inkonsistente User/Track records__\n",
    "\n",
    "Dieser Schritt ist nicht mehr nötig, wenn die dateien durch einen InnerJoin zusammengeführt werden.\n",
    "Uns ist aufgefallen, dass nicht jeder user der users.csv auch in train.csv vorkommt und umgekehrt."
   ]
  },
  {
   "cell_type": "code",
   "execution_count": 4,
   "metadata": {
    "collapsed": false
   },
   "outputs": [],
   "source": [
    "# Mark inconsistent data\n",
    "#unique_track_users = np.unique(trackFrame.User)\n",
    "#unique_users = np.unique(userFrame.RESPID)\n",
    "#udiff = np.setdiff1d(unique_track_users, unique_users)\n",
    "#trackFrame['inconsistent'] = trackFrame.User.apply(lambda uid: uid in udiff)\n",
    "#userFrame['inconsistent'] = userFrame.RESPID.apply(lambda uid: uid in udiff)"
   ]
  },
  {
   "cell_type": "markdown",
   "metadata": {},
   "source": [
    "__ Erstellen von Dummy-Werte/Spalten für nicht-nummerische Spalten __\n",
    "\n",
    "Die Spalten GENDER, REGION, WORKING und MUSIC sind alle mit nicht-nummerischen Werten Gefüllt. Diese Werte müssen nun in nummerische Werte umgewandelt werden. Dafür werden sogenannte Dummy Werte erstellt. "
   ]
  },
  {
   "cell_type": "code",
   "execution_count": 5,
   "metadata": {
    "collapsed": false
   },
   "outputs": [
    {
     "data": {
      "text/html": [
       "<div style=\"max-height:1000px;max-width:1500px;overflow:auto;\">\n",
       "<table border=\"1\" class=\"dataframe\">\n",
       "  <thead>\n",
       "    <tr style=\"text-align: right;\">\n",
       "      <th></th>\n",
       "      <th>sex_Female</th>\n",
       "      <th>sex_Male</th>\n",
       "    </tr>\n",
       "  </thead>\n",
       "  <tbody>\n",
       "    <tr>\n",
       "      <th>0</th>\n",
       "      <td> 1</td>\n",
       "      <td> 0</td>\n",
       "    </tr>\n",
       "    <tr>\n",
       "      <th>1</th>\n",
       "      <td> 1</td>\n",
       "      <td> 0</td>\n",
       "    </tr>\n",
       "    <tr>\n",
       "      <th>2</th>\n",
       "      <td> 1</td>\n",
       "      <td> 0</td>\n",
       "    </tr>\n",
       "    <tr>\n",
       "      <th>3</th>\n",
       "      <td> 1</td>\n",
       "      <td> 0</td>\n",
       "    </tr>\n",
       "    <tr>\n",
       "      <th>4</th>\n",
       "      <td> 1</td>\n",
       "      <td> 0</td>\n",
       "    </tr>\n",
       "  </tbody>\n",
       "</table>\n",
       "<p>5 rows × 2 columns</p>\n",
       "</div>"
      ],
      "text/plain": [
       "   sex_Female  sex_Male\n",
       "0           1         0\n",
       "1           1         0\n",
       "2           1         0\n",
       "3           1         0\n",
       "4           1         0\n",
       "\n",
       "[5 rows x 2 columns]"
      ]
     },
     "execution_count": 5,
     "metadata": {},
     "output_type": "execute_result"
    }
   ],
   "source": [
    "# Als beispiel werden für die einträge in der Spalte GENDER jeweils eine neue Spalte gemacht\n",
    "# Diese spalten enthalten dann nur noch 0 oder 1 ob es sich um Female oder Male handelt.\n",
    "pd.get_dummies(userFrame['GENDER'], prefix=\"sex\").head(5)"
   ]
  },
  {
   "cell_type": "code",
   "execution_count": 6,
   "metadata": {
    "collapsed": false
   },
   "outputs": [
    {
     "data": {
      "text/html": [
       "<div style=\"max-height:1000px;max-width:1500px;overflow:auto;\">\n",
       "<table border=\"1\" class=\"dataframe\">\n",
       "  <thead>\n",
       "    <tr style=\"text-align: right;\">\n",
       "      <th></th>\n",
       "      <th>Artist</th>\n",
       "      <th>User</th>\n",
       "      <th>LIKE_ARTIST</th>\n",
       "      <th>Uninspired</th>\n",
       "      <th>Sophisticated</th>\n",
       "      <th>Aggressive</th>\n",
       "      <th>Edgy</th>\n",
       "      <th>Sociable</th>\n",
       "      <th>Laid back</th>\n",
       "      <th>Wholesome</th>\n",
       "      <th>Uplifting</th>\n",
       "      <th>Intriguing</th>\n",
       "      <th>Legendary</th>\n",
       "      <th>Free</th>\n",
       "      <th>Thoughtful</th>\n",
       "      <th>Outspoken</th>\n",
       "      <th>Serious</th>\n",
       "      <th>Good lyrics</th>\n",
       "      <th>Unattractive</th>\n",
       "      <th>Confident</th>\n",
       "      <th></th>\n",
       "    </tr>\n",
       "  </thead>\n",
       "  <tbody>\n",
       "    <tr>\n",
       "      <th>0</th>\n",
       "      <td> 47</td>\n",
       "      <td> 45969</td>\n",
       "      <td>NaN</td>\n",
       "      <td>NaN</td>\n",
       "      <td>  0</td>\n",
       "      <td>NaN</td>\n",
       "      <td> 0</td>\n",
       "      <td>  0</td>\n",
       "      <td>  0</td>\n",
       "      <td>NaN</td>\n",
       "      <td>  0</td>\n",
       "      <td>  0</td>\n",
       "      <td>NaN</td>\n",
       "      <td>  0</td>\n",
       "      <td> 0</td>\n",
       "      <td>  0</td>\n",
       "      <td>NaN</td>\n",
       "      <td>NaN</td>\n",
       "      <td>NaN</td>\n",
       "      <td>NaN</td>\n",
       "      <td>...</td>\n",
       "    </tr>\n",
       "    <tr>\n",
       "      <th>1</th>\n",
       "      <td> 35</td>\n",
       "      <td> 29118</td>\n",
       "      <td>NaN</td>\n",
       "      <td>  0</td>\n",
       "      <td>NaN</td>\n",
       "      <td>  0</td>\n",
       "      <td> 0</td>\n",
       "      <td>NaN</td>\n",
       "      <td>NaN</td>\n",
       "      <td>NaN</td>\n",
       "      <td>NaN</td>\n",
       "      <td>NaN</td>\n",
       "      <td>NaN</td>\n",
       "      <td>NaN</td>\n",
       "      <td> 0</td>\n",
       "      <td>NaN</td>\n",
       "      <td>  0</td>\n",
       "      <td>  0</td>\n",
       "      <td>  0</td>\n",
       "      <td>  0</td>\n",
       "      <td>...</td>\n",
       "    </tr>\n",
       "    <tr>\n",
       "      <th>2</th>\n",
       "      <td> 14</td>\n",
       "      <td> 31544</td>\n",
       "      <td>NaN</td>\n",
       "      <td>  0</td>\n",
       "      <td>NaN</td>\n",
       "      <td>  0</td>\n",
       "      <td> 0</td>\n",
       "      <td>NaN</td>\n",
       "      <td>NaN</td>\n",
       "      <td>NaN</td>\n",
       "      <td>NaN</td>\n",
       "      <td>NaN</td>\n",
       "      <td>NaN</td>\n",
       "      <td>NaN</td>\n",
       "      <td> 1</td>\n",
       "      <td>NaN</td>\n",
       "      <td>  0</td>\n",
       "      <td>  0</td>\n",
       "      <td>  0</td>\n",
       "      <td>  0</td>\n",
       "      <td>...</td>\n",
       "    </tr>\n",
       "    <tr>\n",
       "      <th>3</th>\n",
       "      <td> 23</td>\n",
       "      <td> 18085</td>\n",
       "      <td>NaN</td>\n",
       "      <td>NaN</td>\n",
       "      <td>NaN</td>\n",
       "      <td>  0</td>\n",
       "      <td> 0</td>\n",
       "      <td>NaN</td>\n",
       "      <td>NaN</td>\n",
       "      <td>NaN</td>\n",
       "      <td>NaN</td>\n",
       "      <td>NaN</td>\n",
       "      <td>NaN</td>\n",
       "      <td>NaN</td>\n",
       "      <td> 0</td>\n",
       "      <td>NaN</td>\n",
       "      <td>  0</td>\n",
       "      <td>  0</td>\n",
       "      <td>  0</td>\n",
       "      <td>  0</td>\n",
       "      <td>...</td>\n",
       "    </tr>\n",
       "    <tr>\n",
       "      <th>4</th>\n",
       "      <td> 23</td>\n",
       "      <td> 18084</td>\n",
       "      <td>NaN</td>\n",
       "      <td>NaN</td>\n",
       "      <td>NaN</td>\n",
       "      <td>  0</td>\n",
       "      <td> 0</td>\n",
       "      <td>NaN</td>\n",
       "      <td>NaN</td>\n",
       "      <td>NaN</td>\n",
       "      <td>NaN</td>\n",
       "      <td>NaN</td>\n",
       "      <td>NaN</td>\n",
       "      <td>NaN</td>\n",
       "      <td> 0</td>\n",
       "      <td>NaN</td>\n",
       "      <td>  0</td>\n",
       "      <td>  0</td>\n",
       "      <td>  0</td>\n",
       "      <td>  0</td>\n",
       "      <td>...</td>\n",
       "    </tr>\n",
       "  </tbody>\n",
       "</table>\n",
       "<p>5 rows × 100 columns</p>\n",
       "</div>"
      ],
      "text/plain": [
       "   Artist   User  LIKE_ARTIST  Uninspired  Sophisticated  Aggressive  Edgy  \\\n",
       "0      47  45969          NaN         NaN              0         NaN     0   \n",
       "1      35  29118          NaN           0            NaN           0     0   \n",
       "2      14  31544          NaN           0            NaN           0     0   \n",
       "3      23  18085          NaN         NaN            NaN           0     0   \n",
       "4      23  18084          NaN         NaN            NaN           0     0   \n",
       "\n",
       "   Sociable  Laid back  Wholesome  Uplifting  Intriguing  Legendary  Free  \\\n",
       "0         0          0        NaN          0           0        NaN     0   \n",
       "1       NaN        NaN        NaN        NaN         NaN        NaN   NaN   \n",
       "2       NaN        NaN        NaN        NaN         NaN        NaN   NaN   \n",
       "3       NaN        NaN        NaN        NaN         NaN        NaN   NaN   \n",
       "4       NaN        NaN        NaN        NaN         NaN        NaN   NaN   \n",
       "\n",
       "   Thoughtful  Outspoken  Serious  Good lyrics  Unattractive  Confident      \n",
       "0           0          0      NaN          NaN           NaN        NaN ...  \n",
       "1           0        NaN        0            0             0          0 ...  \n",
       "2           1        NaN        0            0             0          0 ...  \n",
       "3           0        NaN        0            0             0          0 ...  \n",
       "4           0        NaN        0            0             0          0 ...  \n",
       "\n",
       "[5 rows x 100 columns]"
      ]
     },
     "execution_count": 6,
     "metadata": {},
     "output_type": "execute_result"
    }
   ],
   "source": [
    "# Make rich features out of verbal columns GENDER, REGION, WORKING, MUSIC\n",
    "userFrameDummy = pd.concat([userFrame,\n",
    "                            pd.get_dummies(userFrame['GENDER'], prefix=\"sex\"),\n",
    "                            pd.get_dummies(userFrame['REGION'], prefix=\"region\"),\n",
    "                            pd.get_dummies(userFrame['WORKING'], prefix=\"work\"),\n",
    "                            pd.get_dummies(userFrame['MUSIC'], prefix=\"music\")], \n",
    "                           axis=1)\n",
    "\n",
    "wordsFrameDummy = pd.concat([wordsFrame,\n",
    "                             pd.get_dummies(wordsFrame.HEARD_OF, prefix='heard'),\n",
    "                             pd.get_dummies(wordsFrame.OWN_ARTIST_MUSIC, prefix='own')],\n",
    "                            axis=1)\n",
    "\n",
    "# Die verbalen Spalten können nach dem transformieren gelöscht werden, diese haben keine Bedeutung mehr.\n",
    "userFrameDummy = userFrameDummy.drop(['GENDER', 'REGION', 'WORKING', 'MUSIC', 'sex_Male'], 1)\n",
    "wordsFrameDummy = wordsFrameDummy.drop(['HEARD_OF', 'OWN_ARTIST_MUSIC'], 1)\n",
    "wordsFrameDummy.head()"
   ]
  },
  {
   "cell_type": "code",
   "execution_count": 7,
   "metadata": {
    "collapsed": false
   },
   "outputs": [],
   "source": [
    "# Fill NAN with 0, and then fill nan of LIKE_ARTIST back to np.nan, for mean calculation\n",
    "wordsFrameDummy = wordsFrameDummy.fillna(0)\n",
    "wordsFrameDummy['LIKE_ARTIST'] = wordsFrameDummy['LIKE_ARTIST'].apply(lambda x: np.nan if x == 0 else x)"
   ]
  },
  {
   "cell_type": "markdown",
   "metadata": {},
   "source": [
    "__ Konvertieren von verbalen \"Nummern\" zu Nummern __"
   ]
  },
  {
   "cell_type": "code",
   "execution_count": 8,
   "metadata": {
    "collapsed": false
   },
   "outputs": [],
   "source": [
    "# Diese Funktion transformiert die unterschiedlichen Stunden angaben in verbaler Form \n",
    "# zu einer einzigen nummerischen Ziffer.\n",
    "def hourTransform(val):\n",
    "    if val in ['Less than an hour', '0', '0 Hours']:\n",
    "        return 0\n",
    "    if val in ['More than 16 hours', '16+ hours']:\n",
    "        return 18\n",
    "    for i in xrange(24):\n",
    "        if val in [str(i) + ' hour', str(i) + ' hours', str(i)]:\n",
    "            return i\n",
    "    return None"
   ]
  },
  {
   "cell_type": "code",
   "execution_count": 9,
   "metadata": {
    "collapsed": false
   },
   "outputs": [],
   "source": [
    "userFrameDummy['LIST_OWN'] = userFrameDummy['LIST_OWN'].apply(hourTransform)\n",
    "#userFrameDummy['LIST_OWN'] = userFrameDummy['LIST_OWN'].fillna(userFrameDummy['LIST_OWN'].dropna().mean())\n",
    "#userFrameDummy['LIST_OWN'] = userFrameDummy['LIST_OWN'].fillna(0)"
   ]
  },
  {
   "cell_type": "code",
   "execution_count": 10,
   "metadata": {
    "collapsed": false
   },
   "outputs": [
    {
     "data": {
      "text/plain": [
       "array([  1.,   2.,   3.,   5.,  nan,   7.,   0.,   8.,  16.,  18.,   6.,\n",
       "         4.,  12.,  14.,  10.,  15.,   9.,  11.,  13.,  20.,  22.,  17.])"
      ]
     },
     "execution_count": 10,
     "metadata": {},
     "output_type": "execute_result"
    }
   ],
   "source": [
    "userFrameDummy['LIST_OWN'].unique()"
   ]
  },
  {
   "cell_type": "code",
   "execution_count": 11,
   "metadata": {
    "collapsed": false
   },
   "outputs": [],
   "source": [
    "userFrameDummy['LIST_BACK'] = userFrameDummy['LIST_BACK'].apply(hourTransform)\n",
    "#userFrameDummy['LIST_BACK'] = userFrameDummy['LIST_BACK'].fillna(userFrameDummy['LIST_BACK'].dropna().mean())\n",
    "#userFrameDummy['LIST_BACK'] = userFrameDummy['LIST_BACK'].fillna(0)"
   ]
  },
  {
   "cell_type": "code",
   "execution_count": 12,
   "metadata": {
    "collapsed": false
   },
   "outputs": [
    {
     "data": {
      "text/plain": [
       "array([ nan,   1.,   0.,   3.,   6.,   2.,   5.,   7.,  18.,   8.,   4.,\n",
       "        16.,   9.,  10.,  12.,  11.,  14.,  15.,  20.,  13.,  21.,  19.])"
      ]
     },
     "execution_count": 12,
     "metadata": {},
     "output_type": "execute_result"
    }
   ],
   "source": [
    "userFrameDummy['LIST_BACK'].unique()"
   ]
  },
  {
   "cell_type": "code",
   "execution_count": 13,
   "metadata": {
    "collapsed": false
   },
   "outputs": [],
   "source": [
    "# Fill NAN age information with the median of all ages\n",
    "# userFrameAge = userFrameDummy\n",
    "# userFrameAge['AGE'] = userFrameDummy['AGE'].fillna(userFrameDummy['AGE'].dropna().median())"
   ]
  },
  {
   "cell_type": "code",
   "execution_count": 14,
   "metadata": {
    "collapsed": false
   },
   "outputs": [],
   "source": [
    "#userFrameDummy['Q16'] = userFrameDummy['Q16'].fillna(userFrameDummy['Q16'].dropna().mean())\n",
    "#userFrameDummy['Q18'] = userFrameDummy['Q18'].fillna(userFrameDummy['Q18'].dropna().mean())\n",
    "#userFrameDummy['Q19'] = userFrameDummy['Q19'].fillna(userFrameDummy['Q19'].dropna().mean())"
   ]
  },
  {
   "cell_type": "code",
   "execution_count": null,
   "metadata": {
    "collapsed": false
   },
   "outputs": [],
   "source": []
  },
  {
   "cell_type": "markdown",
   "metadata": {},
   "source": [
    "__Zusammenführen von users and train daten__"
   ]
  },
  {
   "cell_type": "code",
   "execution_count": 15,
   "metadata": {
    "collapsed": false
   },
   "outputs": [
    {
     "name": "stdout",
     "output_type": "stream",
     "text": [
      "118301, 48645, 188690\n"
     ]
    }
   ],
   "source": [
    "wcount, ucount, tcount = wordsFrame[['Artist']].count(), userFrame['RESPID'].count(), trainFrame['Track'].count()\n",
    "print \"%i, %i, %i\" % (wcount, ucount, tcount)"
   ]
  },
  {
   "cell_type": "code",
   "execution_count": 16,
   "metadata": {
    "collapsed": false
   },
   "outputs": [
    {
     "name": "stdout",
     "output_type": "stream",
     "text": [
      "artist user combinations: 236602\n",
      "unique artist user combinations: 236602\n"
     ]
    }
   ],
   "source": [
    "artist_user_count = wordsFrame[['Artist','User']].values.size\n",
    "# Check for uniqueness\n",
    "a = wordsFrame[['Artist','User']].values\n",
    "b = np.ascontiguousarray(a).view(np.dtype((np.void, a.dtype.itemsize * a.shape[1])))\n",
    "_, idx = np.unique(b, return_index=True)\n",
    "artist_user_unique = unique_a = a[idx].size\n",
    "\n",
    "print \"artist user combinations: %i\" % artist_user_count\n",
    "print \"unique artist user combinations: %i\" % artist_user_unique"
   ]
  },
  {
   "cell_type": "code",
   "execution_count": 17,
   "metadata": {
    "collapsed": false
   },
   "outputs": [
    {
     "data": {
      "text/plain": [
       "Artist       174779\n",
       "Track        174779\n",
       "User         174779\n",
       "Rating       174779\n",
       "Time         174779\n",
       "AGE          172949\n",
       "LIST_OWN     156680\n",
       "LIST_BACK    156835\n",
       "Q1           174779\n",
       "Q2           174779\n",
       "Q3           174779\n",
       "Q4           174779\n",
       "Q5           174779\n",
       "Q6           174779\n",
       "Q7           174779\n",
       "...\n",
       "Unnamed: 87                                      174779\n",
       "heard_Ever heard music by                        174779\n",
       "heard_Ever heard of                              174779\n",
       "heard_Heard of                                   174779\n",
       "heard_Heard of and listened to music EVER        174779\n",
       "heard_Heard of and listened to music RECENTLY    174779\n",
       "heard_Listened to recently                       174779\n",
       "heard_Never heard of                             174779\n",
       "own_Don�t know                                   174779\n",
       "own_Don�t know                                   174779\n",
       "own_Own a little of their music                  174779\n",
       "own_Own a lot of their music                     174779\n",
       "own_Own all or most of their music               174779\n",
       "own_Own none of their music                      174779\n",
       "own_don`t know                                   174779\n",
       "Length: 151, dtype: int64"
      ]
     },
     "execution_count": 17,
     "metadata": {},
     "output_type": "execute_result"
    }
   ],
   "source": [
    "X_all = pd.merge(trainFrame, userFrameDummy, how='inner', left_on='User', right_on='RESPID').drop('RESPID',1)\n",
    "X_all = pd.merge(X_all, wordsFrameDummy, how='inner', on=['Artist', 'User'])\n",
    "X_all.shape\n",
    "X_all.count()"
   ]
  },
  {
   "cell_type": "markdown",
   "metadata": {},
   "source": [
    "__ features und target trennen __"
   ]
  },
  {
   "cell_type": "code",
   "execution_count": 18,
   "metadata": {
    "collapsed": false
   },
   "outputs": [],
   "source": [
    "#trainFrame = trainFrame.drop(['Time'], 1) # Time ist nicht nötig\n",
    "y_all = X_all['Rating']\n",
    "X_all = X_all.drop('Rating',1)"
   ]
  },
  {
   "cell_type": "markdown",
   "metadata": {},
   "source": [
    "__ Aufsplitten in Trainings und Test Daten __\n",
    "\n",
    "Bisher wurden die NAN Werte noch nicht ausgefüllt um das Resultat nicht zu verfälschen"
   ]
  },
  {
   "cell_type": "code",
   "execution_count": 19,
   "metadata": {
    "collapsed": false
   },
   "outputs": [],
   "source": [
    "# Es werden 20% der Trainingsdaten zufällig ausgewählt für die Testdaten\n",
    "from sklearn import cross_validation\n",
    "X_train, X_test, y_train, y_test = cross_validation.train_test_split(\n",
    "    X_all, y_all, test_size=0.20, random_state=2)"
   ]
  },
  {
   "cell_type": "markdown",
   "metadata": {},
   "source": [
    "__ Fülle NaN Alter und gruppiere __"
   ]
  },
  {
   "cell_type": "code",
   "execution_count": 1,
   "metadata": {
    "collapsed": false
   },
   "outputs": [
    {
     "ename": "NameError",
     "evalue": "name 'X_train' is not defined",
     "output_type": "error",
     "traceback": [
      "\u001b[1;31m---------------------------------------------------------------------------\u001b[0m",
      "\u001b[1;31mNameError\u001b[0m                                 Traceback (most recent call last)",
      "\u001b[1;32m<ipython-input-1-fafc64c25e05>\u001b[0m in \u001b[0;36m<module>\u001b[1;34m()\u001b[0m\n\u001b[1;32m----> 1\u001b[1;33m \u001b[0mX_train_age\u001b[0m \u001b[1;33m=\u001b[0m \u001b[0mX_train\u001b[0m\u001b[1;33m\u001b[0m\u001b[0m\n\u001b[0m\u001b[0;32m      2\u001b[0m \u001b[0mX_train_age\u001b[0m\u001b[1;33m[\u001b[0m\u001b[1;34m'AGE'\u001b[0m\u001b[1;33m]\u001b[0m \u001b[1;33m=\u001b[0m \u001b[0mX_train_age\u001b[0m\u001b[1;33m[\u001b[0m\u001b[1;34m'AGE'\u001b[0m\u001b[1;33m]\u001b[0m\u001b[1;33m.\u001b[0m\u001b[0mfillna\u001b[0m\u001b[1;33m(\u001b[0m\u001b[0mX_train_age\u001b[0m\u001b[1;33m[\u001b[0m\u001b[1;34m'AGE'\u001b[0m\u001b[1;33m]\u001b[0m\u001b[1;33m.\u001b[0m\u001b[0mmedian\u001b[0m\u001b[1;33m(\u001b[0m\u001b[1;33m)\u001b[0m\u001b[1;33m)\u001b[0m\u001b[1;33m\u001b[0m\u001b[0m\n\u001b[0;32m      3\u001b[0m \u001b[0mX_train_age\u001b[0m\u001b[1;33m[\u001b[0m\u001b[1;34m'new_age'\u001b[0m\u001b[1;33m]\u001b[0m \u001b[1;33m=\u001b[0m \u001b[0mX_train_age\u001b[0m\u001b[1;33m[\u001b[0m\u001b[1;34m'AGE'\u001b[0m\u001b[1;33m]\u001b[0m\u001b[1;33m.\u001b[0m\u001b[0mapply\u001b[0m\u001b[1;33m(\u001b[0m\u001b[1;32mlambda\u001b[0m \u001b[0mx\u001b[0m\u001b[1;33m:\u001b[0m \u001b[0mint\u001b[0m\u001b[1;33m(\u001b[0m\u001b[0mx\u001b[0m\u001b[1;33m/\u001b[0m\u001b[1;36m10\u001b[0m\u001b[1;33m)\u001b[0m \u001b[1;33m)\u001b[0m\u001b[1;33m\u001b[0m\u001b[0m\n\u001b[0;32m      4\u001b[0m X_train_age = pd.concat([X_train_age,\n\u001b[0;32m      5\u001b[0m                      pd.get_dummies(X_train_age['new_age'], prefix=\"age\")], \n",
      "\u001b[1;31mNameError\u001b[0m: name 'X_train' is not defined"
     ]
    }
   ],
   "source": [
    "X_train_age = X_train\n",
    "X_train_age['AGE'] = X_train_age['AGE'].fillna(X_train_age['AGE'].median())\n",
    "X_train_age['new_age'] = X_train_age['AGE'].apply(lambda x: int(x/10) )\n",
    "X_train_age = pd.concat([X_train_age,\n",
    "                     pd.get_dummies(X_train_age['new_age'], prefix=\"age\")], \n",
    "                    axis=1)\n",
    "X_train_age = X_train_age.drop(['new_age', 'AGE'], 1)"
   ]
  },
  {
   "cell_type": "code",
   "execution_count": 21,
   "metadata": {
    "collapsed": false
   },
   "outputs": [
    {
     "data": {
      "text/plain": [
       "Index([u'age_5', u'age_6', u'age_7', u'age_8', u'age_9'], dtype='object')"
      ]
     },
     "execution_count": 21,
     "metadata": {},
     "output_type": "execute_result"
    }
   ],
   "source": [
    "X_train.columns[-5:]"
   ]
  },
  {
   "cell_type": "markdown",
   "metadata": {},
   "source": [
    "__LinearRegression / CrossValidation__"
   ]
  },
  {
   "cell_type": "code",
   "execution_count": null,
   "metadata": {
    "collapsed": false
   },
   "outputs": [],
   "source": [
    "from sklearn.linear_model import LinearRegression\n",
    "from sklearn.pipeline import make_pipeline\n",
    "from sklearn import metrics\n",
    "from sklearn import cross_validation\n",
    "from sklearn import preprocessing\n",
    "#from sklearn.preprocessing import PolynomialFeatures\n",
    "\n",
    "model = LinearRegression()\n",
    "\n",
    "cv = cross_validation.ShuffleSplit(X_train.shape[0], n_iter=3,\n",
    "    test_size=0.3, random_state=0)\n",
    "\n",
    "mean_preprocessor = preprocessing.Imputer(strategy=\"mean\", axis=0)\n",
    "scaler_preprocessor = preprocessing.StandardScaler()\n",
    "#polynom = PolynomialFeatures(degree=2, include_bias=False)\n",
    "clf = make_pipeline(mean_preprocessor, scaler_preprocessor, model)\n",
    "scores = cross_validation.cross_val_score(clf, X_train, y_train, scoring=\"mean_squared_error\", cv=cv)\n",
    "(scores.max() * -1) **0.5"
   ]
  },
  {
   "cell_type": "code",
   "execution_count": null,
   "metadata": {
    "collapsed": false
   },
   "outputs": [],
   "source": [
    "XX_train = mean_preprocessor.fit_transform(X_train)\n",
    "XX_train, XX_test, yy_train, yy_test = cross_validation.train_test_split(\n",
    "    XX_train, y_train, test_size=0.20, random_state=0)\n",
    "model = model.fit(XX_train, yy_train)\n",
    "mse = metrics.mean_squared_error(model.predict(XX_test), yy_test)\n",
    "rmse = mse**0.5\n",
    "rmse"
   ]
  },
  {
   "cell_type": "code",
   "execution_count": 89,
   "metadata": {
    "collapsed": false
   },
   "outputs": [
    {
     "data": {
      "text/plain": [
       "14.548748110512097"
      ]
     },
     "execution_count": 89,
     "metadata": {},
     "output_type": "execute_result"
    }
   ],
   "source": [
    "# http://blog.yhathq.com/posts/random-forests-in-python.html\n",
    "from sklearn.ensemble.forest import RandomForestRegressor\n",
    "model = RandomForestRegressor(random_state=0, n_estimators=150, n_jobs=-1)\n",
    "XX_train = mean_preprocessor.fit_transform(X_train)\n",
    "XX_train, XX_test, yy_train, yy_test = cross_validation.train_test_split(\n",
    "    XX_train, y_train, test_size=0.20, random_state=0)\n",
    "model = model.fit(XX_train, yy_train)\n",
    "mse = metrics.mean_squared_error(model.predict(XX_test), yy_test)\n",
    "rmse = mse**0.5\n",
    "rmse"
   ]
  },
  {
   "cell_type": "code",
   "execution_count": 78,
   "metadata": {
    "collapsed": false
   },
   "outputs": [],
   "source": [
    "from sklearn.externals import joblib"
   ]
  },
  {
   "cell_type": "code",
   "execution_count": 90,
   "metadata": {
    "collapsed": false
   },
   "outputs": [
    {
     "data": {
      "text/plain": [
       "['persistent/RandomForestAge10GroupEst150.pkl',\n",
       " 'persistent/RandomForestAge10GroupEst150.pkl_01.npy',\n",
       " 'persistent/RandomForestAge10GroupEst150.pkl_02.npy',\n",
       " 'persistent/RandomForestAge10GroupEst150.pkl_03.npy',\n",
       " 'persistent/RandomForestAge10GroupEst150.pkl_04.npy',\n",
       " 'persistent/RandomForestAge10GroupEst150.pkl_05.npy',\n",
       " 'persistent/RandomForestAge10GroupEst150.pkl_06.npy',\n",
       " 'persistent/RandomForestAge10GroupEst150.pkl_07.npy',\n",
       " 'persistent/RandomForestAge10GroupEst150.pkl_08.npy',\n",
       " 'persistent/RandomForestAge10GroupEst150.pkl_09.npy',\n",
       " 'persistent/RandomForestAge10GroupEst150.pkl_10.npy',\n",
       " 'persistent/RandomForestAge10GroupEst150.pkl_11.npy',\n",
       " 'persistent/RandomForestAge10GroupEst150.pkl_12.npy',\n",
       " 'persistent/RandomForestAge10GroupEst150.pkl_13.npy',\n",
       " 'persistent/RandomForestAge10GroupEst150.pkl_14.npy',\n",
       " 'persistent/RandomForestAge10GroupEst150.pkl_15.npy',\n",
       " 'persistent/RandomForestAge10GroupEst150.pkl_16.npy',\n",
       " 'persistent/RandomForestAge10GroupEst150.pkl_17.npy',\n",
       " 'persistent/RandomForestAge10GroupEst150.pkl_18.npy',\n",
       " 'persistent/RandomForestAge10GroupEst150.pkl_19.npy',\n",
       " 'persistent/RandomForestAge10GroupEst150.pkl_20.npy',\n",
       " 'persistent/RandomForestAge10GroupEst150.pkl_21.npy',\n",
       " 'persistent/RandomForestAge10GroupEst150.pkl_22.npy',\n",
       " 'persistent/RandomForestAge10GroupEst150.pkl_23.npy',\n",
       " 'persistent/RandomForestAge10GroupEst150.pkl_24.npy',\n",
       " 'persistent/RandomForestAge10GroupEst150.pkl_25.npy',\n",
       " 'persistent/RandomForestAge10GroupEst150.pkl_26.npy',\n",
       " 'persistent/RandomForestAge10GroupEst150.pkl_27.npy',\n",
       " 'persistent/RandomForestAge10GroupEst150.pkl_28.npy',\n",
       " 'persistent/RandomForestAge10GroupEst150.pkl_29.npy',\n",
       " 'persistent/RandomForestAge10GroupEst150.pkl_30.npy',\n",
       " 'persistent/RandomForestAge10GroupEst150.pkl_31.npy',\n",
       " 'persistent/RandomForestAge10GroupEst150.pkl_32.npy',\n",
       " 'persistent/RandomForestAge10GroupEst150.pkl_33.npy',\n",
       " 'persistent/RandomForestAge10GroupEst150.pkl_34.npy',\n",
       " 'persistent/RandomForestAge10GroupEst150.pkl_35.npy',\n",
       " 'persistent/RandomForestAge10GroupEst150.pkl_36.npy',\n",
       " 'persistent/RandomForestAge10GroupEst150.pkl_37.npy',\n",
       " 'persistent/RandomForestAge10GroupEst150.pkl_38.npy',\n",
       " 'persistent/RandomForestAge10GroupEst150.pkl_39.npy',\n",
       " 'persistent/RandomForestAge10GroupEst150.pkl_40.npy',\n",
       " 'persistent/RandomForestAge10GroupEst150.pkl_41.npy',\n",
       " 'persistent/RandomForestAge10GroupEst150.pkl_42.npy',\n",
       " 'persistent/RandomForestAge10GroupEst150.pkl_43.npy',\n",
       " 'persistent/RandomForestAge10GroupEst150.pkl_44.npy',\n",
       " 'persistent/RandomForestAge10GroupEst150.pkl_45.npy',\n",
       " 'persistent/RandomForestAge10GroupEst150.pkl_46.npy',\n",
       " 'persistent/RandomForestAge10GroupEst150.pkl_47.npy',\n",
       " 'persistent/RandomForestAge10GroupEst150.pkl_48.npy',\n",
       " 'persistent/RandomForestAge10GroupEst150.pkl_49.npy',\n",
       " 'persistent/RandomForestAge10GroupEst150.pkl_50.npy',\n",
       " 'persistent/RandomForestAge10GroupEst150.pkl_51.npy',\n",
       " 'persistent/RandomForestAge10GroupEst150.pkl_52.npy',\n",
       " 'persistent/RandomForestAge10GroupEst150.pkl_53.npy',\n",
       " 'persistent/RandomForestAge10GroupEst150.pkl_54.npy',\n",
       " 'persistent/RandomForestAge10GroupEst150.pkl_55.npy',\n",
       " 'persistent/RandomForestAge10GroupEst150.pkl_56.npy',\n",
       " 'persistent/RandomForestAge10GroupEst150.pkl_57.npy',\n",
       " 'persistent/RandomForestAge10GroupEst150.pkl_58.npy',\n",
       " 'persistent/RandomForestAge10GroupEst150.pkl_59.npy',\n",
       " 'persistent/RandomForestAge10GroupEst150.pkl_60.npy',\n",
       " 'persistent/RandomForestAge10GroupEst150.pkl_61.npy',\n",
       " 'persistent/RandomForestAge10GroupEst150.pkl_62.npy',\n",
       " 'persistent/RandomForestAge10GroupEst150.pkl_63.npy',\n",
       " 'persistent/RandomForestAge10GroupEst150.pkl_64.npy',\n",
       " 'persistent/RandomForestAge10GroupEst150.pkl_65.npy',\n",
       " 'persistent/RandomForestAge10GroupEst150.pkl_66.npy',\n",
       " 'persistent/RandomForestAge10GroupEst150.pkl_67.npy',\n",
       " 'persistent/RandomForestAge10GroupEst150.pkl_68.npy',\n",
       " 'persistent/RandomForestAge10GroupEst150.pkl_69.npy',\n",
       " 'persistent/RandomForestAge10GroupEst150.pkl_70.npy',\n",
       " 'persistent/RandomForestAge10GroupEst150.pkl_71.npy',\n",
       " 'persistent/RandomForestAge10GroupEst150.pkl_72.npy',\n",
       " 'persistent/RandomForestAge10GroupEst150.pkl_73.npy',\n",
       " 'persistent/RandomForestAge10GroupEst150.pkl_74.npy',\n",
       " 'persistent/RandomForestAge10GroupEst150.pkl_75.npy',\n",
       " 'persistent/RandomForestAge10GroupEst150.pkl_76.npy',\n",
       " 'persistent/RandomForestAge10GroupEst150.pkl_77.npy',\n",
       " 'persistent/RandomForestAge10GroupEst150.pkl_78.npy',\n",
       " 'persistent/RandomForestAge10GroupEst150.pkl_79.npy',\n",
       " 'persistent/RandomForestAge10GroupEst150.pkl_80.npy',\n",
       " 'persistent/RandomForestAge10GroupEst150.pkl_81.npy',\n",
       " 'persistent/RandomForestAge10GroupEst150.pkl_82.npy',\n",
       " 'persistent/RandomForestAge10GroupEst150.pkl_83.npy',\n",
       " 'persistent/RandomForestAge10GroupEst150.pkl_84.npy',\n",
       " 'persistent/RandomForestAge10GroupEst150.pkl_85.npy',\n",
       " 'persistent/RandomForestAge10GroupEst150.pkl_86.npy',\n",
       " 'persistent/RandomForestAge10GroupEst150.pkl_87.npy',\n",
       " 'persistent/RandomForestAge10GroupEst150.pkl_88.npy',\n",
       " 'persistent/RandomForestAge10GroupEst150.pkl_89.npy',\n",
       " 'persistent/RandomForestAge10GroupEst150.pkl_90.npy',\n",
       " 'persistent/RandomForestAge10GroupEst150.pkl_91.npy',\n",
       " 'persistent/RandomForestAge10GroupEst150.pkl_92.npy',\n",
       " 'persistent/RandomForestAge10GroupEst150.pkl_93.npy',\n",
       " 'persistent/RandomForestAge10GroupEst150.pkl_94.npy',\n",
       " 'persistent/RandomForestAge10GroupEst150.pkl_95.npy',\n",
       " 'persistent/RandomForestAge10GroupEst150.pkl_96.npy',\n",
       " 'persistent/RandomForestAge10GroupEst150.pkl_97.npy',\n",
       " 'persistent/RandomForestAge10GroupEst150.pkl_98.npy',\n",
       " 'persistent/RandomForestAge10GroupEst150.pkl_99.npy',\n",
       " 'persistent/RandomForestAge10GroupEst150.pkl_100.npy',\n",
       " 'persistent/RandomForestAge10GroupEst150.pkl_101.npy',\n",
       " 'persistent/RandomForestAge10GroupEst150.pkl_102.npy',\n",
       " 'persistent/RandomForestAge10GroupEst150.pkl_103.npy',\n",
       " 'persistent/RandomForestAge10GroupEst150.pkl_104.npy',\n",
       " 'persistent/RandomForestAge10GroupEst150.pkl_105.npy',\n",
       " 'persistent/RandomForestAge10GroupEst150.pkl_106.npy',\n",
       " 'persistent/RandomForestAge10GroupEst150.pkl_107.npy',\n",
       " 'persistent/RandomForestAge10GroupEst150.pkl_108.npy',\n",
       " 'persistent/RandomForestAge10GroupEst150.pkl_109.npy',\n",
       " 'persistent/RandomForestAge10GroupEst150.pkl_110.npy',\n",
       " 'persistent/RandomForestAge10GroupEst150.pkl_111.npy',\n",
       " 'persistent/RandomForestAge10GroupEst150.pkl_112.npy',\n",
       " 'persistent/RandomForestAge10GroupEst150.pkl_113.npy',\n",
       " 'persistent/RandomForestAge10GroupEst150.pkl_114.npy',\n",
       " 'persistent/RandomForestAge10GroupEst150.pkl_115.npy',\n",
       " 'persistent/RandomForestAge10GroupEst150.pkl_116.npy',\n",
       " 'persistent/RandomForestAge10GroupEst150.pkl_117.npy',\n",
       " 'persistent/RandomForestAge10GroupEst150.pkl_118.npy',\n",
       " 'persistent/RandomForestAge10GroupEst150.pkl_119.npy',\n",
       " 'persistent/RandomForestAge10GroupEst150.pkl_120.npy',\n",
       " 'persistent/RandomForestAge10GroupEst150.pkl_121.npy',\n",
       " 'persistent/RandomForestAge10GroupEst150.pkl_122.npy',\n",
       " 'persistent/RandomForestAge10GroupEst150.pkl_123.npy',\n",
       " 'persistent/RandomForestAge10GroupEst150.pkl_124.npy',\n",
       " 'persistent/RandomForestAge10GroupEst150.pkl_125.npy',\n",
       " 'persistent/RandomForestAge10GroupEst150.pkl_126.npy',\n",
       " 'persistent/RandomForestAge10GroupEst150.pkl_127.npy',\n",
       " 'persistent/RandomForestAge10GroupEst150.pkl_128.npy',\n",
       " 'persistent/RandomForestAge10GroupEst150.pkl_129.npy',\n",
       " 'persistent/RandomForestAge10GroupEst150.pkl_130.npy',\n",
       " 'persistent/RandomForestAge10GroupEst150.pkl_131.npy',\n",
       " 'persistent/RandomForestAge10GroupEst150.pkl_132.npy',\n",
       " 'persistent/RandomForestAge10GroupEst150.pkl_133.npy',\n",
       " 'persistent/RandomForestAge10GroupEst150.pkl_134.npy',\n",
       " 'persistent/RandomForestAge10GroupEst150.pkl_135.npy',\n",
       " 'persistent/RandomForestAge10GroupEst150.pkl_136.npy',\n",
       " 'persistent/RandomForestAge10GroupEst150.pkl_137.npy',\n",
       " 'persistent/RandomForestAge10GroupEst150.pkl_138.npy',\n",
       " 'persistent/RandomForestAge10GroupEst150.pkl_139.npy',\n",
       " 'persistent/RandomForestAge10GroupEst150.pkl_140.npy',\n",
       " 'persistent/RandomForestAge10GroupEst150.pkl_141.npy',\n",
       " 'persistent/RandomForestAge10GroupEst150.pkl_142.npy',\n",
       " 'persistent/RandomForestAge10GroupEst150.pkl_143.npy',\n",
       " 'persistent/RandomForestAge10GroupEst150.pkl_144.npy',\n",
       " 'persistent/RandomForestAge10GroupEst150.pkl_145.npy',\n",
       " 'persistent/RandomForestAge10GroupEst150.pkl_146.npy',\n",
       " 'persistent/RandomForestAge10GroupEst150.pkl_147.npy',\n",
       " 'persistent/RandomForestAge10GroupEst150.pkl_148.npy',\n",
       " 'persistent/RandomForestAge10GroupEst150.pkl_149.npy',\n",
       " 'persistent/RandomForestAge10GroupEst150.pkl_150.npy',\n",
       " 'persistent/RandomForestAge10GroupEst150.pkl_151.npy',\n",
       " 'persistent/RandomForestAge10GroupEst150.pkl_152.npy',\n",
       " 'persistent/RandomForestAge10GroupEst150.pkl_153.npy',\n",
       " 'persistent/RandomForestAge10GroupEst150.pkl_154.npy',\n",
       " 'persistent/RandomForestAge10GroupEst150.pkl_155.npy',\n",
       " 'persistent/RandomForestAge10GroupEst150.pkl_156.npy',\n",
       " 'persistent/RandomForestAge10GroupEst150.pkl_157.npy',\n",
       " 'persistent/RandomForestAge10GroupEst150.pkl_158.npy',\n",
       " 'persistent/RandomForestAge10GroupEst150.pkl_159.npy',\n",
       " 'persistent/RandomForestAge10GroupEst150.pkl_160.npy',\n",
       " 'persistent/RandomForestAge10GroupEst150.pkl_161.npy',\n",
       " 'persistent/RandomForestAge10GroupEst150.pkl_162.npy',\n",
       " 'persistent/RandomForestAge10GroupEst150.pkl_163.npy',\n",
       " 'persistent/RandomForestAge10GroupEst150.pkl_164.npy',\n",
       " 'persistent/RandomForestAge10GroupEst150.pkl_165.npy',\n",
       " 'persistent/RandomForestAge10GroupEst150.pkl_166.npy',\n",
       " 'persistent/RandomForestAge10GroupEst150.pkl_167.npy',\n",
       " 'persistent/RandomForestAge10GroupEst150.pkl_168.npy',\n",
       " 'persistent/RandomForestAge10GroupEst150.pkl_169.npy',\n",
       " 'persistent/RandomForestAge10GroupEst150.pkl_170.npy',\n",
       " 'persistent/RandomForestAge10GroupEst150.pkl_171.npy',\n",
       " 'persistent/RandomForestAge10GroupEst150.pkl_172.npy',\n",
       " 'persistent/RandomForestAge10GroupEst150.pkl_173.npy',\n",
       " 'persistent/RandomForestAge10GroupEst150.pkl_174.npy',\n",
       " 'persistent/RandomForestAge10GroupEst150.pkl_175.npy',\n",
       " 'persistent/RandomForestAge10GroupEst150.pkl_176.npy',\n",
       " 'persistent/RandomForestAge10GroupEst150.pkl_177.npy',\n",
       " 'persistent/RandomForestAge10GroupEst150.pkl_178.npy',\n",
       " 'persistent/RandomForestAge10GroupEst150.pkl_179.npy',\n",
       " 'persistent/RandomForestAge10GroupEst150.pkl_180.npy',\n",
       " 'persistent/RandomForestAge10GroupEst150.pkl_181.npy',\n",
       " 'persistent/RandomForestAge10GroupEst150.pkl_182.npy',\n",
       " 'persistent/RandomForestAge10GroupEst150.pkl_183.npy',\n",
       " 'persistent/RandomForestAge10GroupEst150.pkl_184.npy',\n",
       " 'persistent/RandomForestAge10GroupEst150.pkl_185.npy',\n",
       " 'persistent/RandomForestAge10GroupEst150.pkl_186.npy',\n",
       " 'persistent/RandomForestAge10GroupEst150.pkl_187.npy',\n",
       " 'persistent/RandomForestAge10GroupEst150.pkl_188.npy',\n",
       " 'persistent/RandomForestAge10GroupEst150.pkl_189.npy',\n",
       " 'persistent/RandomForestAge10GroupEst150.pkl_190.npy',\n",
       " 'persistent/RandomForestAge10GroupEst150.pkl_191.npy',\n",
       " 'persistent/RandomForestAge10GroupEst150.pkl_192.npy',\n",
       " 'persistent/RandomForestAge10GroupEst150.pkl_193.npy',\n",
       " 'persistent/RandomForestAge10GroupEst150.pkl_194.npy',\n",
       " 'persistent/RandomForestAge10GroupEst150.pkl_195.npy',\n",
       " 'persistent/RandomForestAge10GroupEst150.pkl_196.npy',\n",
       " 'persistent/RandomForestAge10GroupEst150.pkl_197.npy',\n",
       " 'persistent/RandomForestAge10GroupEst150.pkl_198.npy',\n",
       " 'persistent/RandomForestAge10GroupEst150.pkl_199.npy',\n",
       " 'persistent/RandomForestAge10GroupEst150.pkl_200.npy',\n",
       " 'persistent/RandomForestAge10GroupEst150.pkl_201.npy',\n",
       " 'persistent/RandomForestAge10GroupEst150.pkl_202.npy',\n",
       " 'persistent/RandomForestAge10GroupEst150.pkl_203.npy',\n",
       " 'persistent/RandomForestAge10GroupEst150.pkl_204.npy',\n",
       " 'persistent/RandomForestAge10GroupEst150.pkl_205.npy',\n",
       " 'persistent/RandomForestAge10GroupEst150.pkl_206.npy',\n",
       " 'persistent/RandomForestAge10GroupEst150.pkl_207.npy',\n",
       " 'persistent/RandomForestAge10GroupEst150.pkl_208.npy',\n",
       " 'persistent/RandomForestAge10GroupEst150.pkl_209.npy',\n",
       " 'persistent/RandomForestAge10GroupEst150.pkl_210.npy',\n",
       " 'persistent/RandomForestAge10GroupEst150.pkl_211.npy',\n",
       " 'persistent/RandomForestAge10GroupEst150.pkl_212.npy',\n",
       " 'persistent/RandomForestAge10GroupEst150.pkl_213.npy',\n",
       " 'persistent/RandomForestAge10GroupEst150.pkl_214.npy',\n",
       " 'persistent/RandomForestAge10GroupEst150.pkl_215.npy',\n",
       " 'persistent/RandomForestAge10GroupEst150.pkl_216.npy',\n",
       " 'persistent/RandomForestAge10GroupEst150.pkl_217.npy',\n",
       " 'persistent/RandomForestAge10GroupEst150.pkl_218.npy',\n",
       " 'persistent/RandomForestAge10GroupEst150.pkl_219.npy',\n",
       " 'persistent/RandomForestAge10GroupEst150.pkl_220.npy',\n",
       " 'persistent/RandomForestAge10GroupEst150.pkl_221.npy',\n",
       " 'persistent/RandomForestAge10GroupEst150.pkl_222.npy',\n",
       " 'persistent/RandomForestAge10GroupEst150.pkl_223.npy',\n",
       " 'persistent/RandomForestAge10GroupEst150.pkl_224.npy',\n",
       " 'persistent/RandomForestAge10GroupEst150.pkl_225.npy',\n",
       " 'persistent/RandomForestAge10GroupEst150.pkl_226.npy',\n",
       " 'persistent/RandomForestAge10GroupEst150.pkl_227.npy',\n",
       " 'persistent/RandomForestAge10GroupEst150.pkl_228.npy',\n",
       " 'persistent/RandomForestAge10GroupEst150.pkl_229.npy',\n",
       " 'persistent/RandomForestAge10GroupEst150.pkl_230.npy',\n",
       " 'persistent/RandomForestAge10GroupEst150.pkl_231.npy',\n",
       " 'persistent/RandomForestAge10GroupEst150.pkl_232.npy',\n",
       " 'persistent/RandomForestAge10GroupEst150.pkl_233.npy',\n",
       " 'persistent/RandomForestAge10GroupEst150.pkl_234.npy',\n",
       " 'persistent/RandomForestAge10GroupEst150.pkl_235.npy',\n",
       " 'persistent/RandomForestAge10GroupEst150.pkl_236.npy',\n",
       " 'persistent/RandomForestAge10GroupEst150.pkl_237.npy',\n",
       " 'persistent/RandomForestAge10GroupEst150.pkl_238.npy',\n",
       " 'persistent/RandomForestAge10GroupEst150.pkl_239.npy',\n",
       " 'persistent/RandomForestAge10GroupEst150.pkl_240.npy',\n",
       " 'persistent/RandomForestAge10GroupEst150.pkl_241.npy',\n",
       " 'persistent/RandomForestAge10GroupEst150.pkl_242.npy',\n",
       " 'persistent/RandomForestAge10GroupEst150.pkl_243.npy',\n",
       " 'persistent/RandomForestAge10GroupEst150.pkl_244.npy',\n",
       " 'persistent/RandomForestAge10GroupEst150.pkl_245.npy',\n",
       " 'persistent/RandomForestAge10GroupEst150.pkl_246.npy',\n",
       " 'persistent/RandomForestAge10GroupEst150.pkl_247.npy',\n",
       " 'persistent/RandomForestAge10GroupEst150.pkl_248.npy',\n",
       " 'persistent/RandomForestAge10GroupEst150.pkl_249.npy',\n",
       " 'persistent/RandomForestAge10GroupEst150.pkl_250.npy',\n",
       " 'persistent/RandomForestAge10GroupEst150.pkl_251.npy',\n",
       " 'persistent/RandomForestAge10GroupEst150.pkl_252.npy',\n",
       " 'persistent/RandomForestAge10GroupEst150.pkl_253.npy',\n",
       " 'persistent/RandomForestAge10GroupEst150.pkl_254.npy',\n",
       " 'persistent/RandomForestAge10GroupEst150.pkl_255.npy',\n",
       " 'persistent/RandomForestAge10GroupEst150.pkl_256.npy',\n",
       " 'persistent/RandomForestAge10GroupEst150.pkl_257.npy',\n",
       " 'persistent/RandomForestAge10GroupEst150.pkl_258.npy',\n",
       " 'persistent/RandomForestAge10GroupEst150.pkl_259.npy',\n",
       " 'persistent/RandomForestAge10GroupEst150.pkl_260.npy',\n",
       " 'persistent/RandomForestAge10GroupEst150.pkl_261.npy',\n",
       " 'persistent/RandomForestAge10GroupEst150.pkl_262.npy',\n",
       " 'persistent/RandomForestAge10GroupEst150.pkl_263.npy',\n",
       " 'persistent/RandomForestAge10GroupEst150.pkl_264.npy',\n",
       " 'persistent/RandomForestAge10GroupEst150.pkl_265.npy',\n",
       " 'persistent/RandomForestAge10GroupEst150.pkl_266.npy',\n",
       " 'persistent/RandomForestAge10GroupEst150.pkl_267.npy',\n",
       " 'persistent/RandomForestAge10GroupEst150.pkl_268.npy',\n",
       " 'persistent/RandomForestAge10GroupEst150.pkl_269.npy',\n",
       " 'persistent/RandomForestAge10GroupEst150.pkl_270.npy',\n",
       " 'persistent/RandomForestAge10GroupEst150.pkl_271.npy',\n",
       " 'persistent/RandomForestAge10GroupEst150.pkl_272.npy',\n",
       " 'persistent/RandomForestAge10GroupEst150.pkl_273.npy',\n",
       " 'persistent/RandomForestAge10GroupEst150.pkl_274.npy',\n",
       " 'persistent/RandomForestAge10GroupEst150.pkl_275.npy',\n",
       " 'persistent/RandomForestAge10GroupEst150.pkl_276.npy',\n",
       " 'persistent/RandomForestAge10GroupEst150.pkl_277.npy',\n",
       " 'persistent/RandomForestAge10GroupEst150.pkl_278.npy',\n",
       " 'persistent/RandomForestAge10GroupEst150.pkl_279.npy',\n",
       " 'persistent/RandomForestAge10GroupEst150.pkl_280.npy',\n",
       " 'persistent/RandomForestAge10GroupEst150.pkl_281.npy',\n",
       " 'persistent/RandomForestAge10GroupEst150.pkl_282.npy',\n",
       " 'persistent/RandomForestAge10GroupEst150.pkl_283.npy',\n",
       " 'persistent/RandomForestAge10GroupEst150.pkl_284.npy',\n",
       " 'persistent/RandomForestAge10GroupEst150.pkl_285.npy',\n",
       " 'persistent/RandomForestAge10GroupEst150.pkl_286.npy',\n",
       " 'persistent/RandomForestAge10GroupEst150.pkl_287.npy',\n",
       " 'persistent/RandomForestAge10GroupEst150.pkl_288.npy',\n",
       " 'persistent/RandomForestAge10GroupEst150.pkl_289.npy',\n",
       " 'persistent/RandomForestAge10GroupEst150.pkl_290.npy',\n",
       " 'persistent/RandomForestAge10GroupEst150.pkl_291.npy',\n",
       " 'persistent/RandomForestAge10GroupEst150.pkl_292.npy',\n",
       " 'persistent/RandomForestAge10GroupEst150.pkl_293.npy',\n",
       " 'persistent/RandomForestAge10GroupEst150.pkl_294.npy',\n",
       " 'persistent/RandomForestAge10GroupEst150.pkl_295.npy',\n",
       " 'persistent/RandomForestAge10GroupEst150.pkl_296.npy',\n",
       " 'persistent/RandomForestAge10GroupEst150.pkl_297.npy',\n",
       " 'persistent/RandomForestAge10GroupEst150.pkl_298.npy',\n",
       " 'persistent/RandomForestAge10GroupEst150.pkl_299.npy',\n",
       " 'persistent/RandomForestAge10GroupEst150.pkl_300.npy',\n",
       " 'persistent/RandomForestAge10GroupEst150.pkl_301.npy',\n",
       " 'persistent/RandomForestAge10GroupEst150.pkl_302.npy',\n",
       " 'persistent/RandomForestAge10GroupEst150.pkl_303.npy',\n",
       " 'persistent/RandomForestAge10GroupEst150.pkl_304.npy',\n",
       " 'persistent/RandomForestAge10GroupEst150.pkl_305.npy',\n",
       " 'persistent/RandomForestAge10GroupEst150.pkl_306.npy',\n",
       " 'persistent/RandomForestAge10GroupEst150.pkl_307.npy',\n",
       " 'persistent/RandomForestAge10GroupEst150.pkl_308.npy',\n",
       " 'persistent/RandomForestAge10GroupEst150.pkl_309.npy',\n",
       " 'persistent/RandomForestAge10GroupEst150.pkl_310.npy',\n",
       " 'persistent/RandomForestAge10GroupEst150.pkl_311.npy',\n",
       " 'persistent/RandomForestAge10GroupEst150.pkl_312.npy',\n",
       " 'persistent/RandomForestAge10GroupEst150.pkl_313.npy',\n",
       " 'persistent/RandomForestAge10GroupEst150.pkl_314.npy',\n",
       " 'persistent/RandomForestAge10GroupEst150.pkl_315.npy',\n",
       " 'persistent/RandomForestAge10GroupEst150.pkl_316.npy',\n",
       " 'persistent/RandomForestAge10GroupEst150.pkl_317.npy',\n",
       " 'persistent/RandomForestAge10GroupEst150.pkl_318.npy',\n",
       " 'persistent/RandomForestAge10GroupEst150.pkl_319.npy',\n",
       " 'persistent/RandomForestAge10GroupEst150.pkl_320.npy',\n",
       " 'persistent/RandomForestAge10GroupEst150.pkl_321.npy',\n",
       " 'persistent/RandomForestAge10GroupEst150.pkl_322.npy',\n",
       " 'persistent/RandomForestAge10GroupEst150.pkl_323.npy',\n",
       " 'persistent/RandomForestAge10GroupEst150.pkl_324.npy',\n",
       " 'persistent/RandomForestAge10GroupEst150.pkl_325.npy',\n",
       " 'persistent/RandomForestAge10GroupEst150.pkl_326.npy',\n",
       " 'persistent/RandomForestAge10GroupEst150.pkl_327.npy',\n",
       " 'persistent/RandomForestAge10GroupEst150.pkl_328.npy',\n",
       " 'persistent/RandomForestAge10GroupEst150.pkl_329.npy',\n",
       " 'persistent/RandomForestAge10GroupEst150.pkl_330.npy',\n",
       " 'persistent/RandomForestAge10GroupEst150.pkl_331.npy',\n",
       " 'persistent/RandomForestAge10GroupEst150.pkl_332.npy',\n",
       " 'persistent/RandomForestAge10GroupEst150.pkl_333.npy',\n",
       " 'persistent/RandomForestAge10GroupEst150.pkl_334.npy',\n",
       " 'persistent/RandomForestAge10GroupEst150.pkl_335.npy',\n",
       " 'persistent/RandomForestAge10GroupEst150.pkl_336.npy',\n",
       " 'persistent/RandomForestAge10GroupEst150.pkl_337.npy',\n",
       " 'persistent/RandomForestAge10GroupEst150.pkl_338.npy',\n",
       " 'persistent/RandomForestAge10GroupEst150.pkl_339.npy',\n",
       " 'persistent/RandomForestAge10GroupEst150.pkl_340.npy',\n",
       " 'persistent/RandomForestAge10GroupEst150.pkl_341.npy',\n",
       " 'persistent/RandomForestAge10GroupEst150.pkl_342.npy',\n",
       " 'persistent/RandomForestAge10GroupEst150.pkl_343.npy',\n",
       " 'persistent/RandomForestAge10GroupEst150.pkl_344.npy',\n",
       " 'persistent/RandomForestAge10GroupEst150.pkl_345.npy',\n",
       " 'persistent/RandomForestAge10GroupEst150.pkl_346.npy',\n",
       " 'persistent/RandomForestAge10GroupEst150.pkl_347.npy',\n",
       " 'persistent/RandomForestAge10GroupEst150.pkl_348.npy',\n",
       " 'persistent/RandomForestAge10GroupEst150.pkl_349.npy',\n",
       " 'persistent/RandomForestAge10GroupEst150.pkl_350.npy',\n",
       " 'persistent/RandomForestAge10GroupEst150.pkl_351.npy',\n",
       " 'persistent/RandomForestAge10GroupEst150.pkl_352.npy',\n",
       " 'persistent/RandomForestAge10GroupEst150.pkl_353.npy',\n",
       " 'persistent/RandomForestAge10GroupEst150.pkl_354.npy',\n",
       " 'persistent/RandomForestAge10GroupEst150.pkl_355.npy',\n",
       " 'persistent/RandomForestAge10GroupEst150.pkl_356.npy',\n",
       " 'persistent/RandomForestAge10GroupEst150.pkl_357.npy',\n",
       " 'persistent/RandomForestAge10GroupEst150.pkl_358.npy',\n",
       " 'persistent/RandomForestAge10GroupEst150.pkl_359.npy',\n",
       " 'persistent/RandomForestAge10GroupEst150.pkl_360.npy',\n",
       " 'persistent/RandomForestAge10GroupEst150.pkl_361.npy',\n",
       " 'persistent/RandomForestAge10GroupEst150.pkl_362.npy',\n",
       " 'persistent/RandomForestAge10GroupEst150.pkl_363.npy',\n",
       " 'persistent/RandomForestAge10GroupEst150.pkl_364.npy',\n",
       " 'persistent/RandomForestAge10GroupEst150.pkl_365.npy',\n",
       " 'persistent/RandomForestAge10GroupEst150.pkl_366.npy',\n",
       " 'persistent/RandomForestAge10GroupEst150.pkl_367.npy',\n",
       " 'persistent/RandomForestAge10GroupEst150.pkl_368.npy',\n",
       " 'persistent/RandomForestAge10GroupEst150.pkl_369.npy',\n",
       " 'persistent/RandomForestAge10GroupEst150.pkl_370.npy',\n",
       " 'persistent/RandomForestAge10GroupEst150.pkl_371.npy',\n",
       " 'persistent/RandomForestAge10GroupEst150.pkl_372.npy',\n",
       " 'persistent/RandomForestAge10GroupEst150.pkl_373.npy',\n",
       " 'persistent/RandomForestAge10GroupEst150.pkl_374.npy',\n",
       " 'persistent/RandomForestAge10GroupEst150.pkl_375.npy',\n",
       " 'persistent/RandomForestAge10GroupEst150.pkl_376.npy',\n",
       " 'persistent/RandomForestAge10GroupEst150.pkl_377.npy',\n",
       " 'persistent/RandomForestAge10GroupEst150.pkl_378.npy',\n",
       " 'persistent/RandomForestAge10GroupEst150.pkl_379.npy',\n",
       " 'persistent/RandomForestAge10GroupEst150.pkl_380.npy',\n",
       " 'persistent/RandomForestAge10GroupEst150.pkl_381.npy',\n",
       " 'persistent/RandomForestAge10GroupEst150.pkl_382.npy',\n",
       " 'persistent/RandomForestAge10GroupEst150.pkl_383.npy',\n",
       " 'persistent/RandomForestAge10GroupEst150.pkl_384.npy',\n",
       " 'persistent/RandomForestAge10GroupEst150.pkl_385.npy',\n",
       " 'persistent/RandomForestAge10GroupEst150.pkl_386.npy',\n",
       " 'persistent/RandomForestAge10GroupEst150.pkl_387.npy',\n",
       " 'persistent/RandomForestAge10GroupEst150.pkl_388.npy',\n",
       " 'persistent/RandomForestAge10GroupEst150.pkl_389.npy',\n",
       " 'persistent/RandomForestAge10GroupEst150.pkl_390.npy',\n",
       " 'persistent/RandomForestAge10GroupEst150.pkl_391.npy',\n",
       " 'persistent/RandomForestAge10GroupEst150.pkl_392.npy',\n",
       " 'persistent/RandomForestAge10GroupEst150.pkl_393.npy',\n",
       " 'persistent/RandomForestAge10GroupEst150.pkl_394.npy',\n",
       " 'persistent/RandomForestAge10GroupEst150.pkl_395.npy',\n",
       " 'persistent/RandomForestAge10GroupEst150.pkl_396.npy',\n",
       " 'persistent/RandomForestAge10GroupEst150.pkl_397.npy',\n",
       " 'persistent/RandomForestAge10GroupEst150.pkl_398.npy',\n",
       " 'persistent/RandomForestAge10GroupEst150.pkl_399.npy',\n",
       " 'persistent/RandomForestAge10GroupEst150.pkl_400.npy',\n",
       " 'persistent/RandomForestAge10GroupEst150.pkl_401.npy',\n",
       " 'persistent/RandomForestAge10GroupEst150.pkl_402.npy',\n",
       " 'persistent/RandomForestAge10GroupEst150.pkl_403.npy',\n",
       " 'persistent/RandomForestAge10GroupEst150.pkl_404.npy',\n",
       " 'persistent/RandomForestAge10GroupEst150.pkl_405.npy',\n",
       " 'persistent/RandomForestAge10GroupEst150.pkl_406.npy',\n",
       " 'persistent/RandomForestAge10GroupEst150.pkl_407.npy',\n",
       " 'persistent/RandomForestAge10GroupEst150.pkl_408.npy',\n",
       " 'persistent/RandomForestAge10GroupEst150.pkl_409.npy',\n",
       " 'persistent/RandomForestAge10GroupEst150.pkl_410.npy',\n",
       " 'persistent/RandomForestAge10GroupEst150.pkl_411.npy',\n",
       " 'persistent/RandomForestAge10GroupEst150.pkl_412.npy',\n",
       " 'persistent/RandomForestAge10GroupEst150.pkl_413.npy',\n",
       " 'persistent/RandomForestAge10GroupEst150.pkl_414.npy',\n",
       " 'persistent/RandomForestAge10GroupEst150.pkl_415.npy',\n",
       " 'persistent/RandomForestAge10GroupEst150.pkl_416.npy',\n",
       " 'persistent/RandomForestAge10GroupEst150.pkl_417.npy',\n",
       " 'persistent/RandomForestAge10GroupEst150.pkl_418.npy',\n",
       " 'persistent/RandomForestAge10GroupEst150.pkl_419.npy',\n",
       " 'persistent/RandomForestAge10GroupEst150.pkl_420.npy',\n",
       " 'persistent/RandomForestAge10GroupEst150.pkl_421.npy',\n",
       " 'persistent/RandomForestAge10GroupEst150.pkl_422.npy',\n",
       " 'persistent/RandomForestAge10GroupEst150.pkl_423.npy',\n",
       " 'persistent/RandomForestAge10GroupEst150.pkl_424.npy',\n",
       " 'persistent/RandomForestAge10GroupEst150.pkl_425.npy',\n",
       " 'persistent/RandomForestAge10GroupEst150.pkl_426.npy',\n",
       " 'persistent/RandomForestAge10GroupEst150.pkl_427.npy',\n",
       " 'persistent/RandomForestAge10GroupEst150.pkl_428.npy',\n",
       " 'persistent/RandomForestAge10GroupEst150.pkl_429.npy',\n",
       " 'persistent/RandomForestAge10GroupEst150.pkl_430.npy',\n",
       " 'persistent/RandomForestAge10GroupEst150.pkl_431.npy',\n",
       " 'persistent/RandomForestAge10GroupEst150.pkl_432.npy',\n",
       " 'persistent/RandomForestAge10GroupEst150.pkl_433.npy',\n",
       " 'persistent/RandomForestAge10GroupEst150.pkl_434.npy',\n",
       " 'persistent/RandomForestAge10GroupEst150.pkl_435.npy',\n",
       " 'persistent/RandomForestAge10GroupEst150.pkl_436.npy',\n",
       " 'persistent/RandomForestAge10GroupEst150.pkl_437.npy',\n",
       " 'persistent/RandomForestAge10GroupEst150.pkl_438.npy',\n",
       " 'persistent/RandomForestAge10GroupEst150.pkl_439.npy',\n",
       " 'persistent/RandomForestAge10GroupEst150.pkl_440.npy',\n",
       " 'persistent/RandomForestAge10GroupEst150.pkl_441.npy',\n",
       " 'persistent/RandomForestAge10GroupEst150.pkl_442.npy',\n",
       " 'persistent/RandomForestAge10GroupEst150.pkl_443.npy',\n",
       " 'persistent/RandomForestAge10GroupEst150.pkl_444.npy',\n",
       " 'persistent/RandomForestAge10GroupEst150.pkl_445.npy',\n",
       " 'persistent/RandomForestAge10GroupEst150.pkl_446.npy',\n",
       " 'persistent/RandomForestAge10GroupEst150.pkl_447.npy',\n",
       " 'persistent/RandomForestAge10GroupEst150.pkl_448.npy',\n",
       " 'persistent/RandomForestAge10GroupEst150.pkl_449.npy',\n",
       " 'persistent/RandomForestAge10GroupEst150.pkl_450.npy',\n",
       " 'persistent/RandomForestAge10GroupEst150.pkl_451.npy',\n",
       " 'persistent/RandomForestAge10GroupEst150.pkl_452.npy',\n",
       " 'persistent/RandomForestAge10GroupEst150.pkl_453.npy',\n",
       " 'persistent/RandomForestAge10GroupEst150.pkl_454.npy',\n",
       " 'persistent/RandomForestAge10GroupEst150.pkl_455.npy',\n",
       " 'persistent/RandomForestAge10GroupEst150.pkl_456.npy',\n",
       " 'persistent/RandomForestAge10GroupEst150.pkl_457.npy',\n",
       " 'persistent/RandomForestAge10GroupEst150.pkl_458.npy',\n",
       " 'persistent/RandomForestAge10GroupEst150.pkl_459.npy',\n",
       " 'persistent/RandomForestAge10GroupEst150.pkl_460.npy',\n",
       " 'persistent/RandomForestAge10GroupEst150.pkl_461.npy',\n",
       " 'persistent/RandomForestAge10GroupEst150.pkl_462.npy',\n",
       " 'persistent/RandomForestAge10GroupEst150.pkl_463.npy',\n",
       " 'persistent/RandomForestAge10GroupEst150.pkl_464.npy',\n",
       " 'persistent/RandomForestAge10GroupEst150.pkl_465.npy',\n",
       " 'persistent/RandomForestAge10GroupEst150.pkl_466.npy',\n",
       " 'persistent/RandomForestAge10GroupEst150.pkl_467.npy',\n",
       " 'persistent/RandomForestAge10GroupEst150.pkl_468.npy',\n",
       " 'persistent/RandomForestAge10GroupEst150.pkl_469.npy',\n",
       " 'persistent/RandomForestAge10GroupEst150.pkl_470.npy',\n",
       " 'persistent/RandomForestAge10GroupEst150.pkl_471.npy',\n",
       " 'persistent/RandomForestAge10GroupEst150.pkl_472.npy',\n",
       " 'persistent/RandomForestAge10GroupEst150.pkl_473.npy',\n",
       " 'persistent/RandomForestAge10GroupEst150.pkl_474.npy',\n",
       " 'persistent/RandomForestAge10GroupEst150.pkl_475.npy',\n",
       " 'persistent/RandomForestAge10GroupEst150.pkl_476.npy',\n",
       " 'persistent/RandomForestAge10GroupEst150.pkl_477.npy',\n",
       " 'persistent/RandomForestAge10GroupEst150.pkl_478.npy',\n",
       " 'persistent/RandomForestAge10GroupEst150.pkl_479.npy',\n",
       " 'persistent/RandomForestAge10GroupEst150.pkl_480.npy',\n",
       " 'persistent/RandomForestAge10GroupEst150.pkl_481.npy',\n",
       " 'persistent/RandomForestAge10GroupEst150.pkl_482.npy',\n",
       " 'persistent/RandomForestAge10GroupEst150.pkl_483.npy',\n",
       " 'persistent/RandomForestAge10GroupEst150.pkl_484.npy',\n",
       " 'persistent/RandomForestAge10GroupEst150.pkl_485.npy',\n",
       " 'persistent/RandomForestAge10GroupEst150.pkl_486.npy',\n",
       " 'persistent/RandomForestAge10GroupEst150.pkl_487.npy',\n",
       " 'persistent/RandomForestAge10GroupEst150.pkl_488.npy',\n",
       " 'persistent/RandomForestAge10GroupEst150.pkl_489.npy',\n",
       " 'persistent/RandomForestAge10GroupEst150.pkl_490.npy',\n",
       " 'persistent/RandomForestAge10GroupEst150.pkl_491.npy',\n",
       " 'persistent/RandomForestAge10GroupEst150.pkl_492.npy',\n",
       " 'persistent/RandomForestAge10GroupEst150.pkl_493.npy',\n",
       " 'persistent/RandomForestAge10GroupEst150.pkl_494.npy',\n",
       " 'persistent/RandomForestAge10GroupEst150.pkl_495.npy',\n",
       " 'persistent/RandomForestAge10GroupEst150.pkl_496.npy',\n",
       " 'persistent/RandomForestAge10GroupEst150.pkl_497.npy',\n",
       " 'persistent/RandomForestAge10GroupEst150.pkl_498.npy',\n",
       " 'persistent/RandomForestAge10GroupEst150.pkl_499.npy',\n",
       " 'persistent/RandomForestAge10GroupEst150.pkl_500.npy',\n",
       " 'persistent/RandomForestAge10GroupEst150.pkl_501.npy',\n",
       " 'persistent/RandomForestAge10GroupEst150.pkl_502.npy',\n",
       " 'persistent/RandomForestAge10GroupEst150.pkl_503.npy',\n",
       " 'persistent/RandomForestAge10GroupEst150.pkl_504.npy',\n",
       " 'persistent/RandomForestAge10GroupEst150.pkl_505.npy',\n",
       " 'persistent/RandomForestAge10GroupEst150.pkl_506.npy',\n",
       " 'persistent/RandomForestAge10GroupEst150.pkl_507.npy',\n",
       " 'persistent/RandomForestAge10GroupEst150.pkl_508.npy',\n",
       " 'persistent/RandomForestAge10GroupEst150.pkl_509.npy',\n",
       " 'persistent/RandomForestAge10GroupEst150.pkl_510.npy',\n",
       " 'persistent/RandomForestAge10GroupEst150.pkl_511.npy',\n",
       " 'persistent/RandomForestAge10GroupEst150.pkl_512.npy',\n",
       " 'persistent/RandomForestAge10GroupEst150.pkl_513.npy',\n",
       " 'persistent/RandomForestAge10GroupEst150.pkl_514.npy',\n",
       " 'persistent/RandomForestAge10GroupEst150.pkl_515.npy',\n",
       " 'persistent/RandomForestAge10GroupEst150.pkl_516.npy',\n",
       " 'persistent/RandomForestAge10GroupEst150.pkl_517.npy',\n",
       " 'persistent/RandomForestAge10GroupEst150.pkl_518.npy',\n",
       " 'persistent/RandomForestAge10GroupEst150.pkl_519.npy',\n",
       " 'persistent/RandomForestAge10GroupEst150.pkl_520.npy',\n",
       " 'persistent/RandomForestAge10GroupEst150.pkl_521.npy',\n",
       " 'persistent/RandomForestAge10GroupEst150.pkl_522.npy',\n",
       " 'persistent/RandomForestAge10GroupEst150.pkl_523.npy',\n",
       " 'persistent/RandomForestAge10GroupEst150.pkl_524.npy',\n",
       " 'persistent/RandomForestAge10GroupEst150.pkl_525.npy',\n",
       " 'persistent/RandomForestAge10GroupEst150.pkl_526.npy',\n",
       " 'persistent/RandomForestAge10GroupEst150.pkl_527.npy',\n",
       " 'persistent/RandomForestAge10GroupEst150.pkl_528.npy',\n",
       " 'persistent/RandomForestAge10GroupEst150.pkl_529.npy',\n",
       " 'persistent/RandomForestAge10GroupEst150.pkl_530.npy',\n",
       " 'persistent/RandomForestAge10GroupEst150.pkl_531.npy',\n",
       " 'persistent/RandomForestAge10GroupEst150.pkl_532.npy',\n",
       " 'persistent/RandomForestAge10GroupEst150.pkl_533.npy',\n",
       " 'persistent/RandomForestAge10GroupEst150.pkl_534.npy',\n",
       " 'persistent/RandomForestAge10GroupEst150.pkl_535.npy',\n",
       " 'persistent/RandomForestAge10GroupEst150.pkl_536.npy',\n",
       " 'persistent/RandomForestAge10GroupEst150.pkl_537.npy',\n",
       " 'persistent/RandomForestAge10GroupEst150.pkl_538.npy',\n",
       " 'persistent/RandomForestAge10GroupEst150.pkl_539.npy',\n",
       " 'persistent/RandomForestAge10GroupEst150.pkl_540.npy',\n",
       " 'persistent/RandomForestAge10GroupEst150.pkl_541.npy',\n",
       " 'persistent/RandomForestAge10GroupEst150.pkl_542.npy',\n",
       " 'persistent/RandomForestAge10GroupEst150.pkl_543.npy',\n",
       " 'persistent/RandomForestAge10GroupEst150.pkl_544.npy',\n",
       " 'persistent/RandomForestAge10GroupEst150.pkl_545.npy',\n",
       " 'persistent/RandomForestAge10GroupEst150.pkl_546.npy',\n",
       " 'persistent/RandomForestAge10GroupEst150.pkl_547.npy',\n",
       " 'persistent/RandomForestAge10GroupEst150.pkl_548.npy',\n",
       " 'persistent/RandomForestAge10GroupEst150.pkl_549.npy',\n",
       " 'persistent/RandomForestAge10GroupEst150.pkl_550.npy',\n",
       " 'persistent/RandomForestAge10GroupEst150.pkl_551.npy',\n",
       " 'persistent/RandomForestAge10GroupEst150.pkl_552.npy',\n",
       " 'persistent/RandomForestAge10GroupEst150.pkl_553.npy',\n",
       " 'persistent/RandomForestAge10GroupEst150.pkl_554.npy',\n",
       " 'persistent/RandomForestAge10GroupEst150.pkl_555.npy',\n",
       " 'persistent/RandomForestAge10GroupEst150.pkl_556.npy',\n",
       " 'persistent/RandomForestAge10GroupEst150.pkl_557.npy',\n",
       " 'persistent/RandomForestAge10GroupEst150.pkl_558.npy',\n",
       " 'persistent/RandomForestAge10GroupEst150.pkl_559.npy',\n",
       " 'persistent/RandomForestAge10GroupEst150.pkl_560.npy',\n",
       " 'persistent/RandomForestAge10GroupEst150.pkl_561.npy',\n",
       " 'persistent/RandomForestAge10GroupEst150.pkl_562.npy',\n",
       " 'persistent/RandomForestAge10GroupEst150.pkl_563.npy',\n",
       " 'persistent/RandomForestAge10GroupEst150.pkl_564.npy',\n",
       " 'persistent/RandomForestAge10GroupEst150.pkl_565.npy',\n",
       " 'persistent/RandomForestAge10GroupEst150.pkl_566.npy',\n",
       " 'persistent/RandomForestAge10GroupEst150.pkl_567.npy',\n",
       " 'persistent/RandomForestAge10GroupEst150.pkl_568.npy',\n",
       " 'persistent/RandomForestAge10GroupEst150.pkl_569.npy',\n",
       " 'persistent/RandomForestAge10GroupEst150.pkl_570.npy',\n",
       " 'persistent/RandomForestAge10GroupEst150.pkl_571.npy',\n",
       " 'persistent/RandomForestAge10GroupEst150.pkl_572.npy',\n",
       " 'persistent/RandomForestAge10GroupEst150.pkl_573.npy',\n",
       " 'persistent/RandomForestAge10GroupEst150.pkl_574.npy',\n",
       " 'persistent/RandomForestAge10GroupEst150.pkl_575.npy',\n",
       " 'persistent/RandomForestAge10GroupEst150.pkl_576.npy',\n",
       " 'persistent/RandomForestAge10GroupEst150.pkl_577.npy',\n",
       " 'persistent/RandomForestAge10GroupEst150.pkl_578.npy',\n",
       " 'persistent/RandomForestAge10GroupEst150.pkl_579.npy',\n",
       " 'persistent/RandomForestAge10GroupEst150.pkl_580.npy',\n",
       " 'persistent/RandomForestAge10GroupEst150.pkl_581.npy',\n",
       " 'persistent/RandomForestAge10GroupEst150.pkl_582.npy',\n",
       " 'persistent/RandomForestAge10GroupEst150.pkl_583.npy',\n",
       " 'persistent/RandomForestAge10GroupEst150.pkl_584.npy',\n",
       " 'persistent/RandomForestAge10GroupEst150.pkl_585.npy',\n",
       " 'persistent/RandomForestAge10GroupEst150.pkl_586.npy',\n",
       " 'persistent/RandomForestAge10GroupEst150.pkl_587.npy',\n",
       " 'persistent/RandomForestAge10GroupEst150.pkl_588.npy',\n",
       " 'persistent/RandomForestAge10GroupEst150.pkl_589.npy',\n",
       " 'persistent/RandomForestAge10GroupEst150.pkl_590.npy',\n",
       " 'persistent/RandomForestAge10GroupEst150.pkl_591.npy',\n",
       " 'persistent/RandomForestAge10GroupEst150.pkl_592.npy',\n",
       " 'persistent/RandomForestAge10GroupEst150.pkl_593.npy',\n",
       " 'persistent/RandomForestAge10GroupEst150.pkl_594.npy',\n",
       " 'persistent/RandomForestAge10GroupEst150.pkl_595.npy',\n",
       " 'persistent/RandomForestAge10GroupEst150.pkl_596.npy',\n",
       " 'persistent/RandomForestAge10GroupEst150.pkl_597.npy',\n",
       " 'persistent/RandomForestAge10GroupEst150.pkl_598.npy',\n",
       " 'persistent/RandomForestAge10GroupEst150.pkl_599.npy',\n",
       " 'persistent/RandomForestAge10GroupEst150.pkl_600.npy']"
      ]
     },
     "execution_count": 90,
     "metadata": {},
     "output_type": "execute_result"
    }
   ],
   "source": [
    "joblib.dump(model, 'persistent/RandomForestAge10GroupEst150.pkl')"
   ]
  },
  {
   "cell_type": "code",
   "execution_count": 86,
   "metadata": {
    "collapsed": true
   },
   "outputs": [],
   "source": [
    "model = joblib.load('persistent/RandomForestAge10Group.pkl')"
   ]
  },
  {
   "cell_type": "code",
   "execution_count": 87,
   "metadata": {
    "collapsed": false
   },
   "outputs": [
    {
     "data": {
      "text/plain": [
       "14.575663191983509"
      ]
     },
     "execution_count": 87,
     "metadata": {},
     "output_type": "execute_result"
    }
   ],
   "source": [
    "XX_train = mean_preprocessor.fit_transform(X_train)\n",
    "XX_train, XX_test, yy_train, yy_test = cross_validation.train_test_split(\n",
    "    XX_train, y_train, test_size=0.20, random_state=0)\n",
    "mse = metrics.mean_squared_error(model.predict(XX_test), yy_test)\n",
    "rmse = mse**0.5\n",
    "rmse"
   ]
  },
  {
   "cell_type": "markdown",
   "metadata": {},
   "source": [
    "__ With real test data __"
   ]
  },
  {
   "cell_type": "markdown",
   "metadata": {
    "collapsed": true
   },
   "source": [
    "__ Important features (index) according the Random Forest __\n",
    "\n",
    "[102,  52,   1,  89,  83,  72,   2,  17,   4,  10,  15,  12,  23,\n",
    " 18,  11,  14,  22,  13,   8,  16,  68,  21,  20,  19,   7, 115,\n",
    " 9,  67,   0, 100,  24,  93,  25,   6,  88,   5,  99, 126, 104,\n",
    " 127, 108,   3,  82,  84, 130,  79, 101, 121,  85,  75, 141,  69,\n",
    " 111,  26, 133,  29, 146,  32, 105, 144,  48,  28,  97,  33,  55,\n",
    " 56, 137,  95,  86,  71, 109,  73,  64,  51,  46,  66,  92, 112,\n",
    " 76, 147,  70,  34,  90,  91, 145, 131, 110, 117, 123,  81, 120,\n",
    " 138,  37, 107,  36, 118,  63, 106, 132,  45, 139,  49,  44,  60,\n",
    " 39,  53, 113, 119, 124,  94,  58,  42, 116,  98, 129,  78, 122,\n",
    " 50,  74,  61,  27,  77, 125,  54,  41,  47, 134,  96,  31,  87,\n",
    " 65,  57, 128, 114,  35,  38, 143,  62,  80,  40, 135,  43,  30,\n",
    " 103,  59, 140, 136, 148, 142]"
   ]
  },
  {
   "cell_type": "code",
   "execution_count": 91,
   "metadata": {
    "collapsed": false
   },
   "outputs": [
    {
     "name": "stdout",
     "output_type": "stream",
     "text": [
      "Feature ranking:\n",
      "1. feature 101 (0.131662)\n",
      "2. feature 51 (0.117909)\n",
      "3. feature 1 (0.065695)\n",
      "4. feature 88 (0.053293)\n",
      "5. feature 82 (0.050539)\n",
      "6. feature 71 (0.029357)\n",
      "7. feature 2 (0.019120)\n",
      "8. feature 16 (0.018182)\n",
      "9. feature 9 (0.017140)\n",
      "10. feature 11 (0.016743)\n",
      "11. feature 14 (0.016651)\n",
      "12. feature 22 (0.016285)\n",
      "13. feature 17 (0.016151)\n",
      "14. feature 10 (0.015828)\n",
      "15. feature 13 (0.015544)\n",
      "16. feature 21 (0.015472)\n",
      "17. feature 12 (0.015033)\n",
      "18. feature 15 (0.014942)\n",
      "19. feature 7 (0.014686)\n",
      "20. feature 20 (0.014416)\n"
     ]
    }
   ],
   "source": [
    "importances = model.feature_importances_\n",
    "std = np.std([tree.feature_importances_ for tree in model.estimators_],\n",
    "             axis=0)\n",
    "indices = np.argsort(importances)[::-1]\n",
    "\n",
    "# Print the feature ranking\n",
    "print(\"Feature ranking:\")\n",
    "\n",
    "for f in xrange(20):\n",
    "    print(\"%d. feature %d (%f)\" % (f + 1, indices[f], importances[indices[f]]))"
   ]
  },
  {
   "cell_type": "code",
   "execution_count": 92,
   "metadata": {
    "collapsed": false
   },
   "outputs": [
    {
     "data": {
      "text/plain": [
       "(-1, 30)"
      ]
     },
     "execution_count": 92,
     "metadata": {},
     "output_type": "execute_result"
    },
    {
     "data": {
      "image/png": "[encoded data removed]",
      "text/plain": [
       "<matplotlib.figure.Figure at 0x7fc690fc2c10>"
      ]
     },
     "metadata": {},
     "output_type": "display_data"
    }
   ],
   "source": [
    "# Plot the feature importances of the forest\n",
    "# http://matplotlib.org/examples/lines_bars_and_markers/barh_demo.html\n",
    "plt.figure()\n",
    "plt.title(\"Feature importances\")\n",
    "num = 30\n",
    "plt.rcdefaults()\n",
    "#ax.bar(ind+width, womenMeans, width, color='y', yerr=womenStd)\n",
    "plt.barh(range(num), importances[indices[:num]], height=0.7, align=\"center\")\n",
    "plt.yticks(range(num), X_train.columns[indices[:num]])\n",
    "plt.ylim([-1, num])"
   ]
  },
  {
   "cell_type": "markdown",
   "metadata": {},
   "source": [
    "__ page rank top 10 poisson_mass __\n",
    "\n",
    "('Distinctive', 0.036582860564394186),\n",
    " ('Talented', 0.03641060802582427),\n",
    " ('Catchy', 0.03588257458937083),\n",
    " ('Cool', 0.03122466731308438),\n",
    " ('Original', 0.030451130759611197),\n",
    " ('Current', 0.028413438804670444),\n",
    " ('Authentic', 0.02809367151769147),\n",
    " ('Beautiful', 0.026002038824713088),\n",
    " ('Good lyrics', 0.02552523014963796),\n",
    " ('Confident', 0.025306007274224527),\n",
    "\n",
    "__ page rank top 10 loglikelihood __\n",
    "\n",
    "('Distinctive', 0.03724713796921815),\n",
    " ('Talented', 0.03712975943260201),\n",
    " ('Catchy', 0.03661224190637018),\n",
    " ('Cool', 0.031546322090385825),\n",
    " ('Original', 0.030776031541591732),\n",
    " ('Current', 0.02855624507337745),\n",
    " ('Authentic', 0.028280448044298464),\n",
    " ('Beautiful', 0.026132091370412152),\n",
    " ('Good lyrics', 0.025806333868477884),\n",
    " ('Confident', 0.025486926026088014),\n",
    " \n",
    " __ page rank top 10 DICE __\n",
    " \n",
    " ('Talented', 0.021675025932186526),\n",
    " ('Cool', 0.01981560260788484),\n",
    " ('Distinctive', 0.019745454557838528),\n",
    " ('Authentic', 0.019403079099206334),\n",
    " ('Credible', 0.019264216503310293),\n",
    " ('Beautiful', 0.01913691207885496),\n",
    " ('Original', 0.019135290266801306),\n",
    " ('Stylish', 0.019047267193738622),\n",
    " ('Passionate', 0.018882616430586946),\n",
    " ('Catchy', 0.018834914400931033),"
   ]
  },
  {
   "cell_type": "code",
   "execution_count": 92,
   "metadata": {
    "collapsed": false
   },
   "outputs": [
    {
     "ename": "NameError",
     "evalue": "name 'features_train' is not defined",
     "output_type": "error",
     "traceback": [
      "\u001b[1;31m---------------------------------------------------------------------------\u001b[0m",
      "\u001b[1;31mNameError\u001b[0m                                 Traceback (most recent call last)",
      "\u001b[1;32m<ipython-input-92-08bfcce2c82f>\u001b[0m in \u001b[0;36m<module>\u001b[1;34m()\u001b[0m\n\u001b[0;32m      1\u001b[0m \u001b[1;32mfrom\u001b[0m \u001b[0msklearn\u001b[0m\u001b[1;33m.\u001b[0m\u001b[0mdecomposition\u001b[0m \u001b[1;32mimport\u001b[0m \u001b[0mPCA\u001b[0m\u001b[1;33m\u001b[0m\u001b[0m\n\u001b[0;32m      2\u001b[0m \u001b[0mpca\u001b[0m \u001b[1;33m=\u001b[0m \u001b[0mPCA\u001b[0m\u001b[1;33m(\u001b[0m\u001b[0mn_components\u001b[0m\u001b[1;33m=\u001b[0m\u001b[1;36m2\u001b[0m\u001b[1;33m)\u001b[0m\u001b[1;33m\u001b[0m\u001b[0m\n\u001b[1;32m----> 3\u001b[1;33m \u001b[0mfeatures_pca\u001b[0m \u001b[1;33m=\u001b[0m \u001b[0mpca\u001b[0m\u001b[1;33m.\u001b[0m\u001b[0mfit_transform\u001b[0m\u001b[1;33m(\u001b[0m\u001b[0mfeatures_train\u001b[0m\u001b[1;33m)\u001b[0m\u001b[1;33m\u001b[0m\u001b[0m\n\u001b[0m\u001b[0;32m      4\u001b[0m \u001b[0mtest_pca\u001b[0m \u001b[1;33m=\u001b[0m \u001b[0mpca\u001b[0m\u001b[1;33m.\u001b[0m\u001b[0mfit_transform\u001b[0m\u001b[1;33m(\u001b[0m\u001b[0mfeatures_test\u001b[0m\u001b[1;33m)\u001b[0m\u001b[1;33m\u001b[0m\u001b[0m\n\u001b[0;32m      5\u001b[0m \u001b[0mmodel\u001b[0m \u001b[1;33m=\u001b[0m \u001b[0mmodel\u001b[0m\u001b[1;33m.\u001b[0m\u001b[0mfit\u001b[0m\u001b[1;33m(\u001b[0m\u001b[0mfeatures_pca\u001b[0m\u001b[1;33m,\u001b[0m \u001b[0mtarget_train\u001b[0m\u001b[1;33m)\u001b[0m\u001b[1;33m\u001b[0m\u001b[0m\n",
      "\u001b[1;31mNameError\u001b[0m: name 'features_train' is not defined"
     ]
    }
   ],
   "source": [
    "from sklearn.decomposition import PCA\n",
    "pca = PCA(n_components=2)\n",
    "features_pca = pca.fit_transform(features_train)\n",
    "test_pca = pca.fit_transform(features_test)\n",
    "model = model.fit(features_pca, target_train)\n",
    "#model.predict(test_pca)\n",
    "mse = metrics.mean_squared_error(model.predict(test_pca), target_test)\n",
    "rmse = mse**0.5\n",
    "rmse"
   ]
  },
  {
   "cell_type": "markdown",
   "metadata": {},
   "source": [
    "__ truncated SVD __\n",
    "\n",
    "- components: 90 rmse: 16.190904\n",
    "- components: 110 rmse: 16.091440\n",
    "- components: 115 rmse: 16.092432\n",
    "- components: 120 rmse: 16.075782\n",
    "- components: 125 rmse: 16.086340\n",
    "- components: 130 rmse: 16.076635\n",
    "- components: 135 rmse: 16.065234\n",
    "- components: 140 rmse: 16.056740\n",
    "- components: 135 rmse: 16.063029\n",
    "- components: 140 rmse: 16.056740\n",
    "- components: 145 rmse: 16.053424\n",
    "- components: 149 rmse: 16.053370\n"
   ]
  },
  {
   "cell_type": "code",
   "execution_count": 32,
   "metadata": {
    "collapsed": false
   },
   "outputs": [
    {
     "data": {
      "text/plain": [
       "TruncatedSVD(algorithm='randomized', n_components=2, n_iter=5,\n",
       "       random_state=None, tol=0.0)"
      ]
     },
     "execution_count": 32,
     "metadata": {},
     "output_type": "execute_result"
    }
   ],
   "source": [
    "TruncatedSVD()"
   ]
  },
  {
   "cell_type": "code",
   "execution_count": null,
   "metadata": {
    "collapsed": false
   },
   "outputs": [],
   "source": [
    "from sklearn.decomposition import TruncatedSVD\n",
    "for i in np.linspace(7, 7, num=1):\n",
    "    fa = TruncatedSVD(n_components=int(i))\n",
    "    XX_train = mean_preprocessor.fit_transform(X_train)\n",
    "    XX_train, XX_test, yy_train, yy_test = cross_validation.train_test_split(\n",
    "        XX_train, y_train, test_size=0.20, random_state=0)\n",
    "\n",
    "    #svd = TruncatedSVD(n_components=140)\n",
    "    features_svd = fa.fit_transform(XX_train)\n",
    "    test_svd = fa.transform(XX_test)\n",
    "    model = model.fit(features_svd, yy_train)\n",
    "    #model.predict(test_pca)\n",
    "    mse = metrics.mean_squared_error(model.predict(test_svd), yy_test)\n",
    "    rmse = mse**0.5\n",
    "    print \"components: %i rmse: %f\" % (i, rmse)"
   ]
  },
  {
   "cell_type": "code",
   "execution_count": null,
   "metadata": {
    "collapsed": false
   },
   "outputs": [],
   "source": [
    "int(np.linspace(110, 140, num=7)[0])"
   ]
  },
  {
   "cell_type": "markdown",
   "metadata": {
    "collapsed": false
   },
   "source": [
    "## Just use important features from RandomForest"
   ]
  },
  {
   "cell_type": "code",
   "execution_count": 68,
   "metadata": {
    "collapsed": false
   },
   "outputs": [],
   "source": [
    "important = [102, 52, 1, 89, 83, 72, 2, 17, 4, 10, 15, 12, 23, 18, 11, 14, 22, 13, 8, 16]\n",
    "important_words = ['Distinctive','Talented','Original','Cool','Free','Authentic','Good Lyrics','Catchy','Current','Beautiful','Credible','Stylish', 'Timeless', 'Energetic', 'Passionate', 'Thoughtful', 'Classic', 'Fun','Emotional','Warm']\n",
    "important_words = [ list(X_train.columns).index(term) for term in important_words ]\n",
    "important_word_forest = np.concatenate((important, important_words))"
   ]
  },
  {
   "cell_type": "code",
   "execution_count": 69,
   "metadata": {
    "collapsed": false
   },
   "outputs": [
    {
     "data": {
      "text/plain": [
       "17.127711142392776"
      ]
     },
     "execution_count": 69,
     "metadata": {},
     "output_type": "execute_result"
    }
   ],
   "source": [
    "from sklearn.linear_model import LinearRegression\n",
    "from sklearn.pipeline import make_pipeline\n",
    "from sklearn import metrics\n",
    "from sklearn import cross_validation\n",
    "from sklearn import preprocessing\n",
    "\n",
    "model = LinearRegression()\n",
    "\n",
    "cv = cross_validation.ShuffleSplit(X_train[important_word_forest].shape[0], n_iter=3,\n",
    "    test_size=0.3, random_state=0)\n",
    "\n",
    "mean_preprocessor = preprocessing.Imputer(strategy=\"mean\", axis=0)\n",
    "scaler_preprocessor = preprocessing.StandardScaler()\n",
    "clf = make_pipeline(mean_preprocessor, scaler_preprocessor, model)\n",
    "scores = cross_validation.cross_val_score(clf, X_train[important_word_forest], y_train, scoring=\"mean_squared_error\", cv=cv)\n",
    "(scores.max() * -1) **0.5"
   ]
  },
  {
   "cell_type": "code",
   "execution_count": 71,
   "metadata": {
    "collapsed": false
   },
   "outputs": [
    {
     "ename": "NameError",
     "evalue": "name 'TruncatedSVD' is not defined",
     "output_type": "error",
     "traceback": [
      "\u001b[1;31m---------------------------------------------------------------------------\u001b[0m",
      "\u001b[1;31mNameError\u001b[0m                                 Traceback (most recent call last)",
      "\u001b[1;32m<ipython-input-71-c725a5eb2242>\u001b[0m in \u001b[0;36m<module>\u001b[1;34m()\u001b[0m\n\u001b[0;32m      6\u001b[0m     XX_train, y_train, test_size=0.20, random_state=0)\n\u001b[0;32m      7\u001b[0m \u001b[1;33m\u001b[0m\u001b[0m\n\u001b[1;32m----> 8\u001b[1;33m \u001b[0mfa\u001b[0m \u001b[1;33m=\u001b[0m \u001b[0mTruncatedSVD\u001b[0m\u001b[1;33m(\u001b[0m\u001b[0mn_components\u001b[0m\u001b[1;33m=\u001b[0m\u001b[1;36m10\u001b[0m\u001b[1;33m)\u001b[0m\u001b[1;33m\u001b[0m\u001b[0m\n\u001b[0m\u001b[0;32m      9\u001b[0m \u001b[0mfeatures_svd\u001b[0m \u001b[1;33m=\u001b[0m \u001b[0mfa\u001b[0m\u001b[1;33m.\u001b[0m\u001b[0mfit_transform\u001b[0m\u001b[1;33m(\u001b[0m\u001b[0mXX_train\u001b[0m\u001b[1;33m)\u001b[0m\u001b[1;33m\u001b[0m\u001b[0m\n\u001b[0;32m     10\u001b[0m \u001b[0mtest_svd\u001b[0m \u001b[1;33m=\u001b[0m \u001b[0mfa\u001b[0m\u001b[1;33m.\u001b[0m\u001b[0mtransform\u001b[0m\u001b[1;33m(\u001b[0m\u001b[0mXX_test\u001b[0m\u001b[1;33m)\u001b[0m\u001b[1;33m\u001b[0m\u001b[0m\n",
      "\u001b[1;31mNameError\u001b[0m: name 'TruncatedSVD' is not defined"
     ]
    }
   ],
   "source": [
    "from sklearn.svm import SVR\n",
    "model = SVR()\n",
    "\n",
    "XX_train = mean_preprocessor.fit_transform(X_train[important_word_forest])\n",
    "XX_train, XX_test, yy_train, yy_test = cross_validation.train_test_split(\n",
    "    XX_train, y_train, test_size=0.20, random_state=0)\n",
    "\n",
    "fa = TruncatedSVD(n_components=10)\n",
    "features_svd = fa.fit_transform(XX_train)\n",
    "test_svd = fa.transform(XX_test)\n",
    "model = model.fit(features_svd, yy_train)\n",
    "#model.predict(test_pca)\n",
    "mse = metrics.mean_squared_error(model.predict(test_svd), yy_test)\n",
    "rmse = mse**0.5\n"
   ]
  },
  {
   "cell_type": "code",
   "execution_count": null,
   "metadata": {
    "collapsed": true
   },
   "outputs": [],
   "source": []
  },
  {
   "cell_type": "code",
   "execution_count": null,
   "metadata": {
    "collapsed": false
   },
   "outputs": [],
   "source": [
    "#yPredicted = model.predict(Xtest)\n",
    "#yTest"
   ]
  },
  {
   "cell_type": "code",
   "execution_count": null,
   "metadata": {
    "collapsed": false
   },
   "outputs": [],
   "source": [
    "#d = pd.DataFrame({'predicted':yPredicted, 'acctual': yTest.values})\n",
    "#d.plot()"
   ]
  },
  {
   "cell_type": "code",
   "execution_count": null,
   "metadata": {
    "collapsed": false
   },
   "outputs": [],
   "source": []
  }
 ],
 "metadata": {
  "kernelspec": {
   "display_name": "Python 2",
   "language": "python",
   "name": "python2"
  },
  "language_info": {
   "codemirror_mode": {
    "name": "ipython",
    "version": 2
   },
   "file_extension": ".py",
   "mimetype": "text/x-python",
   "name": "python",
   "nbconvert_exporter": "python",
   "pygments_lexer": "ipython2",
   "version": "2.7.6"
  }
 },
 "nbformat": 4,
 "nbformat_minor": 0
}
