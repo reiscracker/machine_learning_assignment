{
 "cells": [
  {
   "cell_type": "markdown",
   "metadata": {},
   "source": [
    "# Analysis of words given to artists"
   ]
  },
  {
   "cell_type": "code",
   "execution_count": 1,
   "metadata": {
    "collapsed": true
   },
   "outputs": [],
   "source": [
    "import numpy as np\n",
    "import pandas as pd\n",
    "import matplotlib.pyplot as plt\n",
    "from IPython.display import display\n",
    "\n",
    "pd.set_option('display.mpl_style', 'default')\n",
    "plt.rcParams['figure.figsize'] = (150, 5)\n",
    "plt.rcParams['font.family'] = 'sans-serif'\n",
    "# Increase pandas width\n",
    "pd.set_option('display.width', 190)\n",
    "# Inline plots yay\n",
    "%matplotlib inline"
   ]
  },
  {
   "cell_type": "code",
   "execution_count": 2,
   "metadata": {
    "collapsed": false
   },
   "outputs": [],
   "source": [
    "words_file = 'words.csv'\n",
    "words_raw_data = pd.read_csv(words_file)\n"
   ]
  },
  {
   "cell_type": "code",
   "execution_count": 3,
   "metadata": {
    "collapsed": false
   },
   "outputs": [
    {
     "data": {
      "text/html": [
       "<div>\n",
       "<table border=\"1\" class=\"dataframe\">\n",
       "  <thead>\n",
       "    <tr style=\"text-align: right;\">\n",
       "      <th></th>\n",
       "      <th>Artist</th>\n",
       "      <th>User</th>\n",
       "      <th>HEARD_OF</th>\n",
       "      <th>OWN_ARTIST_MUSIC</th>\n",
       "      <th>LIKE_ARTIST</th>\n",
       "      <th>Uninspired</th>\n",
       "      <th>Sophisticated</th>\n",
       "      <th>Aggressive</th>\n",
       "      <th>Edgy</th>\n",
       "      <th>Sociable</th>\n",
       "      <th>...</th>\n",
       "      <th>Unoriginal</th>\n",
       "      <th>Dated</th>\n",
       "      <th>Iconic</th>\n",
       "      <th>Unapproachable</th>\n",
       "      <th>Classic</th>\n",
       "      <th>Playful</th>\n",
       "      <th>Arrogant</th>\n",
       "      <th>Warm</th>\n",
       "      <th>Soulful</th>\n",
       "      <th>Unnamed: 87</th>\n",
       "    </tr>\n",
       "  </thead>\n",
       "  <tbody>\n",
       "    <tr>\n",
       "      <th>0</th>\n",
       "      <td>47</td>\n",
       "      <td>45969</td>\n",
       "      <td>Heard of</td>\n",
       "      <td>NaN</td>\n",
       "      <td>NaN</td>\n",
       "      <td>NaN</td>\n",
       "      <td>0</td>\n",
       "      <td>NaN</td>\n",
       "      <td>0</td>\n",
       "      <td>0</td>\n",
       "      <td>...</td>\n",
       "      <td>NaN</td>\n",
       "      <td>0</td>\n",
       "      <td>NaN</td>\n",
       "      <td>NaN</td>\n",
       "      <td>0</td>\n",
       "      <td>NaN</td>\n",
       "      <td>NaN</td>\n",
       "      <td>0</td>\n",
       "      <td>0</td>\n",
       "      <td>NaN</td>\n",
       "    </tr>\n",
       "    <tr>\n",
       "      <th>1</th>\n",
       "      <td>35</td>\n",
       "      <td>29118</td>\n",
       "      <td>Never heard of</td>\n",
       "      <td>NaN</td>\n",
       "      <td>NaN</td>\n",
       "      <td>0</td>\n",
       "      <td>NaN</td>\n",
       "      <td>0</td>\n",
       "      <td>0</td>\n",
       "      <td>NaN</td>\n",
       "      <td>...</td>\n",
       "      <td>0</td>\n",
       "      <td>0</td>\n",
       "      <td>NaN</td>\n",
       "      <td>0</td>\n",
       "      <td>0</td>\n",
       "      <td>0</td>\n",
       "      <td>0</td>\n",
       "      <td>0</td>\n",
       "      <td>NaN</td>\n",
       "      <td>NaN</td>\n",
       "    </tr>\n",
       "    <tr>\n",
       "      <th>2</th>\n",
       "      <td>14</td>\n",
       "      <td>31544</td>\n",
       "      <td>Heard of</td>\n",
       "      <td>NaN</td>\n",
       "      <td>NaN</td>\n",
       "      <td>0</td>\n",
       "      <td>NaN</td>\n",
       "      <td>0</td>\n",
       "      <td>0</td>\n",
       "      <td>NaN</td>\n",
       "      <td>...</td>\n",
       "      <td>0</td>\n",
       "      <td>0</td>\n",
       "      <td>NaN</td>\n",
       "      <td>0</td>\n",
       "      <td>0</td>\n",
       "      <td>0</td>\n",
       "      <td>0</td>\n",
       "      <td>0</td>\n",
       "      <td>NaN</td>\n",
       "      <td>NaN</td>\n",
       "    </tr>\n",
       "    <tr>\n",
       "      <th>3</th>\n",
       "      <td>23</td>\n",
       "      <td>18085</td>\n",
       "      <td>Never heard of</td>\n",
       "      <td>NaN</td>\n",
       "      <td>NaN</td>\n",
       "      <td>NaN</td>\n",
       "      <td>NaN</td>\n",
       "      <td>0</td>\n",
       "      <td>0</td>\n",
       "      <td>NaN</td>\n",
       "      <td>...</td>\n",
       "      <td>0</td>\n",
       "      <td>0</td>\n",
       "      <td>NaN</td>\n",
       "      <td>0</td>\n",
       "      <td>0</td>\n",
       "      <td>0</td>\n",
       "      <td>0</td>\n",
       "      <td>0</td>\n",
       "      <td>NaN</td>\n",
       "      <td>NaN</td>\n",
       "    </tr>\n",
       "    <tr>\n",
       "      <th>4</th>\n",
       "      <td>23</td>\n",
       "      <td>18084</td>\n",
       "      <td>Never heard of</td>\n",
       "      <td>NaN</td>\n",
       "      <td>NaN</td>\n",
       "      <td>NaN</td>\n",
       "      <td>NaN</td>\n",
       "      <td>0</td>\n",
       "      <td>0</td>\n",
       "      <td>NaN</td>\n",
       "      <td>...</td>\n",
       "      <td>0</td>\n",
       "      <td>0</td>\n",
       "      <td>NaN</td>\n",
       "      <td>0</td>\n",
       "      <td>0</td>\n",
       "      <td>0</td>\n",
       "      <td>0</td>\n",
       "      <td>0</td>\n",
       "      <td>NaN</td>\n",
       "      <td>NaN</td>\n",
       "    </tr>\n",
       "  </tbody>\n",
       "</table>\n",
       "<p>5 rows × 88 columns</p>\n",
       "</div>"
      ],
      "text/plain": [
       "   Artist   User        HEARD_OF OWN_ARTIST_MUSIC  LIKE_ARTIST  Uninspired  Sophisticated  Aggressive  Edgy  Sociable     ...       Unoriginal  Dated  Iconic  Unapproachable  Classic  \\\n",
       "0      47  45969        Heard of              NaN          NaN         NaN              0         NaN     0         0     ...              NaN      0     NaN             NaN        0   \n",
       "1      35  29118  Never heard of              NaN          NaN           0            NaN           0     0       NaN     ...                0      0     NaN               0        0   \n",
       "2      14  31544        Heard of              NaN          NaN           0            NaN           0     0       NaN     ...                0      0     NaN               0        0   \n",
       "3      23  18085  Never heard of              NaN          NaN         NaN            NaN           0     0       NaN     ...                0      0     NaN               0        0   \n",
       "4      23  18084  Never heard of              NaN          NaN         NaN            NaN           0     0       NaN     ...                0      0     NaN               0        0   \n",
       "\n",
       "   Playful  Arrogant  Warm  Soulful  Unnamed: 87  \n",
       "0      NaN       NaN     0        0          NaN  \n",
       "1        0         0     0      NaN          NaN  \n",
       "2        0         0     0      NaN          NaN  \n",
       "3        0         0     0      NaN          NaN  \n",
       "4        0         0     0      NaN          NaN  \n",
       "\n",
       "[5 rows x 88 columns]"
      ]
     },
     "execution_count": 3,
     "metadata": {},
     "output_type": "execute_result"
    }
   ],
   "source": [
    "words_raw_data.head()"
   ]
  },
  {
   "cell_type": "markdown",
   "metadata": {},
   "source": [
    "## Frequency of words given"
   ]
  },
  {
   "cell_type": "code",
   "execution_count": 4,
   "metadata": {
    "collapsed": false
   },
   "outputs": [
    {
     "data": {
      "text/html": [
       "<div>\n",
       "<table border=\"1\" class=\"dataframe\">\n",
       "  <thead>\n",
       "    <tr style=\"text-align: right;\">\n",
       "      <th></th>\n",
       "      <th>Uninspired</th>\n",
       "      <th>Sophisticated</th>\n",
       "      <th>Aggressive</th>\n",
       "      <th>Edgy</th>\n",
       "      <th>Sociable</th>\n",
       "      <th>Laid back</th>\n",
       "      <th>Wholesome</th>\n",
       "      <th>Uplifting</th>\n",
       "      <th>Intriguing</th>\n",
       "      <th>Legendary</th>\n",
       "      <th>...</th>\n",
       "      <th>Unoriginal</th>\n",
       "      <th>Dated</th>\n",
       "      <th>Iconic</th>\n",
       "      <th>Unapproachable</th>\n",
       "      <th>Classic</th>\n",
       "      <th>Playful</th>\n",
       "      <th>Arrogant</th>\n",
       "      <th>Warm</th>\n",
       "      <th>Soulful</th>\n",
       "      <th>Unnamed: 87</th>\n",
       "    </tr>\n",
       "  </thead>\n",
       "  <tbody>\n",
       "    <tr>\n",
       "      <th>0</th>\n",
       "      <td>NaN</td>\n",
       "      <td>0</td>\n",
       "      <td>NaN</td>\n",
       "      <td>0</td>\n",
       "      <td>0</td>\n",
       "      <td>0</td>\n",
       "      <td>NaN</td>\n",
       "      <td>0</td>\n",
       "      <td>0</td>\n",
       "      <td>NaN</td>\n",
       "      <td>...</td>\n",
       "      <td>NaN</td>\n",
       "      <td>0</td>\n",
       "      <td>NaN</td>\n",
       "      <td>NaN</td>\n",
       "      <td>0</td>\n",
       "      <td>NaN</td>\n",
       "      <td>NaN</td>\n",
       "      <td>0</td>\n",
       "      <td>0</td>\n",
       "      <td>NaN</td>\n",
       "    </tr>\n",
       "    <tr>\n",
       "      <th>1</th>\n",
       "      <td>0</td>\n",
       "      <td>NaN</td>\n",
       "      <td>0</td>\n",
       "      <td>0</td>\n",
       "      <td>NaN</td>\n",
       "      <td>NaN</td>\n",
       "      <td>NaN</td>\n",
       "      <td>NaN</td>\n",
       "      <td>NaN</td>\n",
       "      <td>NaN</td>\n",
       "      <td>...</td>\n",
       "      <td>0</td>\n",
       "      <td>0</td>\n",
       "      <td>NaN</td>\n",
       "      <td>0</td>\n",
       "      <td>0</td>\n",
       "      <td>0</td>\n",
       "      <td>0</td>\n",
       "      <td>0</td>\n",
       "      <td>NaN</td>\n",
       "      <td>NaN</td>\n",
       "    </tr>\n",
       "    <tr>\n",
       "      <th>2</th>\n",
       "      <td>0</td>\n",
       "      <td>NaN</td>\n",
       "      <td>0</td>\n",
       "      <td>0</td>\n",
       "      <td>NaN</td>\n",
       "      <td>NaN</td>\n",
       "      <td>NaN</td>\n",
       "      <td>NaN</td>\n",
       "      <td>NaN</td>\n",
       "      <td>NaN</td>\n",
       "      <td>...</td>\n",
       "      <td>0</td>\n",
       "      <td>0</td>\n",
       "      <td>NaN</td>\n",
       "      <td>0</td>\n",
       "      <td>0</td>\n",
       "      <td>0</td>\n",
       "      <td>0</td>\n",
       "      <td>0</td>\n",
       "      <td>NaN</td>\n",
       "      <td>NaN</td>\n",
       "    </tr>\n",
       "    <tr>\n",
       "      <th>3</th>\n",
       "      <td>NaN</td>\n",
       "      <td>NaN</td>\n",
       "      <td>0</td>\n",
       "      <td>0</td>\n",
       "      <td>NaN</td>\n",
       "      <td>NaN</td>\n",
       "      <td>NaN</td>\n",
       "      <td>NaN</td>\n",
       "      <td>NaN</td>\n",
       "      <td>NaN</td>\n",
       "      <td>...</td>\n",
       "      <td>0</td>\n",
       "      <td>0</td>\n",
       "      <td>NaN</td>\n",
       "      <td>0</td>\n",
       "      <td>0</td>\n",
       "      <td>0</td>\n",
       "      <td>0</td>\n",
       "      <td>0</td>\n",
       "      <td>NaN</td>\n",
       "      <td>NaN</td>\n",
       "    </tr>\n",
       "    <tr>\n",
       "      <th>4</th>\n",
       "      <td>NaN</td>\n",
       "      <td>NaN</td>\n",
       "      <td>0</td>\n",
       "      <td>0</td>\n",
       "      <td>NaN</td>\n",
       "      <td>NaN</td>\n",
       "      <td>NaN</td>\n",
       "      <td>NaN</td>\n",
       "      <td>NaN</td>\n",
       "      <td>NaN</td>\n",
       "      <td>...</td>\n",
       "      <td>0</td>\n",
       "      <td>0</td>\n",
       "      <td>NaN</td>\n",
       "      <td>0</td>\n",
       "      <td>0</td>\n",
       "      <td>0</td>\n",
       "      <td>0</td>\n",
       "      <td>0</td>\n",
       "      <td>NaN</td>\n",
       "      <td>NaN</td>\n",
       "    </tr>\n",
       "  </tbody>\n",
       "</table>\n",
       "<p>5 rows × 83 columns</p>\n",
       "</div>"
      ],
      "text/plain": [
       "   Uninspired  Sophisticated  Aggressive  Edgy  Sociable  Laid back  Wholesome  Uplifting  Intriguing  Legendary     ...       Unoriginal  Dated  Iconic  Unapproachable  Classic  Playful  \\\n",
       "0         NaN              0         NaN     0         0          0        NaN          0           0        NaN     ...              NaN      0     NaN             NaN        0      NaN   \n",
       "1           0            NaN           0     0       NaN        NaN        NaN        NaN         NaN        NaN     ...                0      0     NaN               0        0        0   \n",
       "2           0            NaN           0     0       NaN        NaN        NaN        NaN         NaN        NaN     ...                0      0     NaN               0        0        0   \n",
       "3         NaN            NaN           0     0       NaN        NaN        NaN        NaN         NaN        NaN     ...                0      0     NaN               0        0        0   \n",
       "4         NaN            NaN           0     0       NaN        NaN        NaN        NaN         NaN        NaN     ...                0      0     NaN               0        0        0   \n",
       "\n",
       "   Arrogant  Warm  Soulful  Unnamed: 87  \n",
       "0       NaN     0        0          NaN  \n",
       "1         0     0      NaN          NaN  \n",
       "2         0     0      NaN          NaN  \n",
       "3         0     0      NaN          NaN  \n",
       "4         0     0      NaN          NaN  \n",
       "\n",
       "[5 rows x 83 columns]"
      ]
     },
     "execution_count": 4,
     "metadata": {},
     "output_type": "execute_result"
    }
   ],
   "source": [
    "word_frequency = words_raw_data.copy().drop(['Artist', 'User', 'HEARD_OF', 'OWN_ARTIST_MUSIC', 'LIKE_ARTIST'], axis=1)\n",
    "word_frequency.head()"
   ]
  },
  {
   "cell_type": "code",
   "execution_count": 5,
   "metadata": {
    "collapsed": false
   },
   "outputs": [
    {
     "data": {
      "text/plain": [
       "<matplotlib.axes._subplots.AxesSubplot at 0x7f7cbacfd3d0>"
      ]
     },
     "execution_count": 5,
     "metadata": {},
     "output_type": "execute_result"
    },
    {
     "data": {
      "image/png": "[encoded data removed]",
      "text/plain": [
       "<matplotlib.figure.Figure at 0x7f7cbadc21d0>"
      ]
     },
     "metadata": {},
     "output_type": "display_data"
    }
   ],
   "source": [
    "word_frequency_sorted = word_frequency.sum().dropna()\n",
    "word_frequency_sorted = pd.Series.order(word_frequency_sorted, ascending=False)\n",
    "\n",
    "# Show only the top and bottom 10\n",
    "fig, axis = plt.subplots(1,2)\n",
    "word_frequency_sorted[:10].plot(kind='bar', ax=axis[0])\n",
    "word_frequency_sorted[len(word_frequency_sorted) - 10:].plot(kind='bar', figsize=(16,8),  ax=axis[1])"
   ]
  },
  {
   "cell_type": "markdown",
   "metadata": {},
   "source": [
    "## Most frequently used words by gender"
   ]
  },
  {
   "cell_type": "code",
   "execution_count": 6,
   "metadata": {
    "collapsed": true
   },
   "outputs": [],
   "source": [
    "user_gender_data = pd.read_csv('users.csv', usecols=['RESPID', 'GENDER'])\n",
    "words_with_gender = pd.merge(words_raw_data.copy(), user_gender_data, left_on='User', right_on='RESPID')\n",
    "words_with_gender = words_with_gender.drop(['User', 'Artist', 'OWN_ARTIST_MUSIC', 'LIKE_ARTIST', 'RESPID'], axis=1)\n",
    "\n",
    "female_words_count = words_with_gender[words_with_gender['GENDER'] == 'Female'].sum()#.groupby('GENDER').sum().dropna(axis=1) # Drop the \"Unnamed\" entries\n",
    "male_words_count = words_with_gender[words_with_gender['GENDER'] == 'Male'].sum()#.groupby('GENDER').sum().dropna(axis=1)"
   ]
  },
  {
   "cell_type": "code",
   "execution_count": 7,
   "metadata": {
    "collapsed": false
   },
   "outputs": [
    {
     "data": {
      "text/plain": [
       "<matplotlib.axes._subplots.AxesSubplot at 0x7f7cb92ac690>"
      ]
     },
     "execution_count": 7,
     "metadata": {},
     "output_type": "execute_result"
    },
    {
     "data": {
      "image/png": "[encoded data removed]",
      "text/plain": [
       "<matplotlib.figure.Figure at 0x7f7cb9314d10>"
      ]
     },
     "metadata": {},
     "output_type": "display_data"
    }
   ],
   "source": [
    "female_words_count.sort(ascending=False)\n",
    "male_words_count.sort(ascending=False)\n",
    "\n",
    "most_used_female = female_words_count[:10]\n",
    "most_used_male = male_words_count[:10]\n",
    "\n",
    "fig, axis = plt.subplots(1, 2)\n",
    "most_used_female.plot( kind='barh', title=\"Words used most by female participants\", figsize=(16,8), ax=axis[0])\n",
    "most_used_male.plot( kind='barh', title=\"Words used most by male participants\", ax=axis[1])"
   ]
  },
  {
   "cell_type": "code",
   "execution_count": 8,
   "metadata": {
    "collapsed": false
   },
   "outputs": [
    {
     "data": {
      "text/plain": [
       "Catchy         12368\n",
       "Distinctive    11117\n",
       "Current         9800\n",
       "Talented        8843\n",
       "Cool            8524\n",
       "Original        8197\n",
       "Energetic       7849\n",
       "Confident       7374\n",
       "Good lyrics     7060\n",
       "Calm            6924\n",
       "dtype: float64"
      ]
     },
     "execution_count": 8,
     "metadata": {},
     "output_type": "execute_result"
    }
   ],
   "source": [
    "most_used_female"
   ]
  },
  {
   "cell_type": "code",
   "execution_count": null,
   "metadata": {
    "collapsed": true
   },
   "outputs": [],
   "source": []
  }
 ],
 "metadata": {
  "kernelspec": {
   "display_name": "Python 2",
   "language": "python",
   "name": "python2"
  },
  "language_info": {
   "codemirror_mode": {
    "name": "ipython",
    "version": 2
   },
   "file_extension": ".py",
   "mimetype": "text/x-python",
   "name": "python",
   "nbconvert_exporter": "python",
   "pygments_lexer": "ipython2",
   "version": "2.7.6"
  }
 },
 "nbformat": 4,
 "nbformat_minor": 0
}
