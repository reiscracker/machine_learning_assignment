{
 "cells": [
  {
   "cell_type": "markdown",
   "metadata": {},
   "source": [
    "- Einleitung in den Datensatz\n",
    "    - Allgemein Challange\n",
    "    - Datenstruktur (Felder beschreiben)\n",
    "    - Zielsetzung\n",
    "\n",
    "- Visualisierung / Explorative untersuchung\n",
    "    - Wie viel von was...\n",
    "    - Cooccurrenten analyse\n",
    "\n",
    "- Predictig\n",
    "    - Preprocessing\n",
    "        - NaN Felder füllen\n",
    "        - Dummy Felder füllen\n",
    "    - LinearRegression\n",
    "    - RandomForest\n",
    "    - SupportVectorRegression\n",
    "    - Vergleich unserer Lösung\n",
    "- Fazit"
   ]
  },
  {
   "cell_type": "code",
   "execution_count": null,
   "metadata": {
    "collapsed": true
   },
   "outputs": [],
   "source": [
    "def blub:\n",
    "    print \"hallo\""
   ]
  },
  {
   "cell_type": "code",
   "execution_count": null,
   "metadata": {
    "collapsed": true
   },
   "outputs": [],
   "source": []
  }
 ],
 "metadata": {
  "kernelspec": {
   "display_name": "Python 2",
   "language": "python",
   "name": "python2"
  },
  "language_info": {
   "codemirror_mode": {
    "name": "ipython",
    "version": 2
   },
   "file_extension": ".py",
   "mimetype": "text/x-python",
   "name": "python",
   "nbconvert_exporter": "python",
   "pygments_lexer": "ipython2",
   "version": "2.7.6"
  }
 },
 "nbformat": 4,
 "nbformat_minor": 0
}
