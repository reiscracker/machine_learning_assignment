{
 "cells": [
  {
   "cell_type": "markdown",
   "metadata": {},
   "source": [
    "- Einleitung in den Datensatz\n",
    "    - Allgemein Challange\n",
    "    - Datenstruktur (Felder beschreiben)\n",
    "    - Zielsetzung\n",
    "\n",
    "- Visualisierung / Explorative untersuchung\n",
    "    - Wie viel von was...\n",
    "    - Cooccurrenten analyse\n",
    "\n",
    "- Predictig\n",
    "    - Preprocessing\n",
    "        - NaN Felder füllen\n",
    "        - Dummy Felder füllen\n",
    "    - LinearRegression\n",
    "    - RandomForest\n",
    "    - SupportVectorRegression\n",
    "    - Vergleich unserer Lösung\n",
    "- Fazit"
   ]
  },
  {
   "cell_type": "markdown",
   "metadata": {
    "collapsed": true
   },
   "source": [
    "# Einleitung\n",
    "\n",
    "## EMI Music Data Science Hackathon\n",
    "Der EMI Music Data Science Hackathon war ein vom 21. Juli 2012 bis zum 22. Juli 2012 laufender Wettbewerb auf kaggle.com der zur EMI Music Group gehörenden EMI Insight. Grundlage des Wettbewerbs war ein Datensatz der EMI Insight Marktforschung, der insgesamt eine Million Erhebungen und Aussagen über Musikvorlieben, Hörgewohnheiten und weitere Daten, wie beispielsweise Wohnort, Alter und Arbeitssituation beinhaltet. Eine Teilmenge dieses Datensatzes wurde für den Hackathon zur Verfügung gestellt um die Frage zu beantworten, inwieweit sich anhand dieser statistischen Daten voraussagen lässt, wie positiv oder negativ eine Person ein bestimmtes neues Lied bewerten wird.\n",
    "\n",
    "Ein weiterer Augenmerk des Hackathons lag auf der Visualisierung der vorhandenen Daten. Da die Umfragen der EMI Insight auch einige Informationen über die Lebensverhältnisse der befragten Personen liefern, liessen sich aus dem Datensatz auch interessante Schlussfolgerungen über beispielsweise die Musikvorlieben unterschiedlicher Altersgruppen herleiten. Diese konnten visualisiert und anschließend von anderen Nutzern des Hackthons bewertet werden.\n",
    "\n",
    "## Der Datensatz\n",
    "Der zur Verfügung gestellte Datensatz beinhaltet insgesamt fünf Dateien im `csv` Format:\n",
    "    \n",
    "- `train.csv:` Künstler-Id, Track-Id und User-Id zusammen mit der abgegebenen Bewertung des Befragten zu diesem Lied auf einer Skala von 1 bis 100, sowie das Datum, an dem die Person befragt wurde.\n",
    "- `users.csv:` Informationen über die Befragten. Dazu gehören die User-Id, das Geschlecht des Befragten, das Alter, die Arbeitssituation und die Region des Wohnortes in Großbritannien.    \n",
    "    Außerdem Angaben der Personen, wieviele Stunden sie Musik täglich aktiv (beispielsweise mithilfe eines IPods) und passiv (beispielsweise im Radio) hören. Die Datei enthält weiterhin Aussagen der Befragten, welche Rolle Musik in ihrem Leben spielt, mit einer Auswahl zwischen den Antwortmöglichkeiten:\n",
    "    - Music is important to me but not necessarily more important\n",
    "    - Music means a lot to me and is a passion of mine                                               \n",
    "    - I like music but it does not feature heavily in my life                                        \n",
    "    - Music is important to me but not necessarily more important than other hobbies or interests     \n",
    "    - Music is no longer as important as it used to be to me                                          \n",
    "    - Music has no particular interest for me\n",
    "    \n",
    "  und Antworten auf einer Skala von 1 bis 100 (mit 1 - _Stimme gar nicht zu_ und 100 - _Stimme voll zu_) auf folgende Fragen:\n",
    "    - I enjoy actively searching for and discovering music that I have never heard before\n",
    "    - I find it easy to find new music\n",
    "    - I am constantly interested in and looking for more music\n",
    "    - I would like to buy new music but I don’t know what to buy\n",
    "    - I used to know where to find music\n",
    "    - I am not willing to pay for music\n",
    "    - I enjoy music primarily from going out to dance\n",
    "    - Music for me is all about nightlife and going out\n",
    "    - I am out of touch with new music\n",
    "    - My music collection is a source of pride\n",
    "    - Pop music is fun\n",
    "    - Pop music helps me to escape\n",
    "    - I want a multi media experience at my fingertips wherever I go\n",
    "    - I love technology\n",
    "    - People often ask my advice on music - what to listen to\n",
    "    - I would be willing to pay for the opportunity to buy new music pre-release\n",
    "    - I find seeing a new artist / band on TV a useful way of discovering new music\n",
    "    - I like to be at the cutting edge of new music\n",
    "    - I like to know about music before other people\n",
    "- `words.csv:` Künstler-Id, User-Id und Aussagen der Befragten darüber, ob sie den gerade gehörten Künstler kennen, Werke von ihm besitzen, wie sie ihn auf einer Skala von 1 bis 100 bewerten und die Wahl der Befragten von 82 möglichen Worten, mit denen sie den gerade gehörten Künstler beschreiben sollten.\n",
    "- `UserKey.csv:` Spaltenüberschriften für die Datei `users.csv`\n",
    "- `test.csv:` Der Datensatz, der zur Bewertung verwendet wird. Dieser ist wie die Datei `train.csv` aufgebaut, enthält allerdings keine Bewertungen der Lieder. Diese sollen vorhergesagt werden.\n",
    "\n",
    "## Ziel des Hackathons\n",
    "Ziel des Hackathons und auch unsere Zielsetzung war es, einen Algorithmus zu entwickeln, der die Bewertung eines Nutzers für ein gehörtes Lied auf einer Skala von 1 bis 100 vorhersagen kann.\n",
    "Dazu soll der Algorithmus die demographischen Daten des Nutzers, die von ihm abgegebenen Bewertungen zu anderen Liedern und Künstlern, die verwendeten Wörter um gehörte Künstler zu beschreiben, sowie die Musikvorlieben des Befragten in Betracht ziehen.\n",
    "\n",
    "Bewertet wurde dabei mithilfe des Testdatensatzes, zu dem die vermutlichen Bewertungen vorhergesagt werden sollten. Der _Score_ war der _Root Mean Squared Error_ zwischen vorhergesagten und tatsächlichen Bewertungen der in der Datei `test.csv` aufgeführten Lieder. Leider standen uns die Originaldaten, also die Testdatei __mit__ tatsächlichen Bewertungen nicht zur Verfügung, sodass wir unseren _Score_ nicht auf den gleichen Daten wie die Teilnehmer des Hackathons berechnen konnten.\n",
    "\n",
    "Neben der eigentlichen Vorhersage der Bewertungen sollten auch Visualisierungen der demographischen Daten und der Antworten auf die in der Umfrage gestellten Fragen der Nutzer entstehen.  "
   ]
  },
  {
   "cell_type": "markdown",
   "metadata": {
    "collapsed": true
   },
   "source": [
    "# Explorative Analyse der Daten\n",
    "Uns standen insgesamt 188691 Bewertungen der Nutzer zur Verfügung, wobei jeder Nutzer mehrere Titel bewertete und jeder Titel auch von mehreren Benutzern bewertet wurde. Insgesamt zeigte sich, dass Nutzer eher Bewertungen in Zehnerschritten bevorzugten, insbesondere die Werte 10, 30, 50, 70 und 90.\n",
    "\n",
    "![Image Alt](images/overall_rating_distribution.png)\n"
   ]
  },
  {
   "cell_type": "markdown",
   "metadata": {},
   "source": [
    "Die Geschlechterverteilung war dabei annähernd gleich.\n",
    "![Image Alt](images/gender_distribution.png) \n",
    "Das Alter der Befragten reichte von 13 bis 94 Jahre. Die größte Bevölkerungsgruppe stellte die Gruppe der 20-25 Jährigen. \n",
    "![Image Alt](images/age_distribution.png)"
   ]
  },
  {
   "cell_type": "markdown",
   "metadata": {},
   "source": [
    "Auf die Frage, welche Rolle Musik im Leben der Person spiele, antworteten eine große Mehrheit, dass Musik eine sehr wichtige oder zumindest wichtige Rolle spiele. \n",
    "![Image Alt](images/music_importance_distribution.png)"
   ]
  },
  {
   "cell_type": "markdown",
   "metadata": {
    "collapsed": true
   },
   "source": [
    "Und auch die angegebene Zeit, die Teilnehmer der Umfrage täglich aktiv und passiv mit dem Hören von Musik verbringen, bewegte sich eher im niedrigen Bereich. Es ist zu beachten, dass Angaben von \"Mehr als 16 Stunden\" zu dem Wert für 16 Stunden hinzugezählt wurden.\n",
    "![Image Alt](images/actively_passively_listening.png)"
   ]
  },
  {
   "cell_type": "markdown",
   "metadata": {},
   "source": [
    "Dabei zeigte sich, dass das jüngere Teilnehmer eindeutig mehr Zeit mit dem Hören von Musik verbrachten als ältere. Dies deckte sich mit dem Interesse an Musik der Teilnehmer, das mit zunehmendem Alter abnahm. Um dies in einen numerischen Wert zu bringen, wurde jeder möglichen Aussage zur Wichtigkeit von Musik im Leben des Teilnehmers ein Wert zugewiesen:\n",
    "\n",
    "```python\n",
    "# Transform the music interest into a usable value\n",
    "def music_interest_transform(answer):\n",
    "    return {\n",
    "        'Music means a lot to me and is a passion of mine' : 1,\n",
    "        'Music is important to me but not necessarily more important than other hobbies or interests' : 0.75,\n",
    "        'Music is important to me but not necessarily more important': 0.75,\n",
    "        'I like music but it does not feature heavily in my life': 0.5,\n",
    "        'Music is no longer as important as it used to be to me': 0.25,\n",
    "        'Music has no particular interest for me': 0\n",
    "    }.get(answer, np.nan)\n",
    "    \n",
    "data.loc[:, 'MUSIC'] = data['MUSIC'].apply(music_interest_transform)\n",
    "```"
   ]
  },
  {
   "cell_type": "markdown",
   "metadata": {},
   "source": [
    "![Image Alt](images/listening_hours_by_age.png)\n",
    "![Image Alt](images/music_interest_by_age.png)\n",
    "\n",
    "__Hinweis__: Im letzten Plot wurden Altersgruppen von Teilnehmern, die weniger als 100 Personen beinhalteten herausgenommen, da diese durch ihre geringe Zahl keine aussagekräftigen Werte lieferten."
   ]
  },
  {
   "cell_type": "markdown",
   "metadata": {},
   "source": [
    "## Demographische Daten und ihr Zusammenhang mit der abgegebenen Bewertung"
   ]
  },
  {
   "cell_type": "markdown",
   "metadata": {},
   "source": [
    "In Bezug nun zur Bewertung, die Teilnehmer den Songs bzw Künstlern gaben, schienen einige demographische Daten eine wichtige Rolle zu spielen. So gaben Teilnehmer, die eine feste Stelle hatten durchschnittlich am meisten Punkte, Teilnehmer die bereits pensioniert waren am wenigsten."
   ]
  },
  {
   "cell_type": "markdown",
   "metadata": {},
   "source": [
    "![Image Alt](images/rating_by_employment.png)"
   ]
  },
  {
   "cell_type": "code",
   "execution_count": null,
   "metadata": {
    "collapsed": true
   },
   "outputs": [],
   "source": []
  }
 ],
 "metadata": {
  "kernelspec": {
   "display_name": "Python 2",
   "language": "python",
   "name": "python2"
  },
  "language_info": {
   "codemirror_mode": {
    "name": "ipython",
    "version": 2
   },
   "file_extension": ".py",
   "mimetype": "text/x-python",
   "name": "python",
   "nbconvert_exporter": "python",
   "pygments_lexer": "ipython2",
   "version": "2.7.6"
  }
 },
 "nbformat": 4,
 "nbformat_minor": 0
}
