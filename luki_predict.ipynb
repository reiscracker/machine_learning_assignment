{
 "metadata": {
  "name": ""
 },
 "nbformat": 3,
 "nbformat_minor": 0,
 "worksheets": [
  {
   "cells": [
    {
     "cell_type": "code",
     "collapsed": false,
     "input": [
      "%matplotlib inline\n",
      "import numpy as np\n",
      "import pandas as pd\n",
      "import matplotlib.pyplot as plt\n",
      "import math"
     ],
     "language": "python",
     "metadata": {},
     "outputs": [],
     "prompt_number": 1
    },
    {
     "cell_type": "code",
     "collapsed": false,
     "input": [
      "# Read training and user data\n",
      "trainFrame = pd.read_csv('train.csv')\n",
      "userFrame = pd.read_csv('users.csv')\n",
      "wordsFrame = pd.read_csv('words.csv')"
     ],
     "language": "python",
     "metadata": {},
     "outputs": [],
     "prompt_number": 2
    },
    {
     "cell_type": "markdown",
     "metadata": {},
     "source": [
      "__ Analyse der Konsistenz in den CSV Dateien __\n",
      "\n",
      "Wie zu sehen ist gibt es inkonsistenzen bei den User-Daten. In allen csv Dateien gibt es eine unterscheidliche Zahl von eineindeutigen Users. Wir werden beim zusammenf\u00fchren dieser Datein einen inner join verwenden damit nur noch Datens\u00e4tze verwendet werden wo die User \u00fcberall vorkommen. Leider k\u00f6nnen wir User nicht \u00fcber einen Mittelwert auff\u00fcllen."
     ]
    },
    {
     "cell_type": "code",
     "collapsed": false,
     "input": [
      "print \"Unique Artists in train Frame %i\" % trainFrame.Artist.unique().size\n",
      "print \"Unique Artists in words Frame %i\" % wordsFrame.Artist.unique().size\n",
      "print \"Unique Users in train Frame %i\" % trainFrame.User.unique().size\n",
      "print \"Unique Users in words Frame %i\" % wordsFrame.User.unique().size\n",
      "print \"Unique Users in user Frame %i\" % userFrame.RESPID.unique().size"
     ],
     "language": "python",
     "metadata": {},
     "outputs": [
      {
       "output_type": "stream",
       "stream": "stdout",
       "text": [
        "Unique Artists in train Frame 50\n",
        "Unique Artists in words Frame 50\n",
        "Unique Users in train Frame 49479\n",
        "Unique Users in words Frame 50928\n",
        "Unique Users in user Frame 48645\n"
       ]
      }
     ],
     "prompt_number": 3
    },
    {
     "cell_type": "markdown",
     "metadata": {},
     "source": [
      "__ Markiere inkonsistente User/Track records__\n",
      "\n",
      "Dieser Schritt ist nicht mehr n\u00f6tig, wenn die dateien durch einen InnerJoin zusammengef\u00fchrt werden.\n",
      "Uns ist aufgefallen, dass nicht jeder user der users.csv auch in train.csv vorkommt und umgekehrt."
     ]
    },
    {
     "cell_type": "code",
     "collapsed": false,
     "input": [
      "# Mark inconsistent data\n",
      "#unique_track_users = np.unique(trackFrame.User)\n",
      "#unique_users = np.unique(userFrame.RESPID)\n",
      "#udiff = np.setdiff1d(unique_track_users, unique_users)\n",
      "#trackFrame['inconsistent'] = trackFrame.User.apply(lambda uid: uid in udiff)\n",
      "#userFrame['inconsistent'] = userFrame.RESPID.apply(lambda uid: uid in udiff)"
     ],
     "language": "python",
     "metadata": {},
     "outputs": [],
     "prompt_number": 3
    },
    {
     "cell_type": "markdown",
     "metadata": {},
     "source": [
      "__ Erstellen von Dummy-Werte/Spalten f\u00fcr nicht-nummerische Spalten __\n",
      "\n",
      "Die Spalten GENDER, REGION, WORKING und MUSIC sind alle mit nicht-nummerischen Werten Gef\u00fcllt. Diese Werte m\u00fcssen nun in nummerische Werte umgewandelt werden. Daf\u00fcr werden sogenannte Dummy Werte erstellt. "
     ]
    },
    {
     "cell_type": "code",
     "collapsed": false,
     "input": [
      "# Als beispiel werden f\u00fcr die eintr\u00e4ge in der Spalte GENDER jeweils eine neue Spalte gemacht\n",
      "# Diese spalten enthalten dann nur noch 0 oder 1 ob es sich um Female oder Male handelt.\n",
      "pd.get_dummies(userFrame['GENDER'], prefix=\"sex\").head(5)"
     ],
     "language": "python",
     "metadata": {},
     "outputs": [
      {
       "html": [
        "<div style=\"max-height:1000px;max-width:1500px;overflow:auto;\">\n",
        "<table border=\"1\" class=\"dataframe\">\n",
        "  <thead>\n",
        "    <tr style=\"text-align: right;\">\n",
        "      <th></th>\n",
        "      <th>sex_Female</th>\n",
        "      <th>sex_Male</th>\n",
        "    </tr>\n",
        "  </thead>\n",
        "  <tbody>\n",
        "    <tr>\n",
        "      <th>0</th>\n",
        "      <td> 1</td>\n",
        "      <td> 0</td>\n",
        "    </tr>\n",
        "    <tr>\n",
        "      <th>1</th>\n",
        "      <td> 1</td>\n",
        "      <td> 0</td>\n",
        "    </tr>\n",
        "    <tr>\n",
        "      <th>2</th>\n",
        "      <td> 1</td>\n",
        "      <td> 0</td>\n",
        "    </tr>\n",
        "    <tr>\n",
        "      <th>3</th>\n",
        "      <td> 1</td>\n",
        "      <td> 0</td>\n",
        "    </tr>\n",
        "    <tr>\n",
        "      <th>4</th>\n",
        "      <td> 1</td>\n",
        "      <td> 0</td>\n",
        "    </tr>\n",
        "  </tbody>\n",
        "</table>\n",
        "<p>5 rows \u00d7 2 columns</p>\n",
        "</div>"
       ],
       "metadata": {},
       "output_type": "pyout",
       "prompt_number": 4,
       "text": [
        "   sex_Female  sex_Male\n",
        "0           1         0\n",
        "1           1         0\n",
        "2           1         0\n",
        "3           1         0\n",
        "4           1         0\n",
        "\n",
        "[5 rows x 2 columns]"
       ]
      }
     ],
     "prompt_number": 4
    },
    {
     "cell_type": "code",
     "collapsed": false,
     "input": [
      "# Make rich features out of verbal columns GENDER, REGION, WORKING, MUSIC\n",
      "userFrameDummy = pd.concat([userFrame,\n",
      "                            pd.get_dummies(userFrame['GENDER'], prefix=\"sex\"),\n",
      "                            pd.get_dummies(userFrame['REGION'], prefix=\"region\"),\n",
      "                            pd.get_dummies(userFrame['WORKING'], prefix=\"work\"),\n",
      "                            pd.get_dummies(userFrame['MUSIC'], prefix=\"music\")], \n",
      "                           axis=1)\n",
      "\n",
      "wordsFrameDummy = pd.concat([wordsFrame,\n",
      "                             pd.get_dummies(wordsFrame.HEARD_OF, prefix='heard'),\n",
      "                             pd.get_dummies(wordsFrame.OWN_ARTIST_MUSIC, prefix='own')],\n",
      "                            axis=1)\n",
      "\n",
      "# Die verbalen Spalten k\u00f6nnen nach dem transformieren gel\u00f6scht werden, diese haben keine Bedeutung mehr.\n",
      "userFrameDummy = userFrameDummy.drop(['GENDER', 'REGION', 'WORKING', 'MUSIC', 'sex_Male'], 1)\n",
      "wordsFrameDummy = wordsFrameDummy.drop(['HEARD_OF', 'OWN_ARTIST_MUSIC'], 1)\n",
      "wordsFrameDummy.head()"
     ],
     "language": "python",
     "metadata": {},
     "outputs": [
      {
       "html": [
        "<div style=\"max-height:1000px;max-width:1500px;overflow:auto;\">\n",
        "<table border=\"1\" class=\"dataframe\">\n",
        "  <thead>\n",
        "    <tr style=\"text-align: right;\">\n",
        "      <th></th>\n",
        "      <th>Artist</th>\n",
        "      <th>User</th>\n",
        "      <th>LIKE_ARTIST</th>\n",
        "      <th>Uninspired</th>\n",
        "      <th>Sophisticated</th>\n",
        "      <th>Aggressive</th>\n",
        "      <th>Edgy</th>\n",
        "      <th>Sociable</th>\n",
        "      <th>Laid back</th>\n",
        "      <th>Wholesome</th>\n",
        "      <th>Uplifting</th>\n",
        "      <th>Intriguing</th>\n",
        "      <th>Legendary</th>\n",
        "      <th>Free</th>\n",
        "      <th>Thoughtful</th>\n",
        "      <th>Outspoken</th>\n",
        "      <th>Serious</th>\n",
        "      <th>Good lyrics</th>\n",
        "      <th>Unattractive</th>\n",
        "      <th>Confident</th>\n",
        "      <th></th>\n",
        "    </tr>\n",
        "  </thead>\n",
        "  <tbody>\n",
        "    <tr>\n",
        "      <th>0</th>\n",
        "      <td> 47</td>\n",
        "      <td> 45969</td>\n",
        "      <td>NaN</td>\n",
        "      <td>NaN</td>\n",
        "      <td>  0</td>\n",
        "      <td>NaN</td>\n",
        "      <td> 0</td>\n",
        "      <td>  0</td>\n",
        "      <td>  0</td>\n",
        "      <td>NaN</td>\n",
        "      <td>  0</td>\n",
        "      <td>  0</td>\n",
        "      <td>NaN</td>\n",
        "      <td>  0</td>\n",
        "      <td> 0</td>\n",
        "      <td>  0</td>\n",
        "      <td>NaN</td>\n",
        "      <td>NaN</td>\n",
        "      <td>NaN</td>\n",
        "      <td>NaN</td>\n",
        "      <td>...</td>\n",
        "    </tr>\n",
        "    <tr>\n",
        "      <th>1</th>\n",
        "      <td> 35</td>\n",
        "      <td> 29118</td>\n",
        "      <td>NaN</td>\n",
        "      <td>  0</td>\n",
        "      <td>NaN</td>\n",
        "      <td>  0</td>\n",
        "      <td> 0</td>\n",
        "      <td>NaN</td>\n",
        "      <td>NaN</td>\n",
        "      <td>NaN</td>\n",
        "      <td>NaN</td>\n",
        "      <td>NaN</td>\n",
        "      <td>NaN</td>\n",
        "      <td>NaN</td>\n",
        "      <td> 0</td>\n",
        "      <td>NaN</td>\n",
        "      <td>  0</td>\n",
        "      <td>  0</td>\n",
        "      <td>  0</td>\n",
        "      <td>  0</td>\n",
        "      <td>...</td>\n",
        "    </tr>\n",
        "    <tr>\n",
        "      <th>2</th>\n",
        "      <td> 14</td>\n",
        "      <td> 31544</td>\n",
        "      <td>NaN</td>\n",
        "      <td>  0</td>\n",
        "      <td>NaN</td>\n",
        "      <td>  0</td>\n",
        "      <td> 0</td>\n",
        "      <td>NaN</td>\n",
        "      <td>NaN</td>\n",
        "      <td>NaN</td>\n",
        "      <td>NaN</td>\n",
        "      <td>NaN</td>\n",
        "      <td>NaN</td>\n",
        "      <td>NaN</td>\n",
        "      <td> 1</td>\n",
        "      <td>NaN</td>\n",
        "      <td>  0</td>\n",
        "      <td>  0</td>\n",
        "      <td>  0</td>\n",
        "      <td>  0</td>\n",
        "      <td>...</td>\n",
        "    </tr>\n",
        "    <tr>\n",
        "      <th>3</th>\n",
        "      <td> 23</td>\n",
        "      <td> 18085</td>\n",
        "      <td>NaN</td>\n",
        "      <td>NaN</td>\n",
        "      <td>NaN</td>\n",
        "      <td>  0</td>\n",
        "      <td> 0</td>\n",
        "      <td>NaN</td>\n",
        "      <td>NaN</td>\n",
        "      <td>NaN</td>\n",
        "      <td>NaN</td>\n",
        "      <td>NaN</td>\n",
        "      <td>NaN</td>\n",
        "      <td>NaN</td>\n",
        "      <td> 0</td>\n",
        "      <td>NaN</td>\n",
        "      <td>  0</td>\n",
        "      <td>  0</td>\n",
        "      <td>  0</td>\n",
        "      <td>  0</td>\n",
        "      <td>...</td>\n",
        "    </tr>\n",
        "    <tr>\n",
        "      <th>4</th>\n",
        "      <td> 23</td>\n",
        "      <td> 18084</td>\n",
        "      <td>NaN</td>\n",
        "      <td>NaN</td>\n",
        "      <td>NaN</td>\n",
        "      <td>  0</td>\n",
        "      <td> 0</td>\n",
        "      <td>NaN</td>\n",
        "      <td>NaN</td>\n",
        "      <td>NaN</td>\n",
        "      <td>NaN</td>\n",
        "      <td>NaN</td>\n",
        "      <td>NaN</td>\n",
        "      <td>NaN</td>\n",
        "      <td> 0</td>\n",
        "      <td>NaN</td>\n",
        "      <td>  0</td>\n",
        "      <td>  0</td>\n",
        "      <td>  0</td>\n",
        "      <td>  0</td>\n",
        "      <td>...</td>\n",
        "    </tr>\n",
        "  </tbody>\n",
        "</table>\n",
        "<p>5 rows \u00d7 100 columns</p>\n",
        "</div>"
       ],
       "metadata": {},
       "output_type": "pyout",
       "prompt_number": 5,
       "text": [
        "   Artist   User  LIKE_ARTIST  Uninspired  Sophisticated  Aggressive  Edgy  \\\n",
        "0      47  45969          NaN         NaN              0         NaN     0   \n",
        "1      35  29118          NaN           0            NaN           0     0   \n",
        "2      14  31544          NaN           0            NaN           0     0   \n",
        "3      23  18085          NaN         NaN            NaN           0     0   \n",
        "4      23  18084          NaN         NaN            NaN           0     0   \n",
        "\n",
        "   Sociable  Laid back  Wholesome  Uplifting  Intriguing  Legendary  Free  \\\n",
        "0         0          0        NaN          0           0        NaN     0   \n",
        "1       NaN        NaN        NaN        NaN         NaN        NaN   NaN   \n",
        "2       NaN        NaN        NaN        NaN         NaN        NaN   NaN   \n",
        "3       NaN        NaN        NaN        NaN         NaN        NaN   NaN   \n",
        "4       NaN        NaN        NaN        NaN         NaN        NaN   NaN   \n",
        "\n",
        "   Thoughtful  Outspoken  Serious  Good lyrics  Unattractive  Confident      \n",
        "0           0          0      NaN          NaN           NaN        NaN ...  \n",
        "1           0        NaN        0            0             0          0 ...  \n",
        "2           1        NaN        0            0             0          0 ...  \n",
        "3           0        NaN        0            0             0          0 ...  \n",
        "4           0        NaN        0            0             0          0 ...  \n",
        "\n",
        "[5 rows x 100 columns]"
       ]
      }
     ],
     "prompt_number": 5
    },
    {
     "cell_type": "code",
     "collapsed": false,
     "input": [
      "# Fill NAN with 0, and then fill nan of LIKE_ARTIST back to np.nan, for mean calculation\n",
      "wordsFrameDummy = wordsFrameDummy.fillna(0)\n",
      "wordsFrameDummy['LIKE_ARTIST'] = wordsFrameDummy['LIKE_ARTIST'].apply(lambda x: np.nan if x == 0 else x)"
     ],
     "language": "python",
     "metadata": {},
     "outputs": [],
     "prompt_number": 6
    },
    {
     "cell_type": "markdown",
     "metadata": {},
     "source": [
      "__ Konvertieren von verbalen \"Nummern\" zu Nummern __"
     ]
    },
    {
     "cell_type": "code",
     "collapsed": false,
     "input": [
      "# Diese Funktion transformiert die unterschiedlichen Stunden angaben in verbaler Form \n",
      "# zu einer einzigen nummerischen Ziffer.\n",
      "def hourTransform(val):\n",
      "    if val in ['Less than an hour', '0', '0 Hours']:\n",
      "        return 0\n",
      "    if val in ['More than 16 hours', '16+ hours']:\n",
      "        return 18\n",
      "    for i in xrange(24):\n",
      "        if val in [str(i) + ' hour', str(i) + ' hours', str(i)]:\n",
      "            return i\n",
      "    return None"
     ],
     "language": "python",
     "metadata": {},
     "outputs": [],
     "prompt_number": 7
    },
    {
     "cell_type": "code",
     "collapsed": false,
     "input": [
      "userFrameDummy['LIST_OWN'] = userFrameDummy['LIST_OWN'].apply(hourTransform)\n",
      "#userFrameDummy['LIST_OWN'] = userFrameDummy['LIST_OWN'].fillna(userFrameDummy['LIST_OWN'].dropna().mean())\n",
      "#userFrameDummy['LIST_OWN'] = userFrameDummy['LIST_OWN'].fillna(0)"
     ],
     "language": "python",
     "metadata": {},
     "outputs": [],
     "prompt_number": 8
    },
    {
     "cell_type": "code",
     "collapsed": false,
     "input": [
      "userFrameDummy['LIST_OWN'].unique()"
     ],
     "language": "python",
     "metadata": {},
     "outputs": [
      {
       "metadata": {},
       "output_type": "pyout",
       "prompt_number": 9,
       "text": [
        "array([  1.,   2.,   3.,   5.,  nan,   7.,   0.,   8.,  16.,  18.,   6.,\n",
        "         4.,  12.,  14.,  10.,  15.,   9.,  11.,  13.,  20.,  22.,  17.])"
       ]
      }
     ],
     "prompt_number": 9
    },
    {
     "cell_type": "code",
     "collapsed": false,
     "input": [
      "userFrameDummy['LIST_BACK'] = userFrameDummy['LIST_BACK'].apply(hourTransform)\n",
      "#userFrameDummy['LIST_BACK'] = userFrameDummy['LIST_BACK'].fillna(userFrameDummy['LIST_BACK'].dropna().mean())\n",
      "#userFrameDummy['LIST_BACK'] = userFrameDummy['LIST_BACK'].fillna(0)"
     ],
     "language": "python",
     "metadata": {},
     "outputs": [],
     "prompt_number": 10
    },
    {
     "cell_type": "code",
     "collapsed": false,
     "input": [
      "userFrameDummy['LIST_BACK'].unique()"
     ],
     "language": "python",
     "metadata": {},
     "outputs": [
      {
       "metadata": {},
       "output_type": "pyout",
       "prompt_number": 11,
       "text": [
        "array([ nan,   1.,   0.,   3.,   6.,   2.,   5.,   7.,  18.,   8.,   4.,\n",
        "        16.,   9.,  10.,  12.,  11.,  14.,  15.,  20.,  13.,  21.,  19.])"
       ]
      }
     ],
     "prompt_number": 11
    },
    {
     "cell_type": "code",
     "collapsed": false,
     "input": [
      "# Fill NAN age information with the median of all ages\n",
      "# userFrameAge = userFrameDummy\n",
      "# userFrameAge['AGE'] = userFrameDummy['AGE'].fillna(userFrameDummy['AGE'].dropna().median())"
     ],
     "language": "python",
     "metadata": {},
     "outputs": [],
     "prompt_number": 13
    },
    {
     "cell_type": "code",
     "collapsed": false,
     "input": [
      "#userFrameDummy['Q16'] = userFrameDummy['Q16'].fillna(userFrameDummy['Q16'].dropna().mean())\n",
      "#userFrameDummy['Q18'] = userFrameDummy['Q18'].fillna(userFrameDummy['Q18'].dropna().mean())\n",
      "#userFrameDummy['Q19'] = userFrameDummy['Q19'].fillna(userFrameDummy['Q19'].dropna().mean())"
     ],
     "language": "python",
     "metadata": {},
     "outputs": [],
     "prompt_number": 14
    },
    {
     "cell_type": "code",
     "collapsed": false,
     "input": [],
     "language": "python",
     "metadata": {},
     "outputs": []
    },
    {
     "cell_type": "markdown",
     "metadata": {},
     "source": [
      "__Zusammenf\u00fchren von users and train daten__"
     ]
    },
    {
     "cell_type": "code",
     "collapsed": false,
     "input": [
      "wordsFrame.head()"
     ],
     "language": "python",
     "metadata": {},
     "outputs": [
      {
       "html": [
        "<div style=\"max-height:1000px;max-width:1500px;overflow:auto;\">\n",
        "<table border=\"1\" class=\"dataframe\">\n",
        "  <thead>\n",
        "    <tr style=\"text-align: right;\">\n",
        "      <th></th>\n",
        "      <th>Artist</th>\n",
        "      <th>User</th>\n",
        "      <th>HEARD_OF</th>\n",
        "      <th>OWN_ARTIST_MUSIC</th>\n",
        "      <th>LIKE_ARTIST</th>\n",
        "      <th>Uninspired</th>\n",
        "      <th>Sophisticated</th>\n",
        "      <th>Aggressive</th>\n",
        "      <th>Edgy</th>\n",
        "      <th>Sociable</th>\n",
        "      <th>Laid back</th>\n",
        "      <th>Wholesome</th>\n",
        "      <th>Uplifting</th>\n",
        "      <th>Intriguing</th>\n",
        "      <th>Legendary</th>\n",
        "      <th>Free</th>\n",
        "      <th>Thoughtful</th>\n",
        "      <th>Outspoken</th>\n",
        "      <th>Serious</th>\n",
        "      <th>Good lyrics</th>\n",
        "      <th></th>\n",
        "    </tr>\n",
        "  </thead>\n",
        "  <tbody>\n",
        "    <tr>\n",
        "      <th>0</th>\n",
        "      <td> 47</td>\n",
        "      <td> 45969</td>\n",
        "      <td>       Heard of</td>\n",
        "      <td> NaN</td>\n",
        "      <td>NaN</td>\n",
        "      <td>NaN</td>\n",
        "      <td>  0</td>\n",
        "      <td>NaN</td>\n",
        "      <td> 0</td>\n",
        "      <td>  0</td>\n",
        "      <td>  0</td>\n",
        "      <td>NaN</td>\n",
        "      <td>  0</td>\n",
        "      <td>  0</td>\n",
        "      <td>NaN</td>\n",
        "      <td>  0</td>\n",
        "      <td> 0</td>\n",
        "      <td>  0</td>\n",
        "      <td>NaN</td>\n",
        "      <td>NaN</td>\n",
        "      <td>...</td>\n",
        "    </tr>\n",
        "    <tr>\n",
        "      <th>1</th>\n",
        "      <td> 35</td>\n",
        "      <td> 29118</td>\n",
        "      <td> Never heard of</td>\n",
        "      <td> NaN</td>\n",
        "      <td>NaN</td>\n",
        "      <td>  0</td>\n",
        "      <td>NaN</td>\n",
        "      <td>  0</td>\n",
        "      <td> 0</td>\n",
        "      <td>NaN</td>\n",
        "      <td>NaN</td>\n",
        "      <td>NaN</td>\n",
        "      <td>NaN</td>\n",
        "      <td>NaN</td>\n",
        "      <td>NaN</td>\n",
        "      <td>NaN</td>\n",
        "      <td> 0</td>\n",
        "      <td>NaN</td>\n",
        "      <td>  0</td>\n",
        "      <td>  0</td>\n",
        "      <td>...</td>\n",
        "    </tr>\n",
        "    <tr>\n",
        "      <th>2</th>\n",
        "      <td> 14</td>\n",
        "      <td> 31544</td>\n",
        "      <td>       Heard of</td>\n",
        "      <td> NaN</td>\n",
        "      <td>NaN</td>\n",
        "      <td>  0</td>\n",
        "      <td>NaN</td>\n",
        "      <td>  0</td>\n",
        "      <td> 0</td>\n",
        "      <td>NaN</td>\n",
        "      <td>NaN</td>\n",
        "      <td>NaN</td>\n",
        "      <td>NaN</td>\n",
        "      <td>NaN</td>\n",
        "      <td>NaN</td>\n",
        "      <td>NaN</td>\n",
        "      <td> 1</td>\n",
        "      <td>NaN</td>\n",
        "      <td>  0</td>\n",
        "      <td>  0</td>\n",
        "      <td>...</td>\n",
        "    </tr>\n",
        "    <tr>\n",
        "      <th>3</th>\n",
        "      <td> 23</td>\n",
        "      <td> 18085</td>\n",
        "      <td> Never heard of</td>\n",
        "      <td> NaN</td>\n",
        "      <td>NaN</td>\n",
        "      <td>NaN</td>\n",
        "      <td>NaN</td>\n",
        "      <td>  0</td>\n",
        "      <td> 0</td>\n",
        "      <td>NaN</td>\n",
        "      <td>NaN</td>\n",
        "      <td>NaN</td>\n",
        "      <td>NaN</td>\n",
        "      <td>NaN</td>\n",
        "      <td>NaN</td>\n",
        "      <td>NaN</td>\n",
        "      <td> 0</td>\n",
        "      <td>NaN</td>\n",
        "      <td>  0</td>\n",
        "      <td>  0</td>\n",
        "      <td>...</td>\n",
        "    </tr>\n",
        "    <tr>\n",
        "      <th>4</th>\n",
        "      <td> 23</td>\n",
        "      <td> 18084</td>\n",
        "      <td> Never heard of</td>\n",
        "      <td> NaN</td>\n",
        "      <td>NaN</td>\n",
        "      <td>NaN</td>\n",
        "      <td>NaN</td>\n",
        "      <td>  0</td>\n",
        "      <td> 0</td>\n",
        "      <td>NaN</td>\n",
        "      <td>NaN</td>\n",
        "      <td>NaN</td>\n",
        "      <td>NaN</td>\n",
        "      <td>NaN</td>\n",
        "      <td>NaN</td>\n",
        "      <td>NaN</td>\n",
        "      <td> 0</td>\n",
        "      <td>NaN</td>\n",
        "      <td>  0</td>\n",
        "      <td>  0</td>\n",
        "      <td>...</td>\n",
        "    </tr>\n",
        "  </tbody>\n",
        "</table>\n",
        "<p>5 rows \u00d7 88 columns</p>\n",
        "</div>"
       ],
       "metadata": {},
       "output_type": "pyout",
       "prompt_number": 101,
       "text": [
        "   Artist   User        HEARD_OF OWN_ARTIST_MUSIC  LIKE_ARTIST  Uninspired  \\\n",
        "0      47  45969        Heard of              NaN          NaN         NaN   \n",
        "1      35  29118  Never heard of              NaN          NaN           0   \n",
        "2      14  31544        Heard of              NaN          NaN           0   \n",
        "3      23  18085  Never heard of              NaN          NaN         NaN   \n",
        "4      23  18084  Never heard of              NaN          NaN         NaN   \n",
        "\n",
        "   Sophisticated  Aggressive  Edgy  Sociable  Laid back  Wholesome  Uplifting  \\\n",
        "0              0         NaN     0         0          0        NaN          0   \n",
        "1            NaN           0     0       NaN        NaN        NaN        NaN   \n",
        "2            NaN           0     0       NaN        NaN        NaN        NaN   \n",
        "3            NaN           0     0       NaN        NaN        NaN        NaN   \n",
        "4            NaN           0     0       NaN        NaN        NaN        NaN   \n",
        "\n",
        "   Intriguing  Legendary  Free  Thoughtful  Outspoken  Serious  Good lyrics  \\\n",
        "0           0        NaN     0           0          0      NaN          NaN   \n",
        "1         NaN        NaN   NaN           0        NaN        0            0   \n",
        "2         NaN        NaN   NaN           1        NaN        0            0   \n",
        "3         NaN        NaN   NaN           0        NaN        0            0   \n",
        "4         NaN        NaN   NaN           0        NaN        0            0   \n",
        "\n",
        "       \n",
        "0 ...  \n",
        "1 ...  \n",
        "2 ...  \n",
        "3 ...  \n",
        "4 ...  \n",
        "\n",
        "[5 rows x 88 columns]"
       ]
      }
     ],
     "prompt_number": 101
    },
    {
     "cell_type": "code",
     "collapsed": false,
     "input": [
      "X_all = pd.merge(trainFrame, userFrameDummy, how='inner', left_on='User', right_on='RESPID').drop('RESPID',1)\n",
      "X_all = pd.merge(X_all, wordsFrameDummy, how='inner', on=['Artist', 'User'])\n",
      "X_all.shape\n",
      "X_all.count()"
     ],
     "language": "python",
     "metadata": {},
     "outputs": [
      {
       "metadata": {},
       "output_type": "pyout",
       "prompt_number": 12,
       "text": [
        "Artist       174779\n",
        "Track        174779\n",
        "User         174779\n",
        "Rating       174779\n",
        "Time         174779\n",
        "AGE          172949\n",
        "LIST_OWN     156680\n",
        "LIST_BACK    156835\n",
        "Q1           174779\n",
        "Q2           174779\n",
        "Q3           174779\n",
        "Q4           174779\n",
        "Q5           174779\n",
        "Q6           174779\n",
        "Q7           174779\n",
        "...\n",
        "Unnamed: 87                                      174779\n",
        "heard_Ever heard music by                        174779\n",
        "heard_Ever heard of                              174779\n",
        "heard_Heard of                                   174779\n",
        "heard_Heard of and listened to music EVER        174779\n",
        "heard_Heard of and listened to music RECENTLY    174779\n",
        "heard_Listened to recently                       174779\n",
        "heard_Never heard of                             174779\n",
        "own_Don\ufffdt know                                   174779\n",
        "own_Don\ufffdt know                                   174779\n",
        "own_Own a little of their music                  174779\n",
        "own_Own a lot of their music                     174779\n",
        "own_Own all or most of their music               174779\n",
        "own_Own none of their music                      174779\n",
        "own_don`t know                                   174779\n",
        "Length: 151, dtype: int64"
       ]
      }
     ],
     "prompt_number": 12
    },
    {
     "cell_type": "markdown",
     "metadata": {},
     "source": [
      "__ features und target trennen __"
     ]
    },
    {
     "cell_type": "code",
     "collapsed": false,
     "input": [
      "#trainFrame = trainFrame.drop(['Time'], 1) # Time ist nicht n\u00f6tig\n",
      "y_all = X_all['Rating']\n",
      "X_all = X_all.drop('Rating',1)"
     ],
     "language": "python",
     "metadata": {},
     "outputs": [],
     "prompt_number": 13
    },
    {
     "cell_type": "markdown",
     "metadata": {},
     "source": [
      "__ Aufsplitten in Trainings und Test Daten __\n",
      "\n",
      "Bisher wurden die NAN Werte noch nicht ausgef\u00fcllt um das Resultat nicht zu verf\u00e4lschen"
     ]
    },
    {
     "cell_type": "code",
     "collapsed": false,
     "input": [
      "# Es werden 20% der Trainingsdaten zuf\u00e4llig ausgew\u00e4hlt f\u00fcr die Testdaten\n",
      "from sklearn import cross_validation\n",
      "X_train, X_test, y_train, y_test = cross_validation.train_test_split(\n",
      "    X_all, y_all, test_size=0.20, random_state=2)"
     ],
     "language": "python",
     "metadata": {},
     "outputs": [],
     "prompt_number": 14
    },
    {
     "cell_type": "markdown",
     "metadata": {},
     "source": [
      "__LinearRegression / CrossValidation__"
     ]
    },
    {
     "cell_type": "code",
     "collapsed": false,
     "input": [
      "from sklearn.linear_model import LinearRegression\n",
      "from sklearn.pipeline import make_pipeline\n",
      "from sklearn import metrics\n",
      "from sklearn import cross_validation\n",
      "from sklearn import preprocessing\n",
      "\n",
      "model = LinearRegression()\n",
      "\n",
      "cv = cross_validation.ShuffleSplit(X_train.shape[0], n_iter=3,\n",
      "    test_size=0.3, random_state=0)\n",
      "\n",
      "mean_preprocessor = preprocessing.Imputer(strategy=\"mean\", axis=0)\n",
      "scaler_preprocessor = preprocessing.StandardScaler()\n",
      "clf = make_pipeline(mean_preprocessor, scaler_preprocessor, model)\n",
      "scores = cross_validation.cross_val_score(clf, X_train, y_train, scoring=\"mean_squared_error\", cv=cv)\n",
      "(scores.max() * -1) **0.5"
     ],
     "language": "python",
     "metadata": {},
     "outputs": [
      {
       "metadata": {},
       "output_type": "pyout",
       "prompt_number": 15,
       "text": [
        "16.06975477667018"
       ]
      }
     ],
     "prompt_number": 15
    },
    {
     "cell_type": "code",
     "collapsed": false,
     "input": [
      "XX_train = mean_preprocessor.fit_transform(X_train)\n",
      "XX_train, XX_test, yy_train, yy_test = cross_validation.train_test_split(\n",
      "    XX_train, y_train, test_size=0.20, random_state=0)\n",
      "model = model.fit(XX_train, yy_train)\n",
      "mse = metrics.mean_squared_error(model.predict(XX_test), yy_test)\n",
      "rmse = mse**0.5\n",
      "rmse"
     ],
     "language": "python",
     "metadata": {},
     "outputs": [
      {
       "metadata": {},
       "output_type": "pyout",
       "prompt_number": 17,
       "text": [
        "16.053370331763588"
       ]
      }
     ],
     "prompt_number": 17
    },
    {
     "cell_type": "code",
     "collapsed": false,
     "input": [
      "from sklearn.ensemble.forest import RandomForestRegressor\n",
      "model = RandomForestRegressor(random_state=0, n_estimators=100)\n",
      "XX_train = mean_preprocessor.transform(X_train)\n",
      "XX_train, XX_test, yy_train, yy_test = cross_validation.train_test_split(\n",
      "    XX_train, y_train, test_size=0.20, random_state=0)\n",
      "model = model.fit(XX_train, yy_train)\n",
      "mse = metrics.mean_squared_error(model.predict(XX_test), yy_test)\n",
      "rmse = mse**0.5\n",
      "rmse"
     ],
     "language": "python",
     "metadata": {},
     "outputs": [
      {
       "metadata": {},
       "output_type": "pyout",
       "prompt_number": 18,
       "text": [
        "14.571056891099385"
       ]
      }
     ],
     "prompt_number": 18
    },
    {
     "cell_type": "markdown",
     "metadata": {},
     "source": [
      "__ With real test data __"
     ]
    },
    {
     "cell_type": "code",
     "collapsed": false,
     "input": [
      "X_test = mean_preprocessor.transform(X_test)\n",
      "mse = metrics.mean_squared_error(model.predict(X_test), y_test)\n",
      "rmse = mse**0.5\n",
      "rmse"
     ],
     "language": "python",
     "metadata": {},
     "outputs": [
      {
       "metadata": {},
       "output_type": "pyout",
       "prompt_number": 83,
       "text": [
        "17.146908706902337"
       ]
      }
     ],
     "prompt_number": 83
    },
    {
     "cell_type": "code",
     "collapsed": false,
     "input": [
      "model.coef_"
     ],
     "language": "python",
     "metadata": {},
     "outputs": [
      {
       "metadata": {},
       "output_type": "pyout",
       "prompt_number": 32,
       "text": [
        "array([ -3.68568300e-02,  -6.75324638e-02,   2.80764712e-04,\n",
        "         5.80713979e-02,  -9.22573462e-04,   2.50460086e-01,\n",
        "         2.37060843e-02,   2.85691555e-02,  -7.73430898e-03,\n",
        "         2.55767125e-02,  -1.91786184e-03,  -5.69180335e-03,\n",
        "         4.04231633e-03,   1.68736670e-02,  -6.05416990e-03,\n",
        "        -2.97876272e-03,   9.78763621e-02,   9.90556231e-03,\n",
        "         1.90220668e-02,   2.07277574e-03,  -3.55965891e-03,\n",
        "         3.89894684e-02,   6.28844324e-02,   6.93675949e-03,\n",
        "        -9.30418114e-03,   5.11033209e-01,   1.41300453e+00,\n",
        "         2.34758611e-01,   6.99615203e-01,   3.67850642e+00,\n",
        "         7.83974295e-01,   9.74084992e-01,  -3.71214863e+00,\n",
        "        -3.89164419e+00,  -2.45737337e+00,  -3.93843662e+00,\n",
        "        -4.06091523e+00,  -4.64848837e+00,  -4.42497687e+00,\n",
        "        -5.68072724e+00,  -5.39060103e+00,  -4.27031890e+00,\n",
        "        -5.48132454e+00,  -3.92513894e+00,  -4.54364616e+00,\n",
        "         3.63837529e-01,  -2.95659741e+00,   2.09516171e+00,\n",
        "        -1.43587233e+00,   4.91429109e-01,   1.44204139e+00])"
       ]
      }
     ],
     "prompt_number": 32
    },
    {
     "cell_type": "code",
     "collapsed": false,
     "input": [
      "from sklearn.decomposition import PCA\n",
      "pca = PCA(n_components=2)\n",
      "features_pca = pca.fit_transform(features_train)\n",
      "test_pca = pca.fit_transform(features_test)\n",
      "print features_pca.shape\n",
      "print target_train.shape\n",
      "model = model.fit(features_pca, target_train)\n",
      "#model.predict(test_pca)\n",
      "mse = metrics.mean_squared_error(model.predict(test_pca), target_test)\n",
      "rmse = mse**0.5\n",
      "rmse"
     ],
     "language": "python",
     "metadata": {},
     "outputs": [
      {
       "output_type": "stream",
       "stream": "stdout",
       "text": [
        "(141466, 2)\n",
        "(141466,)\n"
       ]
      },
      {
       "metadata": {},
       "output_type": "pyout",
       "prompt_number": 26,
       "text": [
        "22.116410270859316"
       ]
      }
     ],
     "prompt_number": 26
    },
    {
     "cell_type": "code",
     "collapsed": false,
     "input": [
      "# Negative Result\n",
      "# https://github.com/scikit-learn/scikit-learn/issues/2439\n",
      "#first = cross_validation.cross_val_score(clf, X, y, scoring=\"mean_squared_error\", cv=cv)\n",
      "#print first\n",
      "#print (-1*first)**0.5"
     ],
     "language": "python",
     "metadata": {},
     "outputs": []
    },
    {
     "cell_type": "code",
     "collapsed": false,
     "input": [
      "import sklearn\n",
      "sklearn.__version__"
     ],
     "language": "python",
     "metadata": {},
     "outputs": []
    },
    {
     "cell_type": "code",
     "collapsed": false,
     "input": [
      "#from sklearn.ensemble import GradientBoostingClassifier\n",
      "#from sklearn.svm import SVR\n",
      "#model = GradientBoostingClassifier(n_estimators=100, learning_rate=0.1,\n",
      "#                                subsample=.8, max_features=.5)\n",
      "#model = SVR(kernel=\"rbf\", C=1, gamma=0.001)\n",
      "#model = SVR(kernel=\"poly\")\n",
      "#model = model.fit(features_train, target_train)\n",
      "#mse = metrics.mean_squared_error(model.predict(features_test), target_test)\n",
      "#rmse = mse**0.5\n",
      "#rmse"
     ],
     "language": "python",
     "metadata": {},
     "outputs": []
    },
    {
     "cell_type": "code",
     "collapsed": false,
     "input": [
      "#x = np.arange(len(X.columns))\n",
      "#plt.bar(x, model.coef_.ravel())"
     ],
     "language": "python",
     "metadata": {},
     "outputs": []
    },
    {
     "cell_type": "code",
     "collapsed": false,
     "input": [
      "#yPredicted = model.predict(Xtest)\n",
      "#yTest"
     ],
     "language": "python",
     "metadata": {},
     "outputs": []
    },
    {
     "cell_type": "code",
     "collapsed": false,
     "input": [
      "#d = pd.DataFrame({'predicted':yPredicted, 'acctual': yTest.values})\n",
      "#d.plot()"
     ],
     "language": "python",
     "metadata": {},
     "outputs": []
    },
    {
     "cell_type": "code",
     "collapsed": false,
     "input": [],
     "language": "python",
     "metadata": {},
     "outputs": []
    }
   ],
   "metadata": {}
  }
 ]
}