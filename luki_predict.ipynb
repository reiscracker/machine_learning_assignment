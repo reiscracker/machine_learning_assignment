{
 "cells": [
  {
   "cell_type": "code",
   "execution_count": 1,
   "metadata": {
    "collapsed": false
   },
   "outputs": [],
   "source": [
    "%matplotlib inline\n",
    "import numpy as np\n",
    "import pandas as pd\n",
    "import matplotlib.pyplot as plt\n",
    "import math"
   ]
  },
  {
   "cell_type": "code",
   "execution_count": 2,
   "metadata": {
    "collapsed": false
   },
   "outputs": [],
   "source": [
    "# Read training and user data\n",
    "trainFrame = pd.read_csv('train.csv')\n",
    "userFrame = pd.read_csv('users.csv')\n",
    "wordsFrame = pd.read_csv('words.csv')"
   ]
  },
  {
   "cell_type": "markdown",
   "metadata": {},
   "source": [
    "__ Analyse der Konsistenz in den CSV Dateien __\n",
    "\n",
    "Wie zu sehen ist gibt es inkonsistenzen bei den User-Daten. In allen csv Dateien gibt es eine unterscheidliche Zahl von eineindeutigen Users. Wir werden beim zusammenführen dieser Datein einen inner join verwenden damit nur noch Datensätze verwendet werden wo die User überall vorkommen. Leider können wir User nicht über einen Mittelwert auffüllen."
   ]
  },
  {
   "cell_type": "code",
   "execution_count": 3,
   "metadata": {
    "collapsed": false
   },
   "outputs": [
    {
     "name": "stdout",
     "output_type": "stream",
     "text": [
      "Unique Artists in train Frame 50\n",
      "Unique Artists in words Frame 50\n",
      "Unique Users in train Frame 49479\n",
      "Unique Users in words Frame 50928\n",
      "Unique Users in user Frame 48645\n"
     ]
    }
   ],
   "source": [
    "print \"Unique Artists in train Frame %i\" % trainFrame.Artist.unique().size\n",
    "print \"Unique Artists in words Frame %i\" % wordsFrame.Artist.unique().size\n",
    "print \"Unique Users in train Frame %i\" % trainFrame.User.unique().size\n",
    "print \"Unique Users in words Frame %i\" % wordsFrame.User.unique().size\n",
    "print \"Unique Users in user Frame %i\" % userFrame.RESPID.unique().size"
   ]
  },
  {
   "cell_type": "markdown",
   "metadata": {},
   "source": [
    "__ Markiere inkonsistente User/Track records__\n",
    "\n",
    "Dieser Schritt ist nicht mehr nötig, wenn die dateien durch einen InnerJoin zusammengeführt werden.\n",
    "Uns ist aufgefallen, dass nicht jeder user der users.csv auch in train.csv vorkommt und umgekehrt."
   ]
  },
  {
   "cell_type": "code",
   "execution_count": 4,
   "metadata": {
    "collapsed": false
   },
   "outputs": [],
   "source": [
    "# Mark inconsistent data\n",
    "#unique_track_users = np.unique(trackFrame.User)\n",
    "#unique_users = np.unique(userFrame.RESPID)\n",
    "#udiff = np.setdiff1d(unique_track_users, unique_users)\n",
    "#trackFrame['inconsistent'] = trackFrame.User.apply(lambda uid: uid in udiff)\n",
    "#userFrame['inconsistent'] = userFrame.RESPID.apply(lambda uid: uid in udiff)"
   ]
  },
  {
   "cell_type": "markdown",
   "metadata": {},
   "source": [
    "__ Erstellen von Dummy-Werte/Spalten für nicht-nummerische Spalten __\n",
    "\n",
    "Die Spalten GENDER, REGION, WORKING und MUSIC sind alle mit nicht-nummerischen Werten Gefüllt. Diese Werte müssen nun in nummerische Werte umgewandelt werden. Dafür werden sogenannte Dummy Werte erstellt. "
   ]
  },
  {
   "cell_type": "code",
   "execution_count": 5,
   "metadata": {
    "collapsed": false
   },
   "outputs": [
    {
     "data": {
      "text/html": [
       "<div style=\"max-height:1000px;max-width:1500px;overflow:auto;\">\n",
       "<table border=\"1\" class=\"dataframe\">\n",
       "  <thead>\n",
       "    <tr style=\"text-align: right;\">\n",
       "      <th></th>\n",
       "      <th>sex_Female</th>\n",
       "      <th>sex_Male</th>\n",
       "    </tr>\n",
       "  </thead>\n",
       "  <tbody>\n",
       "    <tr>\n",
       "      <th>0</th>\n",
       "      <td> 1</td>\n",
       "      <td> 0</td>\n",
       "    </tr>\n",
       "    <tr>\n",
       "      <th>1</th>\n",
       "      <td> 1</td>\n",
       "      <td> 0</td>\n",
       "    </tr>\n",
       "    <tr>\n",
       "      <th>2</th>\n",
       "      <td> 1</td>\n",
       "      <td> 0</td>\n",
       "    </tr>\n",
       "    <tr>\n",
       "      <th>3</th>\n",
       "      <td> 1</td>\n",
       "      <td> 0</td>\n",
       "    </tr>\n",
       "    <tr>\n",
       "      <th>4</th>\n",
       "      <td> 1</td>\n",
       "      <td> 0</td>\n",
       "    </tr>\n",
       "  </tbody>\n",
       "</table>\n",
       "<p>5 rows × 2 columns</p>\n",
       "</div>"
      ],
      "text/plain": [
       "   sex_Female  sex_Male\n",
       "0           1         0\n",
       "1           1         0\n",
       "2           1         0\n",
       "3           1         0\n",
       "4           1         0\n",
       "\n",
       "[5 rows x 2 columns]"
      ]
     },
     "execution_count": 5,
     "metadata": {},
     "output_type": "execute_result"
    }
   ],
   "source": [
    "# Als beispiel werden für die einträge in der Spalte GENDER jeweils eine neue Spalte gemacht\n",
    "# Diese spalten enthalten dann nur noch 0 oder 1 ob es sich um Female oder Male handelt.\n",
    "pd.get_dummies(userFrame['GENDER'], prefix=\"sex\").head(5)"
   ]
  },
  {
   "cell_type": "code",
   "execution_count": 6,
   "metadata": {
    "collapsed": false
   },
   "outputs": [
    {
     "data": {
      "text/html": [
       "<div style=\"max-height:1000px;max-width:1500px;overflow:auto;\">\n",
       "<table border=\"1\" class=\"dataframe\">\n",
       "  <thead>\n",
       "    <tr style=\"text-align: right;\">\n",
       "      <th></th>\n",
       "      <th>Artist</th>\n",
       "      <th>User</th>\n",
       "      <th>LIKE_ARTIST</th>\n",
       "      <th>Uninspired</th>\n",
       "      <th>Sophisticated</th>\n",
       "      <th>Aggressive</th>\n",
       "      <th>Edgy</th>\n",
       "      <th>Sociable</th>\n",
       "      <th>Laid back</th>\n",
       "      <th>Wholesome</th>\n",
       "      <th>Uplifting</th>\n",
       "      <th>Intriguing</th>\n",
       "      <th>Legendary</th>\n",
       "      <th>Free</th>\n",
       "      <th>Thoughtful</th>\n",
       "      <th>Outspoken</th>\n",
       "      <th>Serious</th>\n",
       "      <th>Good lyrics</th>\n",
       "      <th>Unattractive</th>\n",
       "      <th>Confident</th>\n",
       "      <th></th>\n",
       "    </tr>\n",
       "  </thead>\n",
       "  <tbody>\n",
       "    <tr>\n",
       "      <th>0</th>\n",
       "      <td> 47</td>\n",
       "      <td> 45969</td>\n",
       "      <td>NaN</td>\n",
       "      <td>NaN</td>\n",
       "      <td>  0</td>\n",
       "      <td>NaN</td>\n",
       "      <td> 0</td>\n",
       "      <td>  0</td>\n",
       "      <td>  0</td>\n",
       "      <td>NaN</td>\n",
       "      <td>  0</td>\n",
       "      <td>  0</td>\n",
       "      <td>NaN</td>\n",
       "      <td>  0</td>\n",
       "      <td> 0</td>\n",
       "      <td>  0</td>\n",
       "      <td>NaN</td>\n",
       "      <td>NaN</td>\n",
       "      <td>NaN</td>\n",
       "      <td>NaN</td>\n",
       "      <td>...</td>\n",
       "    </tr>\n",
       "    <tr>\n",
       "      <th>1</th>\n",
       "      <td> 35</td>\n",
       "      <td> 29118</td>\n",
       "      <td>NaN</td>\n",
       "      <td>  0</td>\n",
       "      <td>NaN</td>\n",
       "      <td>  0</td>\n",
       "      <td> 0</td>\n",
       "      <td>NaN</td>\n",
       "      <td>NaN</td>\n",
       "      <td>NaN</td>\n",
       "      <td>NaN</td>\n",
       "      <td>NaN</td>\n",
       "      <td>NaN</td>\n",
       "      <td>NaN</td>\n",
       "      <td> 0</td>\n",
       "      <td>NaN</td>\n",
       "      <td>  0</td>\n",
       "      <td>  0</td>\n",
       "      <td>  0</td>\n",
       "      <td>  0</td>\n",
       "      <td>...</td>\n",
       "    </tr>\n",
       "    <tr>\n",
       "      <th>2</th>\n",
       "      <td> 14</td>\n",
       "      <td> 31544</td>\n",
       "      <td>NaN</td>\n",
       "      <td>  0</td>\n",
       "      <td>NaN</td>\n",
       "      <td>  0</td>\n",
       "      <td> 0</td>\n",
       "      <td>NaN</td>\n",
       "      <td>NaN</td>\n",
       "      <td>NaN</td>\n",
       "      <td>NaN</td>\n",
       "      <td>NaN</td>\n",
       "      <td>NaN</td>\n",
       "      <td>NaN</td>\n",
       "      <td> 1</td>\n",
       "      <td>NaN</td>\n",
       "      <td>  0</td>\n",
       "      <td>  0</td>\n",
       "      <td>  0</td>\n",
       "      <td>  0</td>\n",
       "      <td>...</td>\n",
       "    </tr>\n",
       "    <tr>\n",
       "      <th>3</th>\n",
       "      <td> 23</td>\n",
       "      <td> 18085</td>\n",
       "      <td>NaN</td>\n",
       "      <td>NaN</td>\n",
       "      <td>NaN</td>\n",
       "      <td>  0</td>\n",
       "      <td> 0</td>\n",
       "      <td>NaN</td>\n",
       "      <td>NaN</td>\n",
       "      <td>NaN</td>\n",
       "      <td>NaN</td>\n",
       "      <td>NaN</td>\n",
       "      <td>NaN</td>\n",
       "      <td>NaN</td>\n",
       "      <td> 0</td>\n",
       "      <td>NaN</td>\n",
       "      <td>  0</td>\n",
       "      <td>  0</td>\n",
       "      <td>  0</td>\n",
       "      <td>  0</td>\n",
       "      <td>...</td>\n",
       "    </tr>\n",
       "    <tr>\n",
       "      <th>4</th>\n",
       "      <td> 23</td>\n",
       "      <td> 18084</td>\n",
       "      <td>NaN</td>\n",
       "      <td>NaN</td>\n",
       "      <td>NaN</td>\n",
       "      <td>  0</td>\n",
       "      <td> 0</td>\n",
       "      <td>NaN</td>\n",
       "      <td>NaN</td>\n",
       "      <td>NaN</td>\n",
       "      <td>NaN</td>\n",
       "      <td>NaN</td>\n",
       "      <td>NaN</td>\n",
       "      <td>NaN</td>\n",
       "      <td> 0</td>\n",
       "      <td>NaN</td>\n",
       "      <td>  0</td>\n",
       "      <td>  0</td>\n",
       "      <td>  0</td>\n",
       "      <td>  0</td>\n",
       "      <td>...</td>\n",
       "    </tr>\n",
       "  </tbody>\n",
       "</table>\n",
       "<p>5 rows × 100 columns</p>\n",
       "</div>"
      ],
      "text/plain": [
       "   Artist   User  LIKE_ARTIST  Uninspired  Sophisticated  Aggressive  Edgy  \\\n",
       "0      47  45969          NaN         NaN              0         NaN     0   \n",
       "1      35  29118          NaN           0            NaN           0     0   \n",
       "2      14  31544          NaN           0            NaN           0     0   \n",
       "3      23  18085          NaN         NaN            NaN           0     0   \n",
       "4      23  18084          NaN         NaN            NaN           0     0   \n",
       "\n",
       "   Sociable  Laid back  Wholesome  Uplifting  Intriguing  Legendary  Free  \\\n",
       "0         0          0        NaN          0           0        NaN     0   \n",
       "1       NaN        NaN        NaN        NaN         NaN        NaN   NaN   \n",
       "2       NaN        NaN        NaN        NaN         NaN        NaN   NaN   \n",
       "3       NaN        NaN        NaN        NaN         NaN        NaN   NaN   \n",
       "4       NaN        NaN        NaN        NaN         NaN        NaN   NaN   \n",
       "\n",
       "   Thoughtful  Outspoken  Serious  Good lyrics  Unattractive  Confident      \n",
       "0           0          0      NaN          NaN           NaN        NaN ...  \n",
       "1           0        NaN        0            0             0          0 ...  \n",
       "2           1        NaN        0            0             0          0 ...  \n",
       "3           0        NaN        0            0             0          0 ...  \n",
       "4           0        NaN        0            0             0          0 ...  \n",
       "\n",
       "[5 rows x 100 columns]"
      ]
     },
     "execution_count": 6,
     "metadata": {},
     "output_type": "execute_result"
    }
   ],
   "source": [
    "# Make rich features out of verbal columns GENDER, REGION, WORKING, MUSIC\n",
    "userFrameDummy = pd.concat([userFrame,\n",
    "                            pd.get_dummies(userFrame['GENDER'], prefix=\"sex\"),\n",
    "                            pd.get_dummies(userFrame['REGION'], prefix=\"region\"),\n",
    "                            pd.get_dummies(userFrame['WORKING'], prefix=\"work\"),\n",
    "                            pd.get_dummies(userFrame['MUSIC'], prefix=\"music\")], \n",
    "                           axis=1)\n",
    "\n",
    "wordsFrameDummy = pd.concat([wordsFrame,\n",
    "                             pd.get_dummies(wordsFrame.HEARD_OF, prefix='heard'),\n",
    "                             pd.get_dummies(wordsFrame.OWN_ARTIST_MUSIC, prefix='own')],\n",
    "                            axis=1)\n",
    "\n",
    "# Die verbalen Spalten können nach dem transformieren gelöscht werden, diese haben keine Bedeutung mehr.\n",
    "userFrameDummy = userFrameDummy.drop(['GENDER', 'REGION', 'WORKING', 'MUSIC', 'sex_Male'], 1)\n",
    "wordsFrameDummy = wordsFrameDummy.drop(['HEARD_OF', 'OWN_ARTIST_MUSIC'], 1)\n",
    "wordsFrameDummy.head()"
   ]
  },
  {
   "cell_type": "code",
   "execution_count": 7,
   "metadata": {
    "collapsed": false
   },
   "outputs": [],
   "source": [
    "# Fill NAN with 0, and then fill nan of LIKE_ARTIST back to np.nan, for mean calculation\n",
    "wordsFrameDummy = wordsFrameDummy.fillna(0)\n",
    "wordsFrameDummy['LIKE_ARTIST'] = wordsFrameDummy['LIKE_ARTIST'].apply(lambda x: np.nan if x == 0 else x)"
   ]
  },
  {
   "cell_type": "markdown",
   "metadata": {},
   "source": [
    "__ Konvertieren von verbalen \"Nummern\" zu Nummern __"
   ]
  },
  {
   "cell_type": "code",
   "execution_count": 8,
   "metadata": {
    "collapsed": false
   },
   "outputs": [],
   "source": [
    "# Diese Funktion transformiert die unterschiedlichen Stunden angaben in verbaler Form \n",
    "# zu einer einzigen nummerischen Ziffer.\n",
    "def hourTransform(val):\n",
    "    if val in ['Less than an hour', '0', '0 Hours']:\n",
    "        return 0\n",
    "    if val in ['More than 16 hours', '16+ hours']:\n",
    "        return 18\n",
    "    for i in xrange(24):\n",
    "        if val in [str(i) + ' hour', str(i) + ' hours', str(i)]:\n",
    "            return i\n",
    "    return None"
   ]
  },
  {
   "cell_type": "code",
   "execution_count": 9,
   "metadata": {
    "collapsed": false
   },
   "outputs": [],
   "source": [
    "userFrameDummy['LIST_OWN'] = userFrameDummy['LIST_OWN'].apply(hourTransform)\n",
    "#userFrameDummy['LIST_OWN'] = userFrameDummy['LIST_OWN'].fillna(userFrameDummy['LIST_OWN'].dropna().mean())\n",
    "#userFrameDummy['LIST_OWN'] = userFrameDummy['LIST_OWN'].fillna(0)"
   ]
  },
  {
   "cell_type": "code",
   "execution_count": 10,
   "metadata": {
    "collapsed": false
   },
   "outputs": [
    {
     "data": {
      "text/plain": [
       "array([  1.,   2.,   3.,   5.,  nan,   7.,   0.,   8.,  16.,  18.,   6.,\n",
       "         4.,  12.,  14.,  10.,  15.,   9.,  11.,  13.,  20.,  22.,  17.])"
      ]
     },
     "execution_count": 10,
     "metadata": {},
     "output_type": "execute_result"
    }
   ],
   "source": [
    "userFrameDummy['LIST_OWN'].unique()"
   ]
  },
  {
   "cell_type": "code",
   "execution_count": 11,
   "metadata": {
    "collapsed": false
   },
   "outputs": [],
   "source": [
    "userFrameDummy['LIST_BACK'] = userFrameDummy['LIST_BACK'].apply(hourTransform)\n",
    "#userFrameDummy['LIST_BACK'] = userFrameDummy['LIST_BACK'].fillna(userFrameDummy['LIST_BACK'].dropna().mean())\n",
    "#userFrameDummy['LIST_BACK'] = userFrameDummy['LIST_BACK'].fillna(0)"
   ]
  },
  {
   "cell_type": "code",
   "execution_count": 12,
   "metadata": {
    "collapsed": false
   },
   "outputs": [
    {
     "data": {
      "text/plain": [
       "array([ nan,   1.,   0.,   3.,   6.,   2.,   5.,   7.,  18.,   8.,   4.,\n",
       "        16.,   9.,  10.,  12.,  11.,  14.,  15.,  20.,  13.,  21.,  19.])"
      ]
     },
     "execution_count": 12,
     "metadata": {},
     "output_type": "execute_result"
    }
   ],
   "source": [
    "userFrameDummy['LIST_BACK'].unique()"
   ]
  },
  {
   "cell_type": "code",
   "execution_count": 13,
   "metadata": {
    "collapsed": false
   },
   "outputs": [],
   "source": [
    "# Fill NAN age information with the median of all ages\n",
    "# userFrameAge = userFrameDummy\n",
    "# userFrameAge['AGE'] = userFrameDummy['AGE'].fillna(userFrameDummy['AGE'].dropna().median())"
   ]
  },
  {
   "cell_type": "code",
   "execution_count": 14,
   "metadata": {
    "collapsed": false
   },
   "outputs": [],
   "source": [
    "#userFrameDummy['Q16'] = userFrameDummy['Q16'].fillna(userFrameDummy['Q16'].dropna().mean())\n",
    "#userFrameDummy['Q18'] = userFrameDummy['Q18'].fillna(userFrameDummy['Q18'].dropna().mean())\n",
    "#userFrameDummy['Q19'] = userFrameDummy['Q19'].fillna(userFrameDummy['Q19'].dropna().mean())"
   ]
  },
  {
   "cell_type": "code",
   "execution_count": null,
   "metadata": {
    "collapsed": false
   },
   "outputs": [],
   "source": []
  },
  {
   "cell_type": "markdown",
   "metadata": {},
   "source": [
    "__Zusammenführen von users and train daten__"
   ]
  },
  {
   "cell_type": "code",
   "execution_count": 15,
   "metadata": {
    "collapsed": false
   },
   "outputs": [
    {
     "name": "stdout",
     "output_type": "stream",
     "text": [
      "118301, 48645, 188690\n"
     ]
    }
   ],
   "source": [
    "wcount, ucount, tcount = wordsFrame[['Artist']].count(), userFrame['RESPID'].count(), trainFrame['Track'].count()\n",
    "print \"%i, %i, %i\" % (wcount, ucount, tcount)"
   ]
  },
  {
   "cell_type": "code",
   "execution_count": 16,
   "metadata": {
    "collapsed": false
   },
   "outputs": [
    {
     "name": "stdout",
     "output_type": "stream",
     "text": [
      "artist user combinations: 236602\n",
      "unique artist user combinations: 236602\n"
     ]
    }
   ],
   "source": [
    "artist_user_count = wordsFrame[['Artist','User']].values.size\n",
    "# Check for uniqueness\n",
    "a = wordsFrame[['Artist','User']].values\n",
    "b = np.ascontiguousarray(a).view(np.dtype((np.void, a.dtype.itemsize * a.shape[1])))\n",
    "_, idx = np.unique(b, return_index=True)\n",
    "artist_user_unique = unique_a = a[idx].size\n",
    "\n",
    "print \"artist user combinations: %i\" % artist_user_count\n",
    "print \"unique artist user combinations: %i\" % artist_user_unique"
   ]
  },
  {
   "cell_type": "code",
   "execution_count": 17,
   "metadata": {
    "collapsed": false
   },
   "outputs": [
    {
     "data": {
      "text/plain": [
       "Artist       174779\n",
       "Track        174779\n",
       "User         174779\n",
       "Rating       174779\n",
       "Time         174779\n",
       "AGE          172949\n",
       "LIST_OWN     156680\n",
       "LIST_BACK    156835\n",
       "Q1           174779\n",
       "Q2           174779\n",
       "Q3           174779\n",
       "Q4           174779\n",
       "Q5           174779\n",
       "Q6           174779\n",
       "Q7           174779\n",
       "...\n",
       "Unnamed: 87                                      174779\n",
       "heard_Ever heard music by                        174779\n",
       "heard_Ever heard of                              174779\n",
       "heard_Heard of                                   174779\n",
       "heard_Heard of and listened to music EVER        174779\n",
       "heard_Heard of and listened to music RECENTLY    174779\n",
       "heard_Listened to recently                       174779\n",
       "heard_Never heard of                             174779\n",
       "own_Don�t know                                   174779\n",
       "own_Don�t know                                   174779\n",
       "own_Own a little of their music                  174779\n",
       "own_Own a lot of their music                     174779\n",
       "own_Own all or most of their music               174779\n",
       "own_Own none of their music                      174779\n",
       "own_don`t know                                   174779\n",
       "Length: 151, dtype: int64"
      ]
     },
     "execution_count": 17,
     "metadata": {},
     "output_type": "execute_result"
    }
   ],
   "source": [
    "X_all = pd.merge(trainFrame, userFrameDummy, how='inner', left_on='User', right_on='RESPID').drop('RESPID',1)\n",
    "X_all = pd.merge(X_all, wordsFrameDummy, how='inner', on=['Artist', 'User'])\n",
    "X_all.shape\n",
    "X_all.count()"
   ]
  },
  {
   "cell_type": "markdown",
   "metadata": {},
   "source": [
    "__ features und target trennen __"
   ]
  },
  {
   "cell_type": "code",
   "execution_count": 18,
   "metadata": {
    "collapsed": false
   },
   "outputs": [],
   "source": [
    "#trainFrame = trainFrame.drop(['Time'], 1) # Time ist nicht nötig\n",
    "y_all = X_all['Rating']\n",
    "X_all = X_all.drop('Rating',1)"
   ]
  },
  {
   "cell_type": "markdown",
   "metadata": {},
   "source": [
    "__ Aufsplitten in Trainings und Test Daten __\n",
    "\n",
    "Bisher wurden die NAN Werte noch nicht ausgefüllt um das Resultat nicht zu verfälschen"
   ]
  },
  {
   "cell_type": "code",
   "execution_count": 19,
   "metadata": {
    "collapsed": false
   },
   "outputs": [],
   "source": [
    "# Es werden 20% der Trainingsdaten zufällig ausgewählt für die Testdaten\n",
    "from sklearn import cross_validation\n",
    "X_train, X_test, y_train, y_test = cross_validation.train_test_split(\n",
    "    X_all, y_all, test_size=0.20, random_state=2)"
   ]
  },
  {
   "cell_type": "markdown",
   "metadata": {},
   "source": [
    "__LinearRegression / CrossValidation__"
   ]
  },
  {
   "cell_type": "code",
   "execution_count": 20,
   "metadata": {
    "collapsed": false
   },
   "outputs": [
    {
     "data": {
      "text/plain": [
       "16.06975477667018"
      ]
     },
     "execution_count": 20,
     "metadata": {},
     "output_type": "execute_result"
    }
   ],
   "source": [
    "from sklearn.linear_model import LinearRegression\n",
    "from sklearn.pipeline import make_pipeline\n",
    "from sklearn import metrics\n",
    "from sklearn import cross_validation\n",
    "from sklearn import preprocessing\n",
    "\n",
    "model = LinearRegression()\n",
    "\n",
    "cv = cross_validation.ShuffleSplit(X_train.shape[0], n_iter=3,\n",
    "    test_size=0.3, random_state=0)\n",
    "\n",
    "mean_preprocessor = preprocessing.Imputer(strategy=\"mean\", axis=0)\n",
    "scaler_preprocessor = preprocessing.StandardScaler()\n",
    "clf = make_pipeline(mean_preprocessor, scaler_preprocessor, model)\n",
    "scores = cross_validation.cross_val_score(clf, X_train, y_train, scoring=\"mean_squared_error\", cv=cv)\n",
    "(scores.max() * -1) **0.5"
   ]
  },
  {
   "cell_type": "code",
   "execution_count": 16,
   "metadata": {
    "collapsed": false
   },
   "outputs": [
    {
     "data": {
      "text/plain": [
       "16.073335420561214"
      ]
     },
     "execution_count": 16,
     "metadata": {},
     "output_type": "execute_result"
    }
   ],
   "source": [
    "XX_train = mean_preprocessor.fit_transform(X_train)\n",
    "XX_train, XX_test, yy_train, yy_test = cross_validation.train_test_split(\n",
    "    XX_train, y_train, test_size=0.20, random_state=0)\n",
    "model = model.fit(XX_train, yy_train)\n",
    "mse = metrics.mean_squared_error(model.predict(XX_test), yy_test)\n",
    "rmse = mse**0.5\n",
    "rmse"
   ]
  },
  {
   "cell_type": "code",
   "execution_count": 19,
   "metadata": {
    "collapsed": false
   },
   "outputs": [
    {
     "data": {
      "text/plain": [
       "14.539755054795737"
      ]
     },
     "execution_count": 19,
     "metadata": {},
     "output_type": "execute_result"
    }
   ],
   "source": [
    "# http://blog.yhathq.com/posts/random-forests-in-python.html\n",
    "from sklearn.ensemble.forest import RandomForestRegressor\n",
    "model = RandomForestRegressor(random_state=0, n_estimators=100, n_jobs=2)\n",
    "XX_train = mean_preprocessor.fit_transform(X_train)\n",
    "XX_train, XX_test, yy_train, yy_test = cross_validation.train_test_split(\n",
    "    XX_train, y_train, test_size=0.20, random_state=0)\n",
    "model = model.fit(XX_train, yy_train)\n",
    "mse = metrics.mean_squared_error(model.predict(XX_test), yy_test)\n",
    "rmse = mse**0.5\n",
    "rmse"
   ]
  },
  {
   "cell_type": "markdown",
   "metadata": {},
   "source": [
    "__ With real test data __"
   ]
  },
  {
   "cell_type": "markdown",
   "metadata": {
    "collapsed": true
   },
   "source": [
    "__ Important features (index) according the Random Forest __\n",
    "\n",
    "[102,  52,   1,  89,  83,  72,   2,  17,   4,  10,  15,  12,  23,\n",
    " 18,  11,  14,  22,  13,   8,  16,  68,  21,  20,  19,   7, 115,\n",
    " 9,  67,   0, 100,  24,  93,  25,   6,  88,   5,  99, 126, 104,\n",
    " 127, 108,   3,  82,  84, 130,  79, 101, 121,  85,  75, 141,  69,\n",
    " 111,  26, 133,  29, 146,  32, 105, 144,  48,  28,  97,  33,  55,\n",
    " 56, 137,  95,  86,  71, 109,  73,  64,  51,  46,  66,  92, 112,\n",
    " 76, 147,  70,  34,  90,  91, 145, 131, 110, 117, 123,  81, 120,\n",
    " 138,  37, 107,  36, 118,  63, 106, 132,  45, 139,  49,  44,  60,\n",
    " 39,  53, 113, 119, 124,  94,  58,  42, 116,  98, 129,  78, 122,\n",
    " 50,  74,  61,  27,  77, 125,  54,  41,  47, 134,  96,  31,  87,\n",
    " 65,  57, 128, 114,  35,  38, 143,  62,  80,  40, 135,  43,  30,\n",
    " 103,  59, 140, 136, 148, 142]"
   ]
  },
  {
   "cell_type": "code",
   "execution_count": 29,
   "metadata": {
    "collapsed": false
   },
   "outputs": [
    {
     "name": "stdout",
     "output_type": "stream",
     "text": [
      "Feature ranking:\n",
      "1. feature 102 (0.132253)\n",
      "2. feature 52 (0.117472)\n",
      "3. feature 1 (0.064091)\n",
      "4. feature 89 (0.053004)\n",
      "5. feature 83 (0.050246)\n",
      "6. feature 72 (0.030352)\n",
      "7. feature 2 (0.018057)\n",
      "8. feature 17 (0.017796)\n",
      "9. feature 4 (0.016753)\n",
      "10. feature 10 (0.016635)\n",
      "11. feature 15 (0.016162)\n",
      "12. feature 12 (0.016058)\n",
      "13. feature 23 (0.015748)\n",
      "14. feature 18 (0.015580)\n",
      "15. feature 11 (0.015502)\n",
      "16. feature 14 (0.015066)\n",
      "17. feature 22 (0.015032)\n",
      "18. feature 13 (0.014603)\n",
      "19. feature 8 (0.014312)\n",
      "20. feature 16 (0.014303)\n"
     ]
    }
   ],
   "source": [
    "importances = model.feature_importances_\n",
    "std = np.std([tree.feature_importances_ for tree in model.estimators_],\n",
    "             axis=0)\n",
    "indices = np.argsort(importances)[::-1]\n",
    "\n",
    "# Print the feature ranking\n",
    "print(\"Feature ranking:\")\n",
    "\n",
    "for f in xrange(20):\n",
    "    print(\"%d. feature %d (%f)\" % (f + 1, indices[f], importances[indices[f]]))"
   ]
  },
  {
   "cell_type": "code",
   "execution_count": 72,
   "metadata": {
    "collapsed": false
   },
   "outputs": [
    {
     "data": {
      "text/plain": [
       "(-1, 30)"
      ]
     },
     "execution_count": 72,
     "metadata": {},
     "output_type": "execute_result"
    },
    {
     "data": {
      "image/png": "[encoded data removed]",
      "text/plain": [
       "<matplotlib.figure.Figure at 0x7fcf156878d0>"
      ]
     },
     "metadata": {},
     "output_type": "display_data"
    }
   ],
   "source": [
    "# Plot the feature importances of the forest\n",
    "# http://matplotlib.org/examples/lines_bars_and_markers/barh_demo.html\n",
    "plt.figure()\n",
    "plt.title(\"Feature importances\")\n",
    "num = 30\n",
    "plt.rcdefaults()\n",
    "#ax.bar(ind+width, womenMeans, width, color='y', yerr=womenStd)\n",
    "plt.barh(range(num), importances[indices[:num]], height=0.7, align=\"center\")\n",
    "plt.yticks(range(num), X_train.columns[indices[:num]])\n",
    "plt.ylim([-1, num])"
   ]
  },
  {
   "cell_type": "markdown",
   "metadata": {},
   "source": [
    "__ page rank top 10 poisson_mass __\n",
    "\n",
    "('Distinctive', 0.036582860564394186),\n",
    " ('Talented', 0.03641060802582427),\n",
    " ('Catchy', 0.03588257458937083),\n",
    " ('Cool', 0.03122466731308438),\n",
    " ('Original', 0.030451130759611197),\n",
    " ('Current', 0.028413438804670444),\n",
    " ('Authentic', 0.02809367151769147),\n",
    " ('Beautiful', 0.026002038824713088),\n",
    " ('Good lyrics', 0.02552523014963796),\n",
    " ('Confident', 0.025306007274224527),\n",
    "\n",
    "__ page rank top 10 loglikelihood __\n",
    "\n",
    "('Distinctive', 0.03724713796921815),\n",
    " ('Talented', 0.03712975943260201),\n",
    " ('Catchy', 0.03661224190637018),\n",
    " ('Cool', 0.031546322090385825),\n",
    " ('Original', 0.030776031541591732),\n",
    " ('Current', 0.02855624507337745),\n",
    " ('Authentic', 0.028280448044298464),\n",
    " ('Beautiful', 0.026132091370412152),\n",
    " ('Good lyrics', 0.025806333868477884),\n",
    " ('Confident', 0.025486926026088014),\n",
    " \n",
    " __ page rank top 10 DICE __\n",
    " \n",
    " ('Talented', 0.021675025932186526),\n",
    " ('Cool', 0.01981560260788484),\n",
    " ('Distinctive', 0.019745454557838528),\n",
    " ('Authentic', 0.019403079099206334),\n",
    " ('Credible', 0.019264216503310293),\n",
    " ('Beautiful', 0.01913691207885496),\n",
    " ('Original', 0.019135290266801306),\n",
    " ('Stylish', 0.019047267193738622),\n",
    " ('Passionate', 0.018882616430586946),\n",
    " ('Catchy', 0.018834914400931033),"
   ]
  },
  {
   "cell_type": "code",
   "execution_count": 92,
   "metadata": {
    "collapsed": false
   },
   "outputs": [
    {
     "ename": "NameError",
     "evalue": "name 'features_train' is not defined",
     "output_type": "error",
     "traceback": [
      "\u001b[1;31m---------------------------------------------------------------------------\u001b[0m",
      "\u001b[1;31mNameError\u001b[0m                                 Traceback (most recent call last)",
      "\u001b[1;32m<ipython-input-92-08bfcce2c82f>\u001b[0m in \u001b[0;36m<module>\u001b[1;34m()\u001b[0m\n\u001b[0;32m      1\u001b[0m \u001b[1;32mfrom\u001b[0m \u001b[0msklearn\u001b[0m\u001b[1;33m.\u001b[0m\u001b[0mdecomposition\u001b[0m \u001b[1;32mimport\u001b[0m \u001b[0mPCA\u001b[0m\u001b[1;33m\u001b[0m\u001b[0m\n\u001b[0;32m      2\u001b[0m \u001b[0mpca\u001b[0m \u001b[1;33m=\u001b[0m \u001b[0mPCA\u001b[0m\u001b[1;33m(\u001b[0m\u001b[0mn_components\u001b[0m\u001b[1;33m=\u001b[0m\u001b[1;36m2\u001b[0m\u001b[1;33m)\u001b[0m\u001b[1;33m\u001b[0m\u001b[0m\n\u001b[1;32m----> 3\u001b[1;33m \u001b[0mfeatures_pca\u001b[0m \u001b[1;33m=\u001b[0m \u001b[0mpca\u001b[0m\u001b[1;33m.\u001b[0m\u001b[0mfit_transform\u001b[0m\u001b[1;33m(\u001b[0m\u001b[0mfeatures_train\u001b[0m\u001b[1;33m)\u001b[0m\u001b[1;33m\u001b[0m\u001b[0m\n\u001b[0m\u001b[0;32m      4\u001b[0m \u001b[0mtest_pca\u001b[0m \u001b[1;33m=\u001b[0m \u001b[0mpca\u001b[0m\u001b[1;33m.\u001b[0m\u001b[0mfit_transform\u001b[0m\u001b[1;33m(\u001b[0m\u001b[0mfeatures_test\u001b[0m\u001b[1;33m)\u001b[0m\u001b[1;33m\u001b[0m\u001b[0m\n\u001b[0;32m      5\u001b[0m \u001b[0mmodel\u001b[0m \u001b[1;33m=\u001b[0m \u001b[0mmodel\u001b[0m\u001b[1;33m.\u001b[0m\u001b[0mfit\u001b[0m\u001b[1;33m(\u001b[0m\u001b[0mfeatures_pca\u001b[0m\u001b[1;33m,\u001b[0m \u001b[0mtarget_train\u001b[0m\u001b[1;33m)\u001b[0m\u001b[1;33m\u001b[0m\u001b[0m\n",
      "\u001b[1;31mNameError\u001b[0m: name 'features_train' is not defined"
     ]
    }
   ],
   "source": [
    "from sklearn.decomposition import PCA\n",
    "pca = PCA(n_components=2)\n",
    "features_pca = pca.fit_transform(features_train)\n",
    "test_pca = pca.fit_transform(features_test)\n",
    "model = model.fit(features_pca, target_train)\n",
    "#model.predict(test_pca)\n",
    "mse = metrics.mean_squared_error(model.predict(test_pca), target_test)\n",
    "rmse = mse**0.5\n",
    "rmse"
   ]
  },
  {
   "cell_type": "markdown",
   "metadata": {},
   "source": [
    "__ truncated SVD __\n",
    "\n",
    "- components: 90 rmse: 16.190904\n",
    "- components: 110 rmse: 16.091440\n",
    "- components: 115 rmse: 16.092432\n",
    "- components: 120 rmse: 16.075782\n",
    "- components: 125 rmse: 16.086340\n",
    "- components: 130 rmse: 16.076635\n",
    "- components: 135 rmse: 16.065234\n",
    "- components: 140 rmse: 16.056740\n",
    "- components: 135 rmse: 16.063029\n",
    "- components: 140 rmse: 16.056740\n",
    "- components: 145 rmse: 16.053424\n",
    "- components: 149 rmse: 16.053370\n"
   ]
  },
  {
   "cell_type": "code",
   "execution_count": 32,
   "metadata": {
    "collapsed": false
   },
   "outputs": [
    {
     "data": {
      "text/plain": [
       "TruncatedSVD(algorithm='randomized', n_components=2, n_iter=5,\n",
       "       random_state=None, tol=0.0)"
      ]
     },
     "execution_count": 32,
     "metadata": {},
     "output_type": "execute_result"
    }
   ],
   "source": [
    "TruncatedSVD()"
   ]
  },
  {
   "cell_type": "code",
   "execution_count": null,
   "metadata": {
    "collapsed": false
   },
   "outputs": [],
   "source": [
    "from sklearn.decomposition import TruncatedSVD\n",
    "for i in np.linspace(7, 7, num=1):\n",
    "    fa = TruncatedSVD(n_components=int(i))\n",
    "    XX_train = mean_preprocessor.fit_transform(X_train)\n",
    "    XX_train, XX_test, yy_train, yy_test = cross_validation.train_test_split(\n",
    "        XX_train, y_train, test_size=0.20, random_state=0)\n",
    "\n",
    "    #svd = TruncatedSVD(n_components=140)\n",
    "    features_svd = fa.fit_transform(XX_train)\n",
    "    test_svd = fa.transform(XX_test)\n",
    "    model = model.fit(features_svd, yy_train)\n",
    "    #model.predict(test_pca)\n",
    "    mse = metrics.mean_squared_error(model.predict(test_svd), yy_test)\n",
    "    rmse = mse**0.5\n",
    "    print \"components: %i rmse: %f\" % (i, rmse)"
   ]
  },
  {
   "cell_type": "code",
   "execution_count": null,
   "metadata": {
    "collapsed": false
   },
   "outputs": [],
   "source": [
    "int(np.linspace(110, 140, num=7)[0])"
   ]
  },
  {
   "cell_type": "markdown",
   "metadata": {
    "collapsed": false
   },
   "source": [
    "## Just use important features from RandomForest"
   ]
  },
  {
   "cell_type": "code",
   "execution_count": 68,
   "metadata": {
    "collapsed": false
   },
   "outputs": [],
   "source": [
    "important = [102, 52, 1, 89, 83, 72, 2, 17, 4, 10, 15, 12, 23, 18, 11, 14, 22, 13, 8, 16]\n",
    "important_words = ['Distinctive','Talented','Original','Cool','Free','Authentic','Good Lyrics','Catchy','Current','Beautiful','Credible','Stylish', 'Timeless', 'Energetic', 'Passionate', 'Thoughtful', 'Classic', 'Fun','Emotional','Warm']\n",
    "important_words = [ list(X_train.columns).index(term) for term in important_words ]\n",
    "important_word_forest = np.concatenate((important, important_words))"
   ]
  },
  {
   "cell_type": "code",
   "execution_count": 69,
   "metadata": {
    "collapsed": false
   },
   "outputs": [
    {
     "data": {
      "text/plain": [
       "17.127711142392776"
      ]
     },
     "execution_count": 69,
     "metadata": {},
     "output_type": "execute_result"
    }
   ],
   "source": [
    "from sklearn.linear_model import LinearRegression\n",
    "from sklearn.pipeline import make_pipeline\n",
    "from sklearn import metrics\n",
    "from sklearn import cross_validation\n",
    "from sklearn import preprocessing\n",
    "\n",
    "model = LinearRegression()\n",
    "\n",
    "cv = cross_validation.ShuffleSplit(X_train[important_word_forest].shape[0], n_iter=3,\n",
    "    test_size=0.3, random_state=0)\n",
    "\n",
    "mean_preprocessor = preprocessing.Imputer(strategy=\"mean\", axis=0)\n",
    "scaler_preprocessor = preprocessing.StandardScaler()\n",
    "clf = make_pipeline(mean_preprocessor, scaler_preprocessor, model)\n",
    "scores = cross_validation.cross_val_score(clf, X_train[important_word_forest], y_train, scoring=\"mean_squared_error\", cv=cv)\n",
    "(scores.max() * -1) **0.5"
   ]
  },
  {
   "cell_type": "code",
   "execution_count": 71,
   "metadata": {
    "collapsed": false
   },
   "outputs": [
    {
     "ename": "NameError",
     "evalue": "name 'TruncatedSVD' is not defined",
     "output_type": "error",
     "traceback": [
      "\u001b[1;31m---------------------------------------------------------------------------\u001b[0m",
      "\u001b[1;31mNameError\u001b[0m                                 Traceback (most recent call last)",
      "\u001b[1;32m<ipython-input-71-c725a5eb2242>\u001b[0m in \u001b[0;36m<module>\u001b[1;34m()\u001b[0m\n\u001b[0;32m      6\u001b[0m     XX_train, y_train, test_size=0.20, random_state=0)\n\u001b[0;32m      7\u001b[0m \u001b[1;33m\u001b[0m\u001b[0m\n\u001b[1;32m----> 8\u001b[1;33m \u001b[0mfa\u001b[0m \u001b[1;33m=\u001b[0m \u001b[0mTruncatedSVD\u001b[0m\u001b[1;33m(\u001b[0m\u001b[0mn_components\u001b[0m\u001b[1;33m=\u001b[0m\u001b[1;36m10\u001b[0m\u001b[1;33m)\u001b[0m\u001b[1;33m\u001b[0m\u001b[0m\n\u001b[0m\u001b[0;32m      9\u001b[0m \u001b[0mfeatures_svd\u001b[0m \u001b[1;33m=\u001b[0m \u001b[0mfa\u001b[0m\u001b[1;33m.\u001b[0m\u001b[0mfit_transform\u001b[0m\u001b[1;33m(\u001b[0m\u001b[0mXX_train\u001b[0m\u001b[1;33m)\u001b[0m\u001b[1;33m\u001b[0m\u001b[0m\n\u001b[0;32m     10\u001b[0m \u001b[0mtest_svd\u001b[0m \u001b[1;33m=\u001b[0m \u001b[0mfa\u001b[0m\u001b[1;33m.\u001b[0m\u001b[0mtransform\u001b[0m\u001b[1;33m(\u001b[0m\u001b[0mXX_test\u001b[0m\u001b[1;33m)\u001b[0m\u001b[1;33m\u001b[0m\u001b[0m\n",
      "\u001b[1;31mNameError\u001b[0m: name 'TruncatedSVD' is not defined"
     ]
    }
   ],
   "source": [
    "from sklearn.svm import SVR\n",
    "model = SVR()\n",
    "\n",
    "XX_train = mean_preprocessor.fit_transform(X_train[important_word_forest])\n",
    "XX_train, XX_test, yy_train, yy_test = cross_validation.train_test_split(\n",
    "    XX_train, y_train, test_size=0.20, random_state=0)\n",
    "\n",
    "fa = TruncatedSVD(n_components=10)\n",
    "features_svd = fa.fit_transform(XX_train)\n",
    "test_svd = fa.transform(XX_test)\n",
    "model = model.fit(features_svd, yy_train)\n",
    "#model.predict(test_pca)\n",
    "mse = metrics.mean_squared_error(model.predict(test_svd), yy_test)\n",
    "rmse = mse**0.5\n"
   ]
  },
  {
   "cell_type": "code",
   "execution_count": null,
   "metadata": {
    "collapsed": true
   },
   "outputs": [],
   "source": []
  },
  {
   "cell_type": "code",
   "execution_count": null,
   "metadata": {
    "collapsed": false
   },
   "outputs": [],
   "source": [
    "#yPredicted = model.predict(Xtest)\n",
    "#yTest"
   ]
  },
  {
   "cell_type": "code",
   "execution_count": null,
   "metadata": {
    "collapsed": false
   },
   "outputs": [],
   "source": [
    "#d = pd.DataFrame({'predicted':yPredicted, 'acctual': yTest.values})\n",
    "#d.plot()"
   ]
  },
  {
   "cell_type": "code",
   "execution_count": null,
   "metadata": {
    "collapsed": false
   },
   "outputs": [],
   "source": []
  }
 ],
 "metadata": {
  "kernelspec": {
   "display_name": "Python 2",
   "language": "python",
   "name": "python2"
  },
  "language_info": {
   "codemirror_mode": {
    "name": "ipython",
    "version": 2
   },
   "file_extension": ".py",
   "mimetype": "text/x-python",
   "name": "python",
   "nbconvert_exporter": "python",
   "pygments_lexer": "ipython2",
   "version": "2.7.6"
  }
 },
 "nbformat": 4,
 "nbformat_minor": 0
}
