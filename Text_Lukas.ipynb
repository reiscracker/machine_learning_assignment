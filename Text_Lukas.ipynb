{
 "cells": [
  {
   "cell_type": "markdown",
   "metadata": {},
   "source": [
    "- Einleitung in den Datensatz\n",
    "    - Allgemein Challange\n",
    "    - Datenstruktur (Felder beschreiben)\n",
    "    - Zielsetzung\n",
    "\n",
    "- Visualisierung / Explorative untersuchung\n",
    "    - Wie viel von was...\n",
    "    - Cooccurrenten analyse\n",
    "\n",
    "- Predictig\n",
    "    - Preprocessing\n",
    "        - NaN Felder füllen\n",
    "        - Dummy Felder füllen\n",
    "    - LinearRegression\n",
    "    - RandomForest\n",
    "    - SupportVectorRegression\n",
    "    - Vergleich unserer Lösung\n",
    "- Fazit"
   ]
  },
  {
   "cell_type": "markdown",
   "metadata": {
    "collapsed": true
   },
   "source": [
    "# Visualisierung / Explorative untersuchung\n",
    "\n",
    "## Kookkurrents-Analyse der Worte\n",
    "\n",
    "Die Artisten wurden von jedem Benutzer mit mehreren von 82 gegebenen Wörtern oder dem Tag \"None of these\" bewertet.\n",
    "Wenn man nun die Tags pro Artist als \"Satz\" interpretiert, kann man aus den Tags eine Kookkurrenzliste ableiten.\n",
    "\n",
    "Die Kookkurrenzliste is ein verschachtelter Hash, bzw. ein `dict`. Der `key` vom Eltern `dict` ist ein Wort. Der `key` vom Kinds `dict` ist das kookkurrierende Wort. Dieses wiederum hat als `value` die frequenz, wie oft es mit dem Eltern-Wort vorkommt.\n",
    "\n",
    "__Hier der Beginn der von uns erstellten Liste : __\n",
    "\n",
    "    {\n",
    "        'Aggressive': {\n",
    "            'Annoying': 337,\n",
    "            'Approachable': 145,\n",
    "            'Arrogant': 1539,\n",
    "            'Authentic': 515,\n",
    "            ...\n",
    "         },\n",
    "         'Annoying': {\n",
    "            'Aggressive': 337,\n",
    "            'Approachable': 18,\n",
    "            'Arrogant': 372,\n",
    "            'Authentic': 50,\n",
    "            ...\n",
    "         },\n",
    "         ...\n",
    "    }\n",
    "\n",
    "### Berechnen der Signifikanz\n",
    "\n",
    "Nun kann durch die häufigkeit des gemeinsamem Auftretens die Signifikanz eines Wortes zu einem anderen berechnet werden.\n",
    "In einfachster form ist dies einfach deren gemeinsames auftreten wie schon erfasst.\n",
    "Nun gibt es jedoch noch komplexere formen der Signifikanzberechnungen wie der DICE-Koeffizient, die Loglikelihood und der Poisson-Koeffizient. Diese sind alle gerichtete Signifikanzen. Das heißt Wort A ist zu wort B gleich signifikant wie Wort B zu Wort A.\n",
    "\n",
    "_visualisierung des Graphen_\n",
    "\n",
    "### Berechnung der Worte mit der höchsten Signifikanz mittels PageRank\n",
    "\n",
    "Wenn man die Kookkurrenten und deren Signifikanz analog zu Webseiten, welche durch Links auf einander Zeigen, interpretiert. Kann angenommen werden, dass auf die Kookkurrenzen eben so den PageRank-Algorithmus angewendet werden kann. Durch den PageRank-Algorithmus kann herausgefunden werden, welche Kookkurrenten, also Worte am meisten mit anderen Worten zusammen auftreten und so zusagen einen höheren Stellenwert besitzen.\n",
    "\n",
    "Um den PageRank zu berechnen verwenden wir die Python bibliothek \"networkx\". Diese erlaubt es einen Graphen auf zu bauen, und bietet die berechnung von PageRank sowie HITS an. Es wurde für jede Signifikanz berechnungsart (Poisson, Loglikelihood und Dice), einen Graphen erstellt und die PageRanks berechnet. Um ein möglichst ausgeglichenes Ergebnis zu erhalten wurden die Ergebnisse zusammengefügt und gemittelt.\n",
    "\n",
    "__ Die 10 signifikantesten Kookkurrenten __\n",
    "\n",
    "    [('Distinctive', 0.020537092588989742),\n",
    "     ('Talented', 0.01961324733238577),\n",
    "     ('Original', 0.017716415716561188),\n",
    "     ('Cool', 0.017488920129503163),\n",
    "     ('Free', 0.017464456020722725),\n",
    "     ('Authentic', 0.017404108457903064),\n",
    "     ('Good Lyrics', 0.017352995156741942),\n",
    "     ('Catchy', 0.017161942730958772),\n",
    "     ('Current', 0.01652955522327245),\n",
    "     ('Beautiful', 0.016522639447826164)]\n",
    "\n",
    "Interessant ist hier, dass ein grossteil der signifikantesten Kookkurrenten, ebenfalls vom RandomForestRegressor als \"important Features\" angegeben wurde."
   ]
  },
  {
   "cell_type": "code",
   "execution_count": null,
   "metadata": {
    "collapsed": true
   },
   "outputs": [],
   "source": []
  }
 ],
 "metadata": {
  "kernelspec": {
   "display_name": "Python 2",
   "language": "python",
   "name": "python2"
  },
  "language_info": {
   "codemirror_mode": {
    "name": "ipython",
    "version": 2
   },
   "file_extension": ".py",
   "mimetype": "text/x-python",
   "name": "python",
   "nbconvert_exporter": "python",
   "pygments_lexer": "ipython2",
   "version": "2.7.6"
  }
 },
 "nbformat": 4,
 "nbformat_minor": 0
}
