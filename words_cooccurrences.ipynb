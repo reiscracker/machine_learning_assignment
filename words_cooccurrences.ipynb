{
 "cells": [
  {
   "cell_type": "code",
   "execution_count": 1,
   "metadata": {
    "collapsed": false
   },
   "outputs": [],
   "source": [
    "import numpy as np\n",
    "import pandas as pd\n",
    "import matplotlib.pyplot as plt\n",
    "from IPython.display import display\n",
    "from scipy.stats import poisson\n",
    "import networkx as nx \n",
    "\n",
    "pd.set_option('display.mpl_style', 'default')\n",
    "plt.rcParams['figure.figsize'] = (150, 5)\n",
    "plt.rcParams['font.family'] = 'sans-serif'\n",
    "# Increase pandas width\n",
    "pd.set_option('display.width', 190)\n",
    "# Inline plots yay\n",
    "%matplotlib inline"
   ]
  },
  {
   "cell_type": "code",
   "execution_count": 2,
   "metadata": {
    "collapsed": true
   },
   "outputs": [],
   "source": [
    "words_file = 'words.csv'\n",
    "words_raw_data = pd.read_csv(words_file)"
   ]
  },
  {
   "cell_type": "code",
   "execution_count": 3,
   "metadata": {
    "collapsed": false
   },
   "outputs": [],
   "source": [
    "just_words = words_raw_data[words_raw_data.columns[5:]]\n",
    "just_words = just_words.fillna(0)"
   ]
  },
  {
   "cell_type": "code",
   "execution_count": 10,
   "metadata": {
    "collapsed": false
   },
   "outputs": [
    {
     "data": {
      "text/plain": [
       "9818983"
      ]
     },
     "execution_count": 10,
     "metadata": {},
     "output_type": "execute_result"
    }
   ],
   "source": []
  },
  {
   "cell_type": "markdown",
   "metadata": {},
   "source": [
    "## Extract Cooccurrences"
   ]
  },
  {
   "cell_type": "code",
   "execution_count": 7,
   "metadata": {
    "collapsed": false
   },
   "outputs": [],
   "source": [
    "def get_words(row):\n",
    "    \"\"\"Returns the list of the marked words in the given row\"\"\"\n",
    "    return [ just_words.columns[ind] for ind, val in enumerate(row) if val > 0 ]"
   ]
  },
  {
   "cell_type": "code",
   "execution_count": 8,
   "metadata": {
    "collapsed": false
   },
   "outputs": [
    {
     "data": {
      "text/plain": [
       "['Thoughtful', 'Calm', 'Beautiful', 'Talented']"
      ]
     },
     "execution_count": 8,
     "metadata": {},
     "output_type": "execute_result"
    }
   ],
   "source": [
    "get_words(just_words.values[2])"
   ]
  },
  {
   "cell_type": "code",
   "execution_count": 11,
   "metadata": {
    "collapsed": true
   },
   "outputs": [],
   "source": [
    "cooccs = {} # words and their co-occurrences\n",
    "frequencies = {} # general frequencies of the words\n",
    "NS = just_words.values.size # number of scentences !! CHECK IT\n",
    "for row in just_words.values:\n",
    "    words = get_words(row)\n",
    "    \n",
    "    for word in words:\n",
    "        # Check if the word has occured already and count\n",
    "        # its frequencies\n",
    "        try: \n",
    "            cooccs[word]\n",
    "            frequencies[word] = frequencies[word] + 1\n",
    "        except KeyError:\n",
    "            cooccs[word] = {}\n",
    "            frequencies[word] = 1\n",
    "            \n",
    "        for coocc in words:\n",
    "            # count the co-occurrence with the current word\n",
    "            if coocc != word:     \n",
    "                try:\n",
    "                    cooccs[word][coocc] = cooccs[word][coocc] + 1\n",
    "                except KeyError:\n",
    "                    cooccs[word][coocc] = 1\n",
    "                    "
   ]
  },
  {
   "cell_type": "code",
   "execution_count": null,
   "metadata": {
    "collapsed": false
   },
   "outputs": [],
   "source": []
  },
  {
   "cell_type": "code",
   "execution_count": 88,
   "metadata": {
    "collapsed": false
   },
   "outputs": [],
   "source": [
    "MAXFREQ = 0\n",
    "for curTerm in cooccs.keys():\n",
    "    if frequencies[curTerm] > MAXFREQ:\n",
    "        MAXFREQ = frequencies[curTerm]"
   ]
  },
  {
   "cell_type": "markdown",
   "metadata": {},
   "source": [
    "## Significances functions"
   ]
  },
  {
   "cell_type": "code",
   "execution_count": 15,
   "metadata": {
    "collapsed": true
   },
   "outputs": [],
   "source": [
    "def n_log_n(n):\n",
    "    if n <= 0 :\n",
    "        return 0\n",
    "    return n * np.log(n)"
   ]
  },
  {
   "cell_type": "code",
   "execution_count": 16,
   "metadata": {
    "collapsed": false
   },
   "outputs": [],
   "source": [
    "# calculates the actual significance of the co-occurrences...\n",
    "# INFO: var 'NS' from above \n",
    "def sig_ll(nab, na, nb):\n",
    "    sig = n_log_n(nab) - n_log_n(na) - n_log_n(nb) + n_log_n(NS) \\\n",
    "        + n_log_n(NS - nb - na + nab) \\\n",
    "        + n_log_n(na - nab) + n_log_n(nb - nab) \\\n",
    "        - n_log_n(NS - na) - n_log_n(NS - nb)\n",
    "    if (NS * nab) > (na * nb):\n",
    "        return sig\n",
    "    return 0.0"
   ]
  },
  {
   "cell_type": "code",
   "execution_count": 17,
   "metadata": {
    "collapsed": false
   },
   "outputs": [],
   "source": [
    "def sig_dice(nab, na, nb):\n",
    "    h_nab = nb if nb <= na else na\n",
    "    if nab >= h_nab:\n",
    "        nab = h_nab\n",
    "    return (2.0 * nab) / (na + nb)"
   ]
  },
  {
   "cell_type": "code",
   "execution_count": 18,
   "metadata": {
    "collapsed": false
   },
   "outputs": [],
   "source": [
    "def sig_poisson(nab, na, nb):\n",
    "    mu = (float(na) * nb) / NS\n",
    "    return (-1) * poisson.logpmf(nab, mu)"
   ]
  },
  {
   "cell_type": "code",
   "execution_count": 19,
   "metadata": {
    "collapsed": false
   },
   "outputs": [],
   "source": [
    "# INFO: var 'MAXFREQ' from above \n",
    "def sig_assoc(nab, na, b):\n",
    "    h_nab = nb if nb <= na else na\n",
    "    if nab >= h_nab:\n",
    "        nab = h_nab\n",
    "\n",
    "    helpfrequa = float(na) / MAXFREQ\n",
    "    siga = float(nab) / na\n",
    "\n",
    "    helpfrequb = float(nb) / MAXFREQ\n",
    "    sigb = float(nab) / nb\n",
    "\n",
    "    sign = float(0)\n",
    "    if (na > 1) or (nb > 1):\n",
    "        if siga >= sigb:\n",
    "            sign = (float(nab) / na) * helpfrequa\n",
    "            \n",
    "    return sign"
   ]
  },
  {
   "cell_type": "code",
   "execution_count": 20,
   "metadata": {
    "collapsed": false
   },
   "outputs": [
    {
     "data": {
      "text/plain": [
       "911.77361827408731"
      ]
     },
     "execution_count": 20,
     "metadata": {},
     "output_type": "execute_result"
    }
   ],
   "source": [
    "na = frequencies['Colourful']\n",
    "nb = frequencies['Background']\n",
    "nab = cooccs['Colourful']['Background']\n",
    "sig_poisson(nab, na, nb)"
   ]
  },
  {
   "cell_type": "markdown",
   "metadata": {},
   "source": [
    "## Generate graph"
   ]
  },
  {
   "cell_type": "code",
   "execution_count": 21,
   "metadata": {
    "collapsed": true
   },
   "outputs": [],
   "source": [
    "def get_graph(f_sign):\n",
    "    G = nx.DiGraph()\n",
    "    G.add_nodes_from(cooccs.keys())\n",
    "    for curTerm, curCooccs in cooccs.iteritems():\n",
    "        freq_term_a = frequencies[curTerm]        \n",
    "        for curCoocc, freq_term_ab in curCooccs.iteritems():\n",
    "            freq_term_b = frequencies[curCoocc]\n",
    "            sign = f_sign(freq_term_ab, freq_term_a, freq_term_b)\n",
    "            G.add_edge(curTerm, curCoocc, weight=sign)\n",
    "    return G"
   ]
  },
  {
   "cell_type": "markdown",
   "metadata": {},
   "source": [
    "## Calculate PageRanks"
   ]
  },
  {
   "cell_type": "code",
   "execution_count": 22,
   "metadata": {
    "collapsed": false
   },
   "outputs": [],
   "source": [
    "import operator\n",
    "G_poisson = get_graph(sig_poisson)\n",
    "G_ll = get_graph(sig_ll)\n",
    "G_dice = get_graph(sig_dice)"
   ]
  },
  {
   "cell_type": "code",
   "execution_count": 23,
   "metadata": {
    "collapsed": false,
    "scrolled": false
   },
   "outputs": [],
   "source": [
    "pr_poisson = nx.pagerank_numpy(get_graph(sig_poisson), alpha=0.05)\n",
    "pr_poisson = sorted(pr_poisson.items(), key=operator.itemgetter(1), reverse=True)\n",
    "\n",
    "pr_ll = nx.pagerank_numpy(get_graph(sig_ll), alpha=0.05)\n",
    "pr_ll = sorted(pr_ll.items(), key=operator.itemgetter(1), reverse=True)\n",
    "\n",
    "pr_dice = nx.pagerank_numpy(get_graph(sig_dice), alpha=0.05)\n",
    "pr_dice = sorted(pr_dice.items(), key=operator.itemgetter(1), reverse=True)"
   ]
  },
  {
   "cell_type": "code",
   "execution_count": 24,
   "metadata": {
    "collapsed": false
   },
   "outputs": [
    {
     "data": {
      "text/plain": [
       "[('Distinctive', 0.013272382148571779),\n",
       " ('Talented', 0.013166838423626197),\n",
       " ('Catchy', 0.013013946809658212),\n",
       " ('Original', 0.012914927244141517),\n",
       " ('Cool', 0.012898501086706133),\n",
       " ('Authentic', 0.01281955189261803),\n",
       " ('Current', 0.01279869490163636),\n",
       " ('Energetic', 0.012719115837097103),\n",
       " ('Beautiful', 0.012714859069263921),\n",
       " ('Credible', 0.012641857110708017),\n",
       " ('Timeless', 0.012635080472776318),\n",
       " ('Stylish', 0.012611889550955173),\n",
       " ('Passionate', 0.012592880551961684),\n",
       " ('Thoughtful', 0.012569207189601712),\n",
       " ('Classic', 0.01256695822768946),\n",
       " ('Fun', 0.012530471066897215),\n",
       " ('Boring', 0.012517666895462812),\n",
       " ('Unoriginal', 0.012508873004073195),\n",
       " ('Warm', 0.012499072893179078),\n",
       " ('Confident', 0.01248130674900433),\n",
       " ('Edgy', 0.012454018961241929),\n",
       " ('Free', 0.012451328229229598),\n",
       " ('Good lyrics', 0.012445844688715828),\n",
       " ('Approachable', 0.012437293813929247),\n",
       " ('Upbeat', 0.012414634181492254),\n",
       " ('Unattractive', 0.012405818425425154),\n",
       " ('Good Lyrics', 0.012400943128882236),\n",
       " ('Youthful', 0.012359110483546579),\n",
       " ('Noisy', 0.012248967019511711),\n",
       " ('Emotional', 0.012247801081725986),\n",
       " ('Calm', 0.01222669203328222),\n",
       " ('Superficial', 0.012215533156678315),\n",
       " ('Depressing', 0.012208257318181424),\n",
       " ('Cheesy', 0.01220805541384038),\n",
       " ('Trendsetter', 0.01218797818015351),\n",
       " ('Annoying', 0.012172590221748962),\n",
       " ('Dated', 0.012166674910221557),\n",
       " ('Cheap', 0.012163297482690514),\n",
       " ('Colourful', 0.012123262499433974),\n",
       " ('Heartfelt', 0.012104452858892301),\n",
       " ('Fake', 0.012101372092598943),\n",
       " ('Sexy', 0.012100068038021331),\n",
       " ('Laid back', 0.012093116452135951),\n",
       " ('Inspiring', 0.012091948839280664),\n",
       " ('Exciting', 0.012082328312537662),\n",
       " ('Uplifting', 0.012057032600335723),\n",
       " ('Uninspired', 0.012052809020794883),\n",
       " ('Arrogant', 0.012051383399144883),\n",
       " ('Intriguing', 0.012050735704366034),\n",
       " ('Aggressive', 0.012039640603529286),\n",
       " ('Sensitive', 0.01203733757400616),\n",
       " ('Popular', 0.012026591495185292),\n",
       " ('Relaxed', 0.012022467241052442),\n",
       " ('Genius', 0.012015760505451244),\n",
       " ('Sophisticated', 0.011969242178682424),\n",
       " ('Playful', 0.011969089918467176),\n",
       " ('Sociable', 0.011938685210694551),\n",
       " ('Legendary', 0.011936458097585603),\n",
       " ('Rebellious', 0.01193449905169722),\n",
       " ('Outgoing', 0.011928568047728447),\n",
       " ('Serious', 0.011916200436495699),\n",
       " ('Unapproachable', 0.011895780895035358),\n",
       " ('Soulful', 0.011889104535055225),\n",
       " ('Iconic', 0.011886426574826447),\n",
       " ('Over', 0.011883851373245536),\n",
       " ('Irrelevant', 0.01187828099675408),\n",
       " ('Outspoken', 0.011838287246023978),\n",
       " ('Mainstream', 0.01182687321295246),\n",
       " ('Nostalgic', 0.011825954581041761),\n",
       " ('Not authentic', 0.0118064254928611),\n",
       " ('Way out', 0.011806185062981379),\n",
       " ('Background', 0.011803746403608284),\n",
       " ('Progressive', 0.01179944083138693),\n",
       " ('Dark', 0.011793574264674868),\n",
       " ('Pioneer', 0.011762913284115472),\n",
       " ('Intrusive', 0.011744599859076991),\n",
       " ('Worldly', 0.011743139297148786),\n",
       " ('Relatable', 0.011699561925747618),\n",
       " ('Superstar', 0.011672174124397732),\n",
       " ('Wholesome', 0.011664342235385103),\n",
       " ('Old', 0.011654933358210965),\n",
       " ('None of these', 0.011592434411226364)]"
      ]
     },
     "execution_count": 24,
     "metadata": {},
     "output_type": "execute_result"
    }
   ],
   "source": [
    "pr_poisson"
   ]
  },
  {
   "cell_type": "markdown",
   "metadata": {
    "collapsed": true
   },
   "source": [
    "## Calculate HITS"
   ]
  },
  {
   "cell_type": "code",
   "execution_count": 119,
   "metadata": {
    "collapsed": true
   },
   "outputs": [],
   "source": [
    "import operator\n",
    "G_assoc = get_graph(sig_assoc)"
   ]
  },
  {
   "cell_type": "code",
   "execution_count": 132,
   "metadata": {
    "collapsed": false
   },
   "outputs": [],
   "source": [
    "hubs, authorities = nx.hits(G_assoc)\n",
    "hubs = sorted(hubs.items(), key=operator.itemgetter(1), reverse=True)\n",
    "authorities = sorted(authorities.items(), key=operator.itemgetter(1), reverse=True)"
   ]
  },
  {
   "cell_type": "markdown",
   "metadata": {},
   "source": [
    "## Combine them with the mean"
   ]
  },
  {
   "cell_type": "code",
   "execution_count": 146,
   "metadata": {
    "collapsed": false
   },
   "outputs": [],
   "source": [
    "dict_p = dict((x, y) for x, y in pr_poisson)\n",
    "dict_l = dict((x, y) for x, y in pr_ll)\n",
    "dict_d = dict((x, y) for x, y in pr_dice)\n",
    "dict_a = dict((x, y) for x, y in authorities)"
   ]
  },
  {
   "cell_type": "code",
   "execution_count": 155,
   "metadata": {
    "collapsed": false
   },
   "outputs": [],
   "source": [
    "combines = {}\n",
    "for term in cooccs.keys():\n",
    "    s = (dict_p[term] + dict_l[term] + dict_d[term] + dict_a[term]) / 4\n",
    "    combines[term] = s"
   ]
  },
  {
   "cell_type": "code",
   "execution_count": 158,
   "metadata": {
    "collapsed": false
   },
   "outputs": [
    {
     "data": {
      "text/plain": [
       "[('Distinctive', 0.020537092588989742),\n",
       " ('Talented', 0.01961324733238577),\n",
       " ('Original', 0.017716415716561188),\n",
       " ('Cool', 0.017488920129503163),\n",
       " ('Free', 0.017464456020722725),\n",
       " ('Authentic', 0.017404108457903064),\n",
       " ('Good Lyrics', 0.017352995156741942),\n",
       " ('Catchy', 0.017161942730958772),\n",
       " ('Current', 0.01652955522327245),\n",
       " ('Beautiful', 0.016522639447826164),\n",
       " ('Credible', 0.016300000625761507),\n",
       " ('Stylish', 0.01628892429845479),\n",
       " ('Timeless', 0.01626767275987494),\n",
       " ('Energetic', 0.01598660978391591),\n",
       " ('Passionate', 0.0158934924581073),\n",
       " ('Thoughtful', 0.015668062414962783),\n",
       " ('Classic', 0.01562917966818016),\n",
       " ('Fun', 0.015103287541074768),\n",
       " ('Emotional', 0.01471241638987052),\n",
       " ('Warm', 0.014668325884819363),\n",
       " ('Edgy', 0.01466188272536748),\n",
       " ('Approachable', 0.014632640078362614),\n",
       " ('Colourful', 0.014546657192934319),\n",
       " ('Exciting', 0.014336711746479483),\n",
       " ('Popular', 0.014275581950441148),\n",
       " ('Upbeat', 0.014050808353947541),\n",
       " ('Uplifting', 0.01385340767019225),\n",
       " ('Heartfelt', 0.013841576398730019),\n",
       " ('Youthful', 0.013795143121808233),\n",
       " ('Trendsetter', 0.013424544543734403),\n",
       " ('Laid back', 0.013269074670045816),\n",
       " ('Relaxed', 0.012973475582954242),\n",
       " ('Sexy', 0.012920737235164431),\n",
       " ('Intriguing', 0.012557732828080195),\n",
       " ('Genius', 0.012319308862416004),\n",
       " ('Soulful', 0.012317138415765072),\n",
       " ('Sophisticated', 0.011949845274677871),\n",
       " ('Rebellious', 0.011936792953346542),\n",
       " ('Sociable', 0.011545327925388751),\n",
       " ('Outspoken', 0.011399214044007027),\n",
       " ('Good lyrics', 0.010662625920899371),\n",
       " ('Way out', 0.010649505974125763),\n",
       " ('Background', 0.01062782828947018),\n",
       " ('Confident', 0.010583763747289279),\n",
       " ('Boring', 0.01057951920175482),\n",
       " ('Legendary', 0.010414664686129515),\n",
       " ('Iconic', 0.010167548617713733),\n",
       " ('Calm', 0.010126713005309014),\n",
       " ('Inspiring', 0.009970995890258905),\n",
       " ('Sensitive', 0.009909632986356835),\n",
       " ('Dated', 0.009881731312456852),\n",
       " ('Progressive', 0.009829421623492356),\n",
       " ('Nostalgic', 0.009806262303606119),\n",
       " ('Dark', 0.00974476722473191),\n",
       " ('Pioneer', 0.009661134727711289),\n",
       " ('Unoriginal', 0.009538872333542503),\n",
       " ('Worldly', 0.009517133167170181),\n",
       " ('Serious', 0.009513398284986771),\n",
       " ('Playful', 0.0094794836206293),\n",
       " ('Unattractive', 0.00942576427237973),\n",
       " ('Outgoing', 0.009411648038788105),\n",
       " ('Annoying', 0.009365296645630612),\n",
       " ('Noisy', 0.009343291303151681),\n",
       " ('Superficial', 0.009338888278067213),\n",
       " ('Cheesy', 0.009292932698642394),\n",
       " ('Depressing', 0.009290314832336053),\n",
       " ('Mainstream', 0.009270283494044781),\n",
       " ('Uninspired', 0.009257074950375054),\n",
       " ('Cheap', 0.009255482810149668),\n",
       " ('Fake', 0.009204693040849777),\n",
       " ('Arrogant', 0.009178507804863076),\n",
       " ('Aggressive', 0.00916789517494979),\n",
       " ('Wholesome', 0.009112580278897208),\n",
       " ('Over', 0.009025553478544942),\n",
       " ('Irrelevant', 0.00901955776804653),\n",
       " ('Unapproachable', 0.009018594557812808),\n",
       " ('Old', 0.00899049510250812),\n",
       " ('Superstar', 0.008963575347914374),\n",
       " ('Not authentic', 0.008962345822949042),\n",
       " ('Relatable', 0.008928093735740081),\n",
       " ('Intrusive', 0.008900855633574026),\n",
       " ('None of these', 0.008694325808419771)]"
      ]
     },
     "execution_count": 158,
     "metadata": {},
     "output_type": "execute_result"
    }
   ],
   "source": [
    "sorted(combines.items(), key=operator.itemgetter(1), reverse=True)"
   ]
  },
  {
   "cell_type": "code",
   "execution_count": 159,
   "metadata": {
    "collapsed": false
   },
   "outputs": [
    {
     "name": "stdout",
     "output_type": "stream",
     "text": [
      "{'Superficial': 1.0, 'Wholesome': 1.0, 'Cool': 0.18465231662011117, 'Catchy': 0.22865606688623072, 'Distinctive': 0.18465231662011117, 'Serious': 1.0, 'Outspoken': 0.6742177170559718, 'Unoriginal': 1.0, 'Laid back': 0.6742177170559718, 'Nostalgic': 1.0, 'Current': 0.18465231662011117, 'Confident': 1.0, 'Unapproachable': 1.0, 'Calm': 1.0, 'Stylish': 0.18465231662011117, 'Upbeat': 0.22865606688623072, 'Way out': 0.6742177170559718, 'Intrusive': 1.0, 'Uplifting': 0.6742177170559718, 'Relaxed': 0.6742177170559718, 'Approachable': 0.18465231662011117, 'Good lyrics': 1.0, 'Relatable': 1.0, 'Mainstream': 1.0, 'Inspiring': 1.0, 'Iconic': 1.0, 'Free': 0.6742177170559718, 'Sophisticated': 0.6742177170559718, 'Depressing': 1.0, 'Warm': 0.18465231662011117, 'Uninspired': 1.0, 'Background': 0.6742177170559718, 'Sexy': 0.18465231662011117, 'Exciting': 0.6742177170559718, 'Irrelevant': 1.0, 'Soulful': 0.7059186951686642, 'Sociable': 0.6742177170559718, 'Not authentic': 1.0, 'Credible': 0.18465231662011117, 'Intriguing': 0.6742177170559718, 'Classic': 0.18465231662011117, 'Superstar': 1.0, 'Talented': 0.18465231662011117, 'Progressive': 1.0, 'Fun': 0.18465231662011117, 'Boring': 0.22865606688623072, 'Dark': 1.0, 'Timeless': 0.18465231662011117, 'Outgoing': 1.0, 'Edgy': 0.18465231662011117, 'Pioneer': 1.0, 'Sensitive': 1.0, 'Good Lyrics': 0.6742177170559718, 'Trendsetter': 0.18465231662011117, 'Dated': 0.22865606688623072, 'Popular': 0.7059186951686642, 'Emotional': 0.6742177170559718, 'Passionate': 0.18465231662011117, 'Original': 0.18465231662011117, 'Youthful': 0.22865606688623072, 'Energetic': 0.18465231662011117, 'Beautiful': 0.18465231662011117, 'Unattractive': 1.0, 'Old': 1.0, 'Genius': 0.6742177170559718, 'Authentic': 0.18465231662011117, 'Heartfelt': 0.6742177170559718, 'Legendary': 1.0, 'Cheap': 1.0, 'Rebellious': 0.6742177170559718, 'Playful': 1.0, 'Thoughtful': 0.18465231662011117, 'Arrogant': 1.0, 'Worldly': 1.0, 'Fake': 1.0, 'Noisy': 1.0, 'Aggressive': 1.0, 'Annoying': 1.0, 'Colourful': 0.6742177170559718, 'Cheesy': 1.0, 'Over': 1.0, 'None of these': 0.0}\n"
     ]
    }
   ],
   "source": [
    "print(nx.square_clustering(G_assoc))"
   ]
  },
  {
   "cell_type": "code",
   "execution_count": null,
   "metadata": {
    "collapsed": true
   },
   "outputs": [],
   "source": []
  }
 ],
 "metadata": {
  "kernelspec": {
   "display_name": "Python 2",
   "language": "python",
   "name": "python2"
  },
  "language_info": {
   "codemirror_mode": {
    "name": "ipython",
    "version": 2
   },
   "file_extension": ".py",
   "mimetype": "text/x-python",
   "name": "python",
   "nbconvert_exporter": "python",
   "pygments_lexer": "ipython2",
   "version": "2.7.6"
  }
 },
 "nbformat": 4,
 "nbformat_minor": 0
}
