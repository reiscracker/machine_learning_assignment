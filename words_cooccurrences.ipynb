{
 "cells": [
  {
   "cell_type": "code",
   "execution_count": 23,
   "metadata": {
    "collapsed": false
   },
   "outputs": [],
   "source": [
    "import numpy as np\n",
    "import pandas as pd\n",
    "import matplotlib.pyplot as plt\n",
    "from IPython.display import display\n",
    "from scipy.stats import poisson\n",
    "import networkx as nx \n",
    "\n",
    "#pd.set_option('display.mpl_style', 'default')\n",
    "plt.rcParams['figure.figsize'] = (20, 10)\n",
    "plt.rcParams['font.family'] = 'sans-serif'\n",
    "# Increase pandas width\n",
    "#pd.set_option('display.width', 400)\n",
    "# Inline plots yay\n",
    "%matplotlib inline"
   ]
  },
  {
   "cell_type": "code",
   "execution_count": 24,
   "metadata": {
    "collapsed": true
   },
   "outputs": [],
   "source": [
    "words_file = 'words.csv'\n",
    "words_raw_data = pd.read_csv(words_file)"
   ]
  },
  {
   "cell_type": "code",
   "execution_count": 25,
   "metadata": {
    "collapsed": false
   },
   "outputs": [],
   "source": [
    "just_words = words_raw_data[words_raw_data.columns[5:]]\n",
    "just_words = just_words.fillna(0)"
   ]
  },
  {
   "cell_type": "code",
   "execution_count": 26,
   "metadata": {
    "collapsed": false
   },
   "outputs": [
    {
     "data": {
      "text/plain": [
       "83"
      ]
     },
     "execution_count": 26,
     "metadata": {},
     "output_type": "execute_result"
    }
   ],
   "source": [
    "just_words.columns.size"
   ]
  },
  {
   "cell_type": "markdown",
   "metadata": {},
   "source": [
    "## Extract Cooccurrences"
   ]
  },
  {
   "cell_type": "code",
   "execution_count": 27,
   "metadata": {
    "collapsed": false
   },
   "outputs": [],
   "source": [
    "def get_words(row):\n",
    "    \"\"\"Returns the list of the marked words in the given row\"\"\"\n",
    "    return [ just_words.columns[ind] for ind, val in enumerate(row) if val > 0 ]"
   ]
  },
  {
   "cell_type": "code",
   "execution_count": 28,
   "metadata": {
    "collapsed": false
   },
   "outputs": [
    {
     "data": {
      "text/plain": [
       "118301"
      ]
     },
     "execution_count": 28,
     "metadata": {},
     "output_type": "execute_result"
    }
   ],
   "source": [
    "just_words.values.shape[0]"
   ]
  },
  {
   "cell_type": "code",
   "execution_count": 29,
   "metadata": {
    "collapsed": true
   },
   "outputs": [],
   "source": [
    "cooccs = {} # words and their co-occurrences\n",
    "frequencies = {} # general frequencies of the words\n",
    "NS = just_words.values.shape[0] # number of scentences !! CHECK IT\n",
    "for row in just_words.values:\n",
    "    words = get_words(row)\n",
    "    \n",
    "    for word in words:\n",
    "        # Check if the word has occured already and count\n",
    "        # its frequencies\n",
    "        try: \n",
    "            cooccs[word]\n",
    "            frequencies[word] = frequencies[word] + 1\n",
    "        except KeyError:\n",
    "            cooccs[word] = {}\n",
    "            frequencies[word] = 1\n",
    "            \n",
    "        for coocc in words:\n",
    "            # count the co-occurrence with the current word\n",
    "            if coocc != word:     \n",
    "                try:\n",
    "                    cooccs[word][coocc] = cooccs[word][coocc] + 1\n",
    "                except KeyError:\n",
    "                    cooccs[word][coocc] = 1\n",
    "                    "
   ]
  },
  {
   "cell_type": "code",
   "execution_count": null,
   "metadata": {
    "collapsed": false
   },
   "outputs": [],
   "source": []
  },
  {
   "cell_type": "code",
   "execution_count": 30,
   "metadata": {
    "collapsed": false
   },
   "outputs": [],
   "source": [
    "MAXFREQ = 0\n",
    "for curTerm in cooccs.keys():\n",
    "    if frequencies[curTerm] > MAXFREQ:\n",
    "        MAXFREQ = frequencies[curTerm]"
   ]
  },
  {
   "cell_type": "markdown",
   "metadata": {},
   "source": [
    "## Significances functions"
   ]
  },
  {
   "cell_type": "code",
   "execution_count": 31,
   "metadata": {
    "collapsed": true
   },
   "outputs": [],
   "source": [
    "def n_log_n(n):\n",
    "    if n <= 0 :\n",
    "        return 0\n",
    "    return n * np.log(n)"
   ]
  },
  {
   "cell_type": "code",
   "execution_count": 32,
   "metadata": {
    "collapsed": false
   },
   "outputs": [],
   "source": [
    "# calculates the actual significance of the co-occurrences...\n",
    "# INFO: var 'NS' from above \n",
    "def sig_ll(nab, na, nb):\n",
    "    sig = n_log_n(nab) - n_log_n(na) - n_log_n(nb) + n_log_n(NS) \\\n",
    "        + n_log_n(NS - nb - na + nab) \\\n",
    "        + n_log_n(na - nab) + n_log_n(nb - nab) \\\n",
    "        - n_log_n(NS - na) - n_log_n(NS - nb)\n",
    "    if (NS * nab) > (na * nb):\n",
    "        return sig\n",
    "    return 0.0"
   ]
  },
  {
   "cell_type": "code",
   "execution_count": 33,
   "metadata": {
    "collapsed": false
   },
   "outputs": [],
   "source": [
    "def sig_dice(nab, na, nb):\n",
    "    h_nab = nb if nb <= na else na\n",
    "    if nab >= h_nab:\n",
    "        nab = h_nab\n",
    "    return (2.0 * nab) / (na + nb)"
   ]
  },
  {
   "cell_type": "code",
   "execution_count": 34,
   "metadata": {
    "collapsed": false
   },
   "outputs": [],
   "source": [
    "def sig_poisson(nab, na, nb):\n",
    "    mu = (float(na) * nb) / NS\n",
    "    return (-1) * poisson.logpmf(nab, mu)"
   ]
  },
  {
   "cell_type": "code",
   "execution_count": 35,
   "metadata": {
    "collapsed": false
   },
   "outputs": [],
   "source": [
    "# INFO: var 'MAXFREQ' from above \n",
    "def sig_assoc(nab, na, b):\n",
    "    h_nab = nb if nb <= na else na\n",
    "    if nab >= h_nab:\n",
    "        nab = h_nab\n",
    "\n",
    "    helpfrequa = float(na) / MAXFREQ\n",
    "    siga = float(nab) / na\n",
    "\n",
    "    helpfrequb = float(nb) / MAXFREQ\n",
    "    sigb = float(nab) / nb\n",
    "\n",
    "    sign = float(0)\n",
    "    if (na > 1) or (nb > 1):\n",
    "        if siga >= sigb:\n",
    "            sign = (float(nab) / na) * helpfrequa\n",
    "            \n",
    "    return sign"
   ]
  },
  {
   "cell_type": "code",
   "execution_count": 36,
   "metadata": {
    "collapsed": false
   },
   "outputs": [
    {
     "data": {
      "text/plain": [
       "167.94832665872545"
      ]
     },
     "execution_count": 36,
     "metadata": {},
     "output_type": "execute_result"
    }
   ],
   "source": [
    "na = frequencies['Colourful']\n",
    "nb = frequencies['Background']\n",
    "nab = cooccs['Colourful']['Background']\n",
    "sig_poisson(nab, na, nb)"
   ]
  },
  {
   "cell_type": "code",
   "execution_count": 37,
   "metadata": {
    "collapsed": false
   },
   "outputs": [
    {
     "data": {
      "text/plain": [
       "118301"
      ]
     },
     "execution_count": 37,
     "metadata": {},
     "output_type": "execute_result"
    }
   ],
   "source": [
    "NS"
   ]
  },
  {
   "cell_type": "markdown",
   "metadata": {},
   "source": [
    "## Generate graph"
   ]
  },
  {
   "cell_type": "code",
   "execution_count": 38,
   "metadata": {
    "collapsed": true
   },
   "outputs": [],
   "source": [
    "def get_graph(f_sign):\n",
    "    G = nx.DiGraph()\n",
    "    G.add_nodes_from(cooccs.keys())\n",
    "    for curTerm, curCooccs in cooccs.iteritems():\n",
    "        freq_term_a = frequencies[curTerm]        \n",
    "        for curCoocc, freq_term_ab in curCooccs.iteritems():\n",
    "            freq_term_b = frequencies[curCoocc]\n",
    "            sign = f_sign(freq_term_ab, freq_term_a, freq_term_b)\n",
    "            G.add_edge(curTerm, curCoocc, weight=sign)\n",
    "    return G"
   ]
  },
  {
   "cell_type": "markdown",
   "metadata": {},
   "source": [
    "## Calculate PageRanks"
   ]
  },
  {
   "cell_type": "code",
   "execution_count": 39,
   "metadata": {
    "collapsed": false
   },
   "outputs": [],
   "source": [
    "import operator\n",
    "G_poisson = get_graph(sig_poisson)\n",
    "G_ll = get_graph(sig_ll)\n",
    "G_dice = get_graph(sig_dice)"
   ]
  },
  {
   "cell_type": "code",
   "execution_count": 40,
   "metadata": {
    "collapsed": false,
    "scrolled": false
   },
   "outputs": [],
   "source": [
    "pr_poisson = nx.pagerank_numpy(get_graph(sig_poisson), alpha=0.05)\n",
    "pr_poisson = sorted(pr_poisson.items(), key=operator.itemgetter(1), reverse=True)\n",
    "\n",
    "pr_ll = nx.pagerank_numpy(get_graph(sig_ll), alpha=0.05)\n",
    "pr_ll = sorted(pr_ll.items(), key=operator.itemgetter(1), reverse=True)\n",
    "\n",
    "pr_dice = nx.pagerank_numpy(get_graph(sig_dice), alpha=0.05)\n",
    "pr_dice = sorted(pr_dice.items(), key=operator.itemgetter(1), reverse=True)"
   ]
  },
  {
   "cell_type": "code",
   "execution_count": null,
   "metadata": {
    "collapsed": false
   },
   "outputs": [],
   "source": []
  },
  {
   "cell_type": "markdown",
   "metadata": {
    "collapsed": true
   },
   "source": [
    "## Calculate HITS"
   ]
  },
  {
   "cell_type": "code",
   "execution_count": 44,
   "metadata": {
    "collapsed": true
   },
   "outputs": [],
   "source": [
    "import operator\n",
    "G_assoc = get_graph(sig_assoc)"
   ]
  },
  {
   "cell_type": "code",
   "execution_count": 45,
   "metadata": {
    "collapsed": false
   },
   "outputs": [],
   "source": [
    "hubs, authorities = nx.hits(G_assoc)\n",
    "hubs = sorted(hubs.items(), key=operator.itemgetter(1), reverse=True)\n",
    "authorities = sorted(authorities.items(), key=operator.itemgetter(1), reverse=True)"
   ]
  },
  {
   "cell_type": "code",
   "execution_count": null,
   "metadata": {
    "collapsed": false
   },
   "outputs": [],
   "source": []
  },
  {
   "cell_type": "markdown",
   "metadata": {},
   "source": [
    "## Combine them with the mean"
   ]
  },
  {
   "cell_type": "code",
   "execution_count": 54,
   "metadata": {
    "collapsed": false
   },
   "outputs": [],
   "source": [
    "dict_p = dict((x, y) for x, y in pr_poisson)\n",
    "dict_l = dict((x, y) for x, y in pr_ll)\n",
    "dict_d = dict((x, y) for x, y in pr_dice)\n",
    "#dict_a = dict((x, y) for x, y in authorities)"
   ]
  },
  {
   "cell_type": "code",
   "execution_count": 55,
   "metadata": {
    "collapsed": false
   },
   "outputs": [],
   "source": [
    "combines = {}\n",
    "for term in cooccs.keys():\n",
    "    s = (dict_p[term] + dict_l[term] + dict_d[term]) / 3\n",
    "    combines[term] = s"
   ]
  },
  {
   "cell_type": "code",
   "execution_count": 56,
   "metadata": {
    "collapsed": false
   },
   "outputs": [
    {
     "data": {
      "text/plain": [
       "[('Talented', 0.012830927950286663),\n",
       " ('Cool', 0.012574505454429417),\n",
       " ('Good Lyrics', 0.012569943075672904),\n",
       " ('Free', 0.012565523400344808),\n",
       " ('Beautiful', 0.012560364959083354),\n",
       " ('Distinctive', 0.012559275435825827),\n",
       " ('Authentic', 0.012515988511719383),\n",
       " ('Unoriginal', 0.012511897563578738),\n",
       " ('Credible', 0.012507823071873923),\n",
       " ('Original', 0.012504346475472904),\n",
       " ('Passionate', 0.012494771975309474),\n",
       " ('Stylish', 0.012492318400241209),\n",
       " ('Catchy', 0.012487524008978831),\n",
       " ('Unattractive', 0.012485552348864259),\n",
       " ('Timeless', 0.012462684306475265),\n",
       " ('Emotional', 0.012421276812144182),\n",
       " ('Good lyrics', 0.01241245904834154),\n",
       " ('Thoughtful', 0.012396467201608306),\n",
       " ('Warm', 0.012384814645045913),\n",
       " ('Confident', 0.01238273406236271),\n",
       " ('Current', 0.012358099263685472),\n",
       " ('Energetic', 0.012355367057718359),\n",
       " ('Fun', 0.012351031602637216),\n",
       " ('Classic', 0.012337811345961056),\n",
       " ('Colourful', 0.012295024326812327),\n",
       " ('Superficial', 0.01229327689052378),\n",
       " ('Cheap', 0.012289171086380203),\n",
       " ('Exciting', 0.01228675742387223),\n",
       " ('Approachable', 0.012280223807088339),\n",
       " ('Heartfelt', 0.012266602535326058),\n",
       " ('Genius', 0.012264606062085334),\n",
       " ('Boring', 0.01225760480757352),\n",
       " ('Uplifting', 0.01225593591601011),\n",
       " ('Annoying', 0.012251329465791555),\n",
       " ('Fake', 0.012246250661855708),\n",
       " ('Upbeat', 0.012242254139828103),\n",
       " ('Intriguing', 0.012242173676912488),\n",
       " ('Trendsetter', 0.012241167277071188),\n",
       " ('Uninspired', 0.012239890555199919),\n",
       " ('Legendary', 0.012223355709702335),\n",
       " ('Inspiring', 0.012217631508759085),\n",
       " ('Noisy', 0.012199590919855272),\n",
       " ('Cheesy', 0.01219208059973851),\n",
       " ('Laid back', 0.012188733124881994),\n",
       " ('Relaxed', 0.012168662902858706),\n",
       " ('Sophisticated', 0.012163819419988835),\n",
       " ('Popular', 0.012157004424918844),\n",
       " ('Iconic', 0.012155812247130469),\n",
       " ('Sexy', 0.012141928677129986),\n",
       " ('Arrogant', 0.012132099192184666),\n",
       " ('Sensitive', 0.012131772916220257),\n",
       " ('Edgy', 0.012131039267139848),\n",
       " ('Depressing', 0.012120482018195827),\n",
       " ('Sociable', 0.012111195283586914),\n",
       " ('Youthful', 0.012075825939125673),\n",
       " ('Rebellious', 0.012060702243634513),\n",
       " ('Aggressive', 0.012058716835079508),\n",
       " ('Calm', 0.012055131761754682),\n",
       " ('Nostalgic', 0.01205262341092179),\n",
       " ('Irrelevant', 0.012031534120440468),\n",
       " ('Progressive', 0.012024905861841545),\n",
       " ('Soulful', 0.012023876374097601),\n",
       " ('Dated', 0.012007472136105911),\n",
       " ('Unapproachable', 0.012005115572608471),\n",
       " ('Playful', 0.012003305873684847),\n",
       " ('Dark', 0.011993943882019978),\n",
       " ('Outgoing', 0.011976033665782098),\n",
       " ('Pioneer', 0.01197098622068197),\n",
       " ('Outspoken', 0.011969126020027457),\n",
       " ('Worldly', 0.011951761314878266),\n",
       " ('Over', 0.01194819754596653),\n",
       " ('Not authentic', 0.011947229612385632),\n",
       " ('Way out', 0.01193864816231077),\n",
       " ('Serious', 0.011893049996861546),\n",
       " ('Background', 0.01185517443475585),\n",
       " ('Intrusive', 0.011842124343349636),\n",
       " ('Mainstream', 0.01179104298251341),\n",
       " ('Relatable', 0.011781790594575204),\n",
       " ('Wholesome', 0.011780751928813143),\n",
       " ('Superstar', 0.011733423215057751),\n",
       " ('Old', 0.011724086717215225),\n",
       " ('None of these', 0.011592434411226357)]"
      ]
     },
     "execution_count": 56,
     "metadata": {},
     "output_type": "execute_result"
    }
   ],
   "source": [
    "sorted(combines.items(), key=operator.itemgetter(1), reverse=True)"
   ]
  },
  {
   "cell_type": "code",
   "execution_count": 159,
   "metadata": {
    "collapsed": false
   },
   "outputs": [
    {
     "name": "stdout",
     "output_type": "stream",
     "text": [
      "{'Superficial': 1.0, 'Wholesome': 1.0, 'Cool': 0.18465231662011117, 'Catchy': 0.22865606688623072, 'Distinctive': 0.18465231662011117, 'Serious': 1.0, 'Outspoken': 0.6742177170559718, 'Unoriginal': 1.0, 'Laid back': 0.6742177170559718, 'Nostalgic': 1.0, 'Current': 0.18465231662011117, 'Confident': 1.0, 'Unapproachable': 1.0, 'Calm': 1.0, 'Stylish': 0.18465231662011117, 'Upbeat': 0.22865606688623072, 'Way out': 0.6742177170559718, 'Intrusive': 1.0, 'Uplifting': 0.6742177170559718, 'Relaxed': 0.6742177170559718, 'Approachable': 0.18465231662011117, 'Good lyrics': 1.0, 'Relatable': 1.0, 'Mainstream': 1.0, 'Inspiring': 1.0, 'Iconic': 1.0, 'Free': 0.6742177170559718, 'Sophisticated': 0.6742177170559718, 'Depressing': 1.0, 'Warm': 0.18465231662011117, 'Uninspired': 1.0, 'Background': 0.6742177170559718, 'Sexy': 0.18465231662011117, 'Exciting': 0.6742177170559718, 'Irrelevant': 1.0, 'Soulful': 0.7059186951686642, 'Sociable': 0.6742177170559718, 'Not authentic': 1.0, 'Credible': 0.18465231662011117, 'Intriguing': 0.6742177170559718, 'Classic': 0.18465231662011117, 'Superstar': 1.0, 'Talented': 0.18465231662011117, 'Progressive': 1.0, 'Fun': 0.18465231662011117, 'Boring': 0.22865606688623072, 'Dark': 1.0, 'Timeless': 0.18465231662011117, 'Outgoing': 1.0, 'Edgy': 0.18465231662011117, 'Pioneer': 1.0, 'Sensitive': 1.0, 'Good Lyrics': 0.6742177170559718, 'Trendsetter': 0.18465231662011117, 'Dated': 0.22865606688623072, 'Popular': 0.7059186951686642, 'Emotional': 0.6742177170559718, 'Passionate': 0.18465231662011117, 'Original': 0.18465231662011117, 'Youthful': 0.22865606688623072, 'Energetic': 0.18465231662011117, 'Beautiful': 0.18465231662011117, 'Unattractive': 1.0, 'Old': 1.0, 'Genius': 0.6742177170559718, 'Authentic': 0.18465231662011117, 'Heartfelt': 0.6742177170559718, 'Legendary': 1.0, 'Cheap': 1.0, 'Rebellious': 0.6742177170559718, 'Playful': 1.0, 'Thoughtful': 0.18465231662011117, 'Arrogant': 1.0, 'Worldly': 1.0, 'Fake': 1.0, 'Noisy': 1.0, 'Aggressive': 1.0, 'Annoying': 1.0, 'Colourful': 0.6742177170559718, 'Cheesy': 1.0, 'Over': 1.0, 'None of these': 0.0}\n"
     ]
    }
   ],
   "source": [
    "print(nx.square_clustering(G_assoc))"
   ]
  },
  {
   "cell_type": "code",
   "execution_count": 151,
   "metadata": {
    "collapsed": false
   },
   "outputs": [],
   "source": [
    "plt.yticks?"
   ]
  },
  {
   "cell_type": "code",
   "execution_count": 158,
   "metadata": {
    "collapsed": false
   },
   "outputs": [
    {
     "data": {
      "text/plain": [
       "(-1, 30)"
      ]
     },
     "execution_count": 158,
     "metadata": {},
     "output_type": "execute_result"
    },
    {
     "data": {
      "image/png": "[encoded data removed]",
      "text/plain": [
       "<matplotlib.figure.Figure at 0x7f6781710910>"
      ]
     },
     "metadata": {},
     "output_type": "display_data"
    }
   ],
   "source": [
    "pr_poisson[:30]\n",
    "plt.barh(range(30), [ val for label, val in sorted(pr_poisson[:30], key=lambda x:x[1]) ], height=0.7, left=0.1, align=\"center\")\n",
    "plt.rcdefaults()\n",
    "plt.yticks(range(30), [ label for label, val in sorted(pr_poisson[:30], key=lambda x:x[1]) ])\n",
    "plt.ylim([-1, 30])"
   ]
  },
  {
   "cell_type": "code",
   "execution_count": 140,
   "metadata": {
    "collapsed": false
   },
   "outputs": [
    {
     "data": {
      "text/plain": [
       "[0.012980602351740086,\n",
       " 0.012673955368215032,\n",
       " 0.012671557917089049,\n",
       " 0.012664193512631813,\n",
       " 0.012664056372381514,\n",
       " 0.01261238026125332,\n",
       " 0.012582467316346711,\n",
       " 0.01258235136897295,\n",
       " 0.012575172819276507,\n",
       " 0.012565645882351203,\n",
       " 0.012551432633921023,\n",
       " 0.012545439981559386,\n",
       " 0.012519196440057154,\n",
       " 0.012507505605027771,\n",
       " 0.012505627282289563,\n",
       " 0.012498934867264196,\n",
       " 0.012484510873463644,\n",
       " 0.012453448266078302,\n",
       " 0.012449962232595788,\n",
       " 0.012434431088937319]"
      ]
     },
     "execution_count": 140,
     "metadata": {},
     "output_type": "execute_result"
    }
   ],
   "source": [
    "[ val for label, val in pr_poisson[:20] ]"
   ]
  },
  {
   "cell_type": "code",
   "execution_count": 174,
   "metadata": {
    "collapsed": false
   },
   "outputs": [
    {
     "data": {
      "image/png": "[encoded data removed]",
      "text/plain": [
       "<matplotlib.figure.Figure at 0x7f6780fff610>"
      ]
     },
     "metadata": {},
     "output_type": "display_data"
    }
   ],
   "source": [
    "plt.rcParams['figure.figsize'] = (4,4)\n",
    "nodes = G_poisson.nodes()\n",
    "#nodes.remove('None of these')\n",
    "#nodes.remove('Old')\n",
    "nx.draw_networkx(G_poisson, font_size=10, nodelist=nodes, node_size=0, edgelist=[])"
   ]
  },
  {
   "cell_type": "code",
   "execution_count": null,
   "metadata": {
    "collapsed": true
   },
   "outputs": [],
   "source": []
  },
  {
   "cell_type": "code",
   "execution_count": null,
   "metadata": {
    "collapsed": true
   },
   "outputs": [],
   "source": []
  }
 ],
 "metadata": {
  "kernelspec": {
   "display_name": "Python 2",
   "language": "python",
   "name": "python2"
  },
  "language_info": {
   "codemirror_mode": {
    "name": "ipython",
    "version": 2
   },
   "file_extension": ".py",
   "mimetype": "text/x-python",
   "name": "python",
   "nbconvert_exporter": "python",
   "pygments_lexer": "ipython2",
   "version": "2.7.6"
  }
 },
 "nbformat": 4,
 "nbformat_minor": 0
}
