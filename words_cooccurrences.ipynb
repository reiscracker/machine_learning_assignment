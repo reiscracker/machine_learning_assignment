{
 "cells": [
  {
   "cell_type": "code",
   "execution_count": 3,
   "metadata": {
    "collapsed": true
   },
   "outputs": [],
   "source": [
    "import numpy as np\n",
    "import pandas as pd\n",
    "import matplotlib.pyplot as plt\n",
    "from IPython.display import display\n",
    "\n",
    "pd.set_option('display.mpl_style', 'default')\n",
    "plt.rcParams['figure.figsize'] = (150, 5)\n",
    "plt.rcParams['font.family'] = 'sans-serif'\n",
    "# Increase pandas width\n",
    "pd.set_option('display.width', 190)\n",
    "# Inline plots yay\n",
    "%matplotlib inline"
   ]
  },
  {
   "cell_type": "code",
   "execution_count": 4,
   "metadata": {
    "collapsed": true
   },
   "outputs": [],
   "source": [
    "words_file = 'words.csv'\n",
    "words_raw_data = pd.read_csv(words_file)"
   ]
  },
  {
   "cell_type": "code",
   "execution_count": 5,
   "metadata": {
    "collapsed": false
   },
   "outputs": [],
   "source": [
    "just_words = words_raw_data[words_raw_data.columns[5:]]\n",
    "just_words = just_words.fillna(0)"
   ]
  },
  {
   "cell_type": "markdown",
   "metadata": {},
   "source": [
    "## Extract Cooccurrences"
   ]
  },
  {
   "cell_type": "code",
   "execution_count": 69,
   "metadata": {
    "collapsed": false
   },
   "outputs": [],
   "source": [
    "def get_words(row):\n",
    "    \"\"\"Returns the list of the marted words in the given row\"\"\"\n",
    "    return [ ind for ind, val in enumerate(row) if val > 0 ]"
   ]
  },
  {
   "cell_type": "code",
   "execution_count": 70,
   "metadata": {
    "collapsed": false
   },
   "outputs": [],
   "source": [
    "cooccs = {}\n",
    "for row in just_words.values:\n",
    "    words = get_words(row)\n",
    "    for word in words:\n",
    "        try: \n",
    "            cooccs[word]\n",
    "        except KeyError:\n",
    "            cooccs[word] = {}\n",
    "        for coocc in words: \n",
    "            if coocc != word:     \n",
    "                try:\n",
    "                    cooccs[word][coocc] = cooccs[word][coocc] + 1\n",
    "                except KeyError:\n",
    "                    cooccs[word][coocc] = 1"
   ]
  },
  {
   "cell_type": "code",
   "execution_count": 76,
   "metadata": {
    "collapsed": true
   },
   "outputs": [],
   "source": [
    "def get_cooccurrences(column_index):\n",
    "    return cooccs[column_index]\n",
    "\n",
    "def get_cooccurrences_names(column_index):\n",
    "    return [ just_words.columns[i] for i in cooccs[column_index] ]"
   ]
  },
  {
   "cell_type": "code",
   "execution_count": 77,
   "metadata": {
    "collapsed": false
   },
   "outputs": [
    {
     "data": {
      "text/plain": [
       "['Aggressive',\n",
       " 'Edgy',\n",
       " 'Thoughtful',\n",
       " 'Serious',\n",
       " 'Good lyrics',\n",
       " 'Unattractive',\n",
       " 'Confident',\n",
       " 'Youthful',\n",
       " 'Boring',\n",
       " 'Current',\n",
       " 'Stylish',\n",
       " 'Cheap',\n",
       " 'Irrelevant',\n",
       " 'Calm',\n",
       " 'Outgoing',\n",
       " 'Inspiring',\n",
       " 'Beautiful',\n",
       " 'Fun',\n",
       " 'Authentic',\n",
       " 'Credible',\n",
       " 'Cool',\n",
       " 'Catchy',\n",
       " 'Sensitive',\n",
       " 'Mainstream',\n",
       " 'Superficial',\n",
       " 'Annoying',\n",
       " 'Passionate',\n",
       " 'Not authentic',\n",
       " 'Timeless',\n",
       " 'Depressing',\n",
       " 'Original',\n",
       " 'Talented',\n",
       " 'Distinctive',\n",
       " 'Approachable',\n",
       " 'Trendsetter',\n",
       " 'Noisy',\n",
       " 'Upbeat',\n",
       " 'Relatable',\n",
       " 'Energetic',\n",
       " 'Sexy',\n",
       " 'Over',\n",
       " 'Fake',\n",
       " 'Cheesy',\n",
       " 'Superstar',\n",
       " 'Intrusive',\n",
       " 'Unoriginal',\n",
       " 'Dated',\n",
       " 'Unapproachable',\n",
       " 'Classic',\n",
       " 'Playful',\n",
       " 'Arrogant',\n",
       " 'Warm']"
      ]
     },
     "execution_count": 77,
     "metadata": {},
     "output_type": "execute_result"
    }
   ],
   "source": [
    "get_cooccurrences_names(0)"
   ]
  },
  {
   "cell_type": "code",
   "execution_count": null,
   "metadata": {
    "collapsed": true
   },
   "outputs": [],
   "source": []
  }
 ],
 "metadata": {
  "kernelspec": {
   "display_name": "Python 2",
   "language": "python",
   "name": "python2"
  },
  "language_info": {
   "codemirror_mode": {
    "name": "ipython",
    "version": 2
   },
   "file_extension": ".py",
   "mimetype": "text/x-python",
   "name": "python",
   "nbconvert_exporter": "python",
   "pygments_lexer": "ipython2",
   "version": "2.7.6"
  }
 },
 "nbformat": 4,
 "nbformat_minor": 0
}
